{
  "cells": [
    {
      "cell_type": "markdown",
      "metadata": {
        "id": "view-in-github",
        "colab_type": "text"
      },
      "source": [
        "<a href=\"https://colab.research.google.com/github/mrhallonline/NLP-Workshop/blob/main/Module_2_Workshop_Setting_Up_Natural_Language_Toolkit_(NLTK)_V3.ipynb\" target=\"_parent\"><img src=\"https://colab.research.google.com/assets/colab-badge.svg\" alt=\"Open In Colab\"/></a>"
      ]
    },
    {
      "cell_type": "markdown",
      "source": [
        "# 2.0 Setting Up (?? minutes)\n",
        "\n",
        "Click below to install the libraries:\n",
        "1. NLTK\n",
        "2.   [Matplotlib](https://matplotlib.org/) library: Library for creating data visualizations.\n",
        "3.   [Gensim](https://pypi.org/project/gensim/) library: Natural language processing tool\n",
        "4.   [PyPDF2](https://pypdf2.readthedocs.io/en/3.0.0/index.html#) library: NLTK normally works with text files, PyPDF2 will allow you to read, write, convert to text, and merge pdf files\n",
        "5. Numpy\n",
        "6. Pandas\n",
        "\n",
        "\n",
        "\n",
        "###Google Colab is similar in usage to software like RStudio allowing you to run chunks or cells at a time. Click in this next code cell. An output should appear under it listing the version of python used in this Colab notebook."
      ],
      "metadata": {
        "id": "gE_RM-qcfLwU"
      }
    },
    {
      "cell_type": "code",
      "source": [
        "!python --version"
      ],
      "metadata": {
        "id": "KSIYEGtMy7Vj",
        "colab": {
          "base_uri": "https://localhost:8080/"
        },
        "outputId": "2c3fb06d-bbec-41a5-d096-9be67c5233b5"
      },
      "execution_count": 20,
      "outputs": [
        {
          "output_type": "stream",
          "name": "stdout",
          "text": [
            "Python 3.10.12\n"
          ]
        }
      ]
    },
    {
      "cell_type": "markdown",
      "metadata": {
        "id": "73VqKds77kv5"
      },
      "source": [
        "## 2.1 Installing NLTK supporting dependencies and libraries.\n",
        "Once we know that python is running you can click the following code cell to automatically download and install NLTK and the dependencies that we will be using throughout this workshop. Don't worry if you have already installed it prior to this. If installed you will see the output mention \"Requirement already satisfied:\"\n"
      ]
    },
    {
      "cell_type": "code",
      "execution_count": null,
      "metadata": {
        "id": "7Vu9Lmbv8gKG"
      },
      "outputs": [],
      "source": [
        "!pip install nltk\n",
        "!pip install matplotlib\n",
        "!pip install gensim\n",
        "!pip install PyPDF2\n",
        "!pip install numpy\n",
        "!pip install pandas"
      ]
    },
    {
      "cell_type": "markdown",
      "source": [
        "# 2.2 Importing NLTK and popular corpora\n",
        "\n",
        "NLTK has access to a wide range of text and audio corpora that can be easily viewed and analyzed if you are ever in need of data to mess around with. We wont spend time with it today but clicking on the following code cell will import nltk and download the most widely used corpora. This \"import nltk\" code is needed to be run at least once but can be placed at the head of any code cell just to be certain."
      ],
      "metadata": {
        "id": "LfASyDjBx-fT"
      }
    },
    {
      "cell_type": "code",
      "source": [
        "import nltk\n",
        "nltk.download('popular')"
      ],
      "metadata": {
        "id": "F6LNgYKOx4wl"
      },
      "execution_count": null,
      "outputs": []
    },
    {
      "cell_type": "markdown",
      "metadata": {
        "id": "JD_f-gjP4cmC"
      },
      "source": [
        "## 2.3  Connecting/Mounting your Google drive to be accessible in Google Colab\n",
        "\n",
        "Click the following cell to connect the current Google Colab notebook to you Google Drive to save and access data. This connection is temporary and you will need to connect again after some passage of time without usage. If after some time you run into errors stating files can't be found, clicking this again would make sure the connection is still live.\n",
        "\n",
        "#### When clicked, the output will let you know if the drive is already mounted, if not it will ask for your authorization to connect to Drive"
      ]
    },
    {
      "cell_type": "code",
      "execution_count": null,
      "metadata": {
        "colab": {
          "base_uri": "https://localhost:8080/"
        },
        "id": "Oluf846u38Ey",
        "outputId": "5c189de1-15c6-4e20-f910-8312a927bde2"
      },
      "outputs": [
        {
          "output_type": "stream",
          "name": "stdout",
          "text": [
            "Mounted at /content/drive\n"
          ]
        }
      ],
      "source": [
        "from google.colab import drive\n",
        "drive.mount('/content/drive')"
      ]
    },
    {
      "cell_type": "markdown",
      "metadata": {
        "id": "VB6YY4rns_7b"
      },
      "source": [
        "# 2.4 Importing the Google Sheets file containing our raw transcript corpus to be used in Google Colab.\n",
        "Clicking the next code cell will automatically download the csv file containing our data corpus and save it locally as an Excel file in Google Drive so it can be accessed by this Colab document. You can use this same code to download any file that you have sharing access with, simply change the file_id with the new one in line 7 and changing the filename and/or filetype in line 16.\n",
        "\n",
        "\n",
        "#### The file will show in your folder several seconds after running the code cell\n",
        "\n",
        "#### This is also temporary unless saved directly in your Google Drive."
      ]
    },
    {
      "cell_type": "code",
      "execution_count": null,
      "metadata": {
        "id": "K6M3iUIqz3jA"
      },
      "outputs": [],
      "source": [
        "import requests\n",
        "\n",
        "# This is the full shared Drive link,\n",
        "# https://docs.google.com/spreadsheets/d/1iJ4SG-QXfY4zw5K9B7Ununv3rb3iBj8S/edit?usp=drive_link&ouid=106477043869312333876&rtpof=true&sd=true\n",
        "\n",
        "# get the file ID from the shareable link and paste below\n",
        "file_id = \"1iJ4SG-QXfY4zw5K9B7Ununv3rb3iBj8S\"\n",
        "\n",
        "# construct the download URL\n",
        "download_url = f\"https://docs.google.com/uc?export=download&id={file_id}\"\n",
        "\n",
        "# send a GET request to the download URL and save the response content\n",
        "response = requests.get(download_url)\n",
        "\n",
        "# The next line names the file after download. If you change it here, you will also need to change in the subsequent fields.\n",
        "with open(\"uncertaintyText.xlsx\", \"wb\") as f:\n",
        "    f.write(response.content)"
      ]
    },
    {
      "cell_type": "markdown",
      "metadata": {
        "id": "1FhS-iBrvsYC"
      },
      "source": [
        "# 2.5 Working with csv Files\n",
        "\n",
        "Now that the csv file is locally accessible, clicking this code cell will open the Excel file called uncertaintyText.xlsx found in the content folder and copy each row of text found in the column titled \"transcript\" and write that data to a text file called \"raw_uncertaintyText.txt and save it in your Google Drive instead of the temporary cloud folder.\n",
        "###Importantly, the whole text corpus is also saved in a variable called raw_uncertaintyText, which is what we will be working with as our raw unprocessed \"uncertainty\" data as we move forward. The text file is only needed if we need to do this process again."
      ]
    },
    {
      "cell_type": "code",
      "execution_count": null,
      "metadata": {
        "id": "4Vqwl-fQv3lt"
      },
      "outputs": [],
      "source": [
        "!pip install pandas openpyxl nltk\n",
        "\n",
        "import pandas as pd\n",
        "import nltk\n",
        "from nltk.tokenize import word_tokenize\n",
        "nltk.download('punkt')\n",
        "\n",
        "# Specify the path to the Excel file\n",
        "excel_file_path = '/content/uncertaintyText.xlsx'\n",
        "\n",
        "# Specify the column name you want to tokenize\n",
        "column_name = 'transcript'\n",
        "\n",
        "# Read the Excel file and extract the specified column\n",
        "data = pd.read_excel(excel_file_path, engine='openpyxl')\n",
        "text_column = data[column_name]\n",
        "\n",
        "\n",
        "# Convert each item in the column to a string and then join them\n",
        "raw_uncertaintyText = ' '.join(map(str, text_column))\n",
        "\n",
        "\n",
        "# Save the string to a text file in your Google Drive\n",
        "with open('/content/drive/MyDrive/raw_uncertaintyText.txt', 'w') as file:\n",
        "  file.write(raw_uncertaintyText)\n",
        "\n",
        "print(\"Text saved to raw_uncertaintyText.txt\")\n",
        "print(raw_uncertaintyText[0:250])"
      ]
    },
    {
      "cell_type": "markdown",
      "metadata": {
        "id": "UxXvUGHZ2b7g"
      },
      "source": [
        "# 2.6 Working directly from Text Files\n",
        "Text files can be used directly and don't need to be converted in order to be imported into NLTK. Many other file types, other than raw text and downloaded corpora, will need to be first initially converted to text files in order to be used in our NLTK data flow. Use the following code cell if you want to load your data directly from a text file without need to convert from csv or pdf for example."
      ]
    },
    {
      "cell_type": "code",
      "execution_count": 37,
      "metadata": {
        "id": "lZ7Ug5kv2acW"
      },
      "outputs": [],
      "source": [
        "import nltk\n",
        "\n",
        "# load data from existing text file\n",
        "filename = '/content/drive/MyDrive/raw_uncertaintyText.txt'\n",
        "uncertaintyText = open(filename, 'rt', encoding='utf-8', errors='replace')\n",
        "\n",
        "raw_uncertaintyText = uncertaintyText.read()\n",
        "uncertaintyText.close()\n",
        "\n",
        "# Word Tokenization\n",
        "uncertainty_wordTokens = nltk.word_tokenize(raw_uncertaintyText)\n",
        "\n",
        "# Creating a Text object from the tokens\n",
        "uncertainty_wordTextObjects = nltk.Text(uncertainty_wordTokens)\n"
      ]
    },
    {
      "cell_type": "markdown",
      "source": [
        "# 2.7 Basic information about the data corpus\n",
        "\n",
        "From the original csv file located in my Google Drive, you have now created 5 documents:\n",
        "\n",
        "1. Excel File = uncertaintyText.xlsx\n",
        "2. Text File = raw_uncertaintyText.txt\n",
        "3. Uncertainty text variable = raw_uncertaintyText\n",
        "4. Uncertainty text as word tokens = uncertainty_wordTokens\n",
        "\n",
        "If you run the code cell below you can notice some differences between the documents. The differences are unimportant but it is important to know that you can always figure out what type of data corpus you are dealing with by running these print checks. It is also extremely important to also note the importance of keeping your documents categorized, lest they get out of control.\n",
        "* We will look at the utility of numbers 3 and 4 in the next module using some of the features of natural language processing using NLTK."
      ],
      "metadata": {
        "id": "rzYxRbGsWVWi"
      }
    },
    {
      "cell_type": "code",
      "source": [
        "print(\"Number 3 is a: \",type(raw_uncertaintyText))\n",
        "print(\"Number 4 is a: \",type(uncertainty_wordTokens))\n",
        "print(\"Number 5 is a: \",type(uncertainty_wordTextObjects))\n",
        "\n",
        "print(\"Number of characters in number 3 is: \",len(raw_uncertaintyText))\n",
        "print(\"Number of characters in number 4 is: \",len(uncertainty_wordTokens))\n",
        "print(\"Number of characters in number 5 is: \",len(uncertainty_wordTextObjects))\n",
        "\n",
        "print(\"Here are the first 100 characters in number 3: \",raw_uncertaintyText[0:100])\n",
        "print(\"Here are the first 100 characters in number 4: \",uncertainty_wordTokens[0:100])\n",
        "print(\"Here are the first 100 characters in number 5: \",uncertainty_wordTextObjects[0:100])"
      ],
      "metadata": {
        "id": "TmQmWaWn2Lzj",
        "colab": {
          "base_uri": "https://localhost:8080/"
        },
        "outputId": "755401f9-7dcb-4305-87c7-e1fe9fa6a19c"
      },
      "execution_count": 39,
      "outputs": [
        {
          "output_type": "stream",
          "name": "stdout",
          "text": [
            "Number 3 is a:  <class 'str'>\n",
            "Number 4 is a:  <class 'list'>\n",
            "Number 5 is a:  <class 'nltk.text.Text'>\n",
            "Number of characters in number 3 is:  66207\n",
            "Number of characters in number 4 is:  16771\n",
            "Number of characters in number 5 is:  16771\n",
            "Here are the first 200 characters in number 3:  It's table 6, right? I think so. Always go with basic assumptions. Unless it's about someone in that\n",
            "Here are the first 200 characters in number 4:  ['It', \"'s\", 'table', '6', ',', 'right', '?', 'I', 'think', 'so', '.', 'Always', 'go', 'with', 'basic', 'assumptions', '.', 'Unless', 'it', \"'s\", 'about', 'someone', 'in', 'that', 'case', ',', 'do', \"n't\", '.', 'Eric', '.', 'Yes', '.', 'I', \"'ve\", 'been', 'sitting', 'with', 'you', '.', 'Do', \"n't\", 'like', 'it', 'because', 'we', \"'re\", 'right', 'in', 'front', 'of', 'Ms.', 'Fletcher', '.', 'But', 'it', \"'s\", 'okay', '.', 'You', 'can', 'live', 'with', 'it', '.', 'Did', 'you', '...', 'did', 'you', 'do', 'the', 'search', '?', 'Yes', '.', 'It', \"'s\", 'for', 'next', 'class', '.', 'I', 'know', ',', 'I', 'found', 'out', '.', 'I', \"'m\", 'so', 'mad', 'because', 'we', \"'re\", 'not', 'going', 'to', 'be']\n",
            "Here are the first 200 characters in number 5:  ['It', \"'s\", 'table', '6', ',', 'right', '?', 'I', 'think', 'so', '.', 'Always', 'go', 'with', 'basic', 'assumptions', '.', 'Unless', 'it', \"'s\", 'about', 'someone', 'in', 'that', 'case', ',', 'do', \"n't\", '.', 'Eric', '.', 'Yes', '.', 'I', \"'ve\", 'been', 'sitting', 'with', 'you', '.', 'Do', \"n't\", 'like', 'it', 'because', 'we', \"'re\", 'right', 'in', 'front', 'of', 'Ms.', 'Fletcher', '.', 'But', 'it', \"'s\", 'okay', '.', 'You', 'can', 'live', 'with', 'it', '.', 'Did', 'you', '...', 'did', 'you', 'do', 'the', 'search', '?', 'Yes', '.', 'It', \"'s\", 'for', 'next', 'class', '.', 'I', 'know', ',', 'I', 'found', 'out', '.', 'I', \"'m\", 'so', 'mad', 'because', 'we', \"'re\", 'not', 'going', 'to', 'be']\n"
          ]
        }
      ]
    },
    {
      "cell_type": "markdown",
      "source": [
        "# 2.8 Messing Around With Concordance and Text Objects\n",
        "##Anonymizing data corpus\n"
      ],
      "metadata": {
        "id": "l_XqYn45ViUB"
      }
    },
    {
      "cell_type": "markdown",
      "source": [
        "### 2.81 Searching for names"
      ],
      "metadata": {
        "id": "ksmfDUm3qyb3"
      }
    },
    {
      "cell_type": "code",
      "source": [
        "import nltk\n",
        "from nltk.text import Text\n",
        "\n",
        "\n",
        "uncertainty_textObjects.concordance(\"felix\", lines = 25, width=200)"
      ],
      "metadata": {
        "colab": {
          "base_uri": "https://localhost:8080/"
        },
        "id": "KJWgrmZ6Yk1U",
        "outputId": "25d1f5ac-309d-4171-f974-1ace48fd188e"
      },
      "execution_count": 70,
      "outputs": [
        {
          "output_type": "stream",
          "name": "stdout",
          "text": [
            "Displaying 3 of 3 matches:\n",
            "u 're going to want to use that word a lot . That 's too slow to hit this . All right . Thanks , Felix . I guess Nate , what 'd you miss ? So the same trick that I had all the answers fitting out rig\n",
            "t right next to each other , I 'm going to put both of them in the equation itself . Anyway , as Felix found , the answer found is in here , 4.62 . But this can also be attributed to , since we know \n",
            "e exactly ? I mean , it 's one radian , but what else is it exactly ? Yeah . Yeah , what is it , Felix ? It 's 57.29577 . Is that exact ? Still getting me the decimal point . I was just looking for l\n"
          ]
        }
      ]
    },
    {
      "cell_type": "markdown",
      "source": [
        "### 2.82 Replacing names"
      ],
      "metadata": {
        "id": "NgSD4Tfwhfzk"
      }
    },
    {
      "cell_type": "code",
      "source": [
        "replace_dict = {\n",
        "    'Eric': 'Steven',\n",
        "    'Felix': 'Jason'\n",
        "}\n",
        "\n",
        "# Replace words in your original token list\n",
        "names_uncertainty_wordTokens = [replace_dict.get(word, word) for word in uncertainty_wordTokens]\n",
        "\n",
        "# You can directly create a Text object from the tokens for concordance\n",
        "text_obj = Text(names_uncertainty_wordTokens)\n",
        "\n",
        "# Check replacements with concordance\n",
        "text_obj.concordance('felix')\n",
        "text_obj.concordance('eric')\n",
        "text_obj.concordance('Steven')\n",
        "text_obj.concordance('Jason')"
      ],
      "metadata": {
        "colab": {
          "base_uri": "https://localhost:8080/"
        },
        "id": "56XRmo6CmT0z",
        "outputId": "c97d2413-a9af-4531-edee-5ee5fd35324a"
      },
      "execution_count": 72,
      "outputs": [
        {
          "output_type": "stream",
          "name": "stdout",
          "text": [
            "no matches\n",
            "no matches\n",
            "Displaying 4 of 4 matches:\n",
            "out someone in that case , do n't . Steven . Yes . I 've been sitting with you\n",
            "w what to do with it . According to Steven , there 's no solutions . Yeah , th\n",
            " supposed to solve for X . What did Steven say ? There 's no solutions . Steve\n",
            "teven say ? There 's no solutions . Steven 's wrong . But look at the graph . \n",
            "Displaying 3 of 3 matches:\n",
            "w to hit this . All right . Thanks , Jason . I guess Nate , what 'd you miss ? \n",
            "in the equation itself . Anyway , as Jason found , the answer found is in here \n",
            "exactly ? Yeah . Yeah , what is it , Jason ? It 's 57.29577 . Is that exact ? S\n"
          ]
        }
      ]
    }
  ],
  "metadata": {
    "colab": {
      "provenance": [],
      "include_colab_link": true
    },
    "kernelspec": {
      "display_name": "Python 3",
      "name": "python3"
    },
    "language_info": {
      "name": "python"
    }
  },
  "nbformat": 4,
  "nbformat_minor": 0
}