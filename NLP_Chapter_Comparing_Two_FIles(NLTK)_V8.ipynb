{
  "cells": [
    {
      "cell_type": "markdown",
      "metadata": {
        "id": "view-in-github",
        "colab_type": "text"
      },
      "source": [
        "<a href=\"https://colab.research.google.com/github/mrhallonline/NLP-Workshop/blob/main/NLP_Chapter_Comparing_Two_FIles(NLTK)_V8.ipynb\" target=\"_parent\"><img src=\"https://colab.research.google.com/assets/colab-badge.svg\" alt=\"Open In Colab\"/></a>"
      ]
    },
    {
      "cell_type": "markdown",
      "metadata": {
        "id": "84MV9UII4dx3"
      },
      "source": [
        "# 1 Installing NLTK and Python supporting dependencies, packages and libraries"
      ]
    },
    {
      "cell_type": "code",
      "execution_count": null,
      "metadata": {
        "id": "XI7nACAi40E3"
      },
      "outputs": [],
      "source": [
        "# Clicking the code cell play button below will download and install all the following libraries\n",
        "# This normally takes around ~1 minute and each step will show up in the output below.\n",
        "%pip install nltk\n",
        "%pip install requests\n",
        "%pip install matplotlib\n",
        "%pip install numpy\n",
        "%pip install pandas"
      ]
    },
    {
      "cell_type": "markdown",
      "source": [
        "# Import Early Text file locally"
      ],
      "metadata": {
        "id": "Gb40Fwla2hVI"
      }
    },
    {
      "cell_type": "code",
      "source": [
        "import requests\n",
        "\n",
        "# File ID from Google Drive\n",
        "early = \"1ggtD_CWqLUo_wRbyERwhR8j1rcPjD6ln\"\n",
        "\n",
        "# Construct the download URL\n",
        "download_url1 = f\"https://docs.google.com/uc?export=download&id={early}\"\n",
        "\n",
        "# Send a GET request to the download URL\n",
        "response1 = requests.get(download_url1)\n",
        "\n",
        "# Check if the request was successful\n",
        "if response1.status_code == 200:\n",
        "    # Define local filename to save the content\n",
        "    local_file_name = \"/content/early_editorials_merged_file.txt\"\n",
        "\n",
        "    # Write the content to a local file as text\n",
        "    with open(local_file_name, \"w\", encoding='utf-8') as f:\n",
        "        f.write(response1.text)\n",
        "\n",
        "    print(f\"File downloaded and saved as {local_file_name}\")\n",
        "else:\n",
        "    print(\"Failed to download the file. Check the URL and permissions.\")\n"
      ],
      "metadata": {
        "colab": {
          "base_uri": "https://localhost:8080/"
        },
        "id": "F0PlM05w2l0j",
        "outputId": "ce274915-d3ce-4311-d5f5-ddbc54e95ab9"
      },
      "execution_count": 16,
      "outputs": [
        {
          "output_type": "stream",
          "name": "stdout",
          "text": [
            "File downloaded and saved as /content/early_editorials_merged_file.txt\n"
          ]
        }
      ]
    },
    {
      "cell_type": "markdown",
      "source": [
        "# Import Late Text file locally"
      ],
      "metadata": {
        "id": "JWbF37ut6gdu"
      }
    },
    {
      "cell_type": "code",
      "source": [
        "import requests\n",
        "\n",
        "# File ID from Google Drive\n",
        "late = \"1yTpK4NOxz0LBh-oFwpiz2GC5Xi9rt11V\"\n",
        "\n",
        "# Construct the download URL\n",
        "download_url = f\"https://docs.google.com/uc?export=download&id={late}\"\n",
        "\n",
        "# Send a GET request to the download URL\n",
        "response = requests.get(download_url)\n",
        "\n",
        "# Check if the request was successful\n",
        "if response.status_code == 200:\n",
        "    # Define local filename to save the content\n",
        "    local_file_name = \"/content/lat_editorials_merged_file.txt\"\n",
        "\n",
        "    # Write the content to a local file as text\n",
        "    with open(local_file_name, \"w\", encoding='utf-8') as f:\n",
        "        f.write(response.text)\n",
        "\n",
        "    print(f\"File downloaded and saved as {local_file_name}\")\n",
        "else:\n",
        "    print(\"Failed to download the file. Check the URL and permissions.\")\n"
      ],
      "metadata": {
        "colab": {
          "base_uri": "https://localhost:8080/"
        },
        "id": "j_ovCIyP6j6-",
        "outputId": "753b78f0-8fcf-4c74-cb17-d7988e911e87"
      },
      "execution_count": 20,
      "outputs": [
        {
          "output_type": "stream",
          "name": "stdout",
          "text": [
            "File downloaded and saved as /content/lat_editorials_merged_file.txt\n"
          ]
        }
      ]
    },
    {
      "cell_type": "markdown",
      "metadata": {
        "id": "OnajAU87ukO9"
      },
      "source": [
        "# 2. All in One Combined text import and tokenization Normalizer\n",
        "# Comparing merged files\n",
        "# Make two sets of data for comparision early vs. late using a function\n",
        "Needs to be done from the two raw files in the folder at the same level as the notebook file\n",
        "filename_early = 'early_editorials_merged_file.txt'\n",
        "filename_late = 'late_editorials_merged_file.txt'\n",
        "\n",
        "\n",
        "\n",
        "\n"
      ]
    },
    {
      "cell_type": "code",
      "execution_count": 21,
      "metadata": {
        "colab": {
          "base_uri": "https://localhost:8080/",
          "height": 401
        },
        "id": "ED2_4r6hukO_",
        "outputId": "a6ad0b39-11d4-4202-d8e5-f6cfa51211e1"
      },
      "outputs": [
        {
          "output_type": "stream",
          "name": "stderr",
          "text": [
            "[nltk_data] Downloading package punkt to /root/nltk_data...\n",
            "[nltk_data]   Package punkt is already up-to-date!\n",
            "[nltk_data] Downloading package stopwords to /root/nltk_data...\n",
            "[nltk_data]   Package stopwords is already up-to-date!\n"
          ]
        },
        {
          "output_type": "stream",
          "name": "stdout",
          "text": [
            "Error: The file '/content/early_editorials_merged_file.txt' was not found. Check the file path.\n",
            "Error: The file '/content/late_editorials_merged_file.txt' was not found. Check the file path.\n",
            "Early File:\n",
            "Number of cleaned sentences: 0\n",
            "Number of word tokens: 0\n"
          ]
        },
        {
          "output_type": "error",
          "ename": "TypeError",
          "evalue": "object of type 'NoneType' has no len()",
          "traceback": [
            "\u001b[0;31m---------------------------------------------------------------------------\u001b[0m",
            "\u001b[0;31mTypeError\u001b[0m                                 Traceback (most recent call last)",
            "\u001b[0;32m<ipython-input-21-57440f4762b0>\u001b[0m in \u001b[0;36m<cell line: 81>\u001b[0;34m()\u001b[0m\n\u001b[1;32m     79\u001b[0m \u001b[0mprint\u001b[0m\u001b[0;34m(\u001b[0m\u001b[0;34m\"Number of cleaned sentences:\"\u001b[0m\u001b[0;34m,\u001b[0m \u001b[0mlen\u001b[0m\u001b[0;34m(\u001b[0m\u001b[0mcleaned_early_sentences\u001b[0m\u001b[0;34m)\u001b[0m\u001b[0;34m)\u001b[0m\u001b[0;34m\u001b[0m\u001b[0;34m\u001b[0m\u001b[0m\n\u001b[1;32m     80\u001b[0m \u001b[0mprint\u001b[0m\u001b[0;34m(\u001b[0m\u001b[0;34m\"Number of word tokens:\"\u001b[0m\u001b[0;34m,\u001b[0m \u001b[0mlen\u001b[0m\u001b[0;34m(\u001b[0m\u001b[0mearly_word_tokens\u001b[0m\u001b[0;34m)\u001b[0m\u001b[0;34m)\u001b[0m\u001b[0;34m\u001b[0m\u001b[0;34m\u001b[0m\u001b[0m\n\u001b[0;32m---> 81\u001b[0;31m \u001b[0mprint\u001b[0m\u001b[0;34m(\u001b[0m\u001b[0;34m\"Number of text objects:\"\u001b[0m\u001b[0;34m,\u001b[0m \u001b[0mlen\u001b[0m\u001b[0;34m(\u001b[0m\u001b[0mearly_text_objects\u001b[0m\u001b[0;34m)\u001b[0m\u001b[0;34m)\u001b[0m\u001b[0;34m\u001b[0m\u001b[0;34m\u001b[0m\u001b[0m\n\u001b[0m\u001b[1;32m     82\u001b[0m \u001b[0mprint\u001b[0m\u001b[0;34m(\u001b[0m\u001b[0;34m\"Early removed elements:\"\u001b[0m\u001b[0;34m,\u001b[0m \u001b[0mearly_removed\u001b[0m\u001b[0;34m)\u001b[0m\u001b[0;34m\u001b[0m\u001b[0;34m\u001b[0m\u001b[0m\n\u001b[1;32m     83\u001b[0m \u001b[0;34m\u001b[0m\u001b[0m\n",
            "\u001b[0;31mTypeError\u001b[0m: object of type 'NoneType' has no len()"
          ]
        }
      ],
      "source": [
        "import os\n",
        "import nltk\n",
        "import string\n",
        "from nltk.corpus import stopwords\n",
        "from nltk.tokenize import word_tokenize, sent_tokenize\n",
        "\n",
        "nltk.download('punkt')\n",
        "nltk.download('stopwords')\n",
        "\n",
        "# Function to process a file\n",
        "def process_file(filename, output_filename):\n",
        "    try:\n",
        "        # Open and read the text file\n",
        "        with open(filename, 'rt', encoding='utf-8', errors='replace') as file:\n",
        "            raw_text = file.read()\n",
        "\n",
        "        # Sentence tokenization from raw text\n",
        "        sent_tokens = sent_tokenize(raw_text)\n",
        "\n",
        "        # Containers for cleaned data\n",
        "        cleaned_sent_tokens = []\n",
        "        removed_elements = {'punctuation': [], 'non_alpha': [], 'stop_words': []}\n",
        "\n",
        "        # Process each sentence\n",
        "        for sentence in sent_tokens:\n",
        "            # Convert to lower case\n",
        "            words = word_tokenize(sentence.lower())\n",
        "\n",
        "            # Remove non-alphabetic tokens and filter out stop words\n",
        "            cleaned_words = []\n",
        "            for word in words:\n",
        "                if word.isalpha():\n",
        "                    if word not in stopwords.words('english'):\n",
        "                        cleaned_words.append(word)\n",
        "                    else:\n",
        "                        removed_elements['stop_words'].append(word)\n",
        "                else:\n",
        "                    removed_elements['non_alpha'].append(word)\n",
        "                    if any(char in string.punctuation for char in word):\n",
        "                        removed_elements['punctuation'].append(word)\n",
        "\n",
        "            # Join the cleaned words back into a sentence\n",
        "            cleaned_sentence = ' '.join(cleaned_words)\n",
        "            cleaned_sent_tokens.append(cleaned_sentence)\n",
        "\n",
        "        # Write the cleaned sentences to the file\n",
        "        os.makedirs(os.path.dirname(output_filename), exist_ok=True)\n",
        "        with open(output_filename, 'w', encoding='utf-8') as file:\n",
        "            for sentence in cleaned_sent_tokens:\n",
        "                file.write(sentence + '\\n')\n",
        "\n",
        "        # Generate word tokens and text objects from cleaned sentences\n",
        "        cleaned_text = ' '.join(cleaned_sent_tokens)\n",
        "        word_tokens = word_tokenize(cleaned_text)\n",
        "        text_objects = nltk.Text(word_tokens)\n",
        "\n",
        "        return cleaned_sent_tokens, word_tokens, text_objects, removed_elements\n",
        "\n",
        "    except FileNotFoundError:\n",
        "        print(f\"Error: The file '{filename}' was not found. Check the file path.\")\n",
        "        return [], [], None, None\n",
        "    except Exception as e:\n",
        "        print(f\"An error occurred: {e}\")\n",
        "        return [], [], None, None\n",
        "\n",
        "# File paths and output paths\n",
        "filename_early = '/content/early_editorials_merged_file.txt'\n",
        "output_early = 'editorials\\\\normalized_early_GSQ_text.txt'\n",
        "\n",
        "filename_late = '/content/late_editorials_merged_file.txt'\n",
        "output_late = 'editorials\\\\normalized_early_GSQ_text.txt'\n",
        "\n",
        "# Process each file\n",
        "cleaned_early_sentences, early_word_tokens, early_text_objects, early_removed = process_file(filename_early, output_early)\n",
        "cleaned_late_sentences, late_word_tokens, late_text_objects, late_removed = process_file(filename_late, output_late)\n",
        "\n",
        "# Output results\n",
        "print(\"Early File:\")\n",
        "print(\"Number of cleaned sentences:\", len(cleaned_early_sentences))\n",
        "print(\"Number of word tokens:\", len(early_word_tokens))\n",
        "print(\"Number of text objects:\", len(early_text_objects))\n",
        "print(\"Early removed elements:\", early_removed)\n",
        "\n",
        "print(\"\\nLate File:\")\n",
        "print(\"Number of cleaned sentences:\", len(cleaned_late_sentences))\n",
        "print(\"Number of word tokens:\", len(late_word_tokens))\n",
        "print(\"Number of text objects:\", len(late_text_objects))\n",
        "print(\"Late removed elements:\", late_removed)\n"
      ]
    },
    {
      "cell_type": "code",
      "source": [
        "from google.colab import drive\n",
        "drive.mount('/content/drive')"
      ],
      "metadata": {
        "colab": {
          "base_uri": "https://localhost:8080/"
        },
        "id": "cGnfS4WqxxV6",
        "outputId": "8e8a2b20-a531-44a6-9e91-e6dc8091120d"
      },
      "execution_count": null,
      "outputs": [
        {
          "output_type": "stream",
          "name": "stdout",
          "text": [
            "Mounted at /content/drive\n"
          ]
        }
      ]
    },
    {
      "cell_type": "markdown",
      "metadata": {
        "id": "FuUxAY-SukPA"
      },
      "source": [
        "# 5. Exploratory Data Analysis (EDA)"
      ]
    },
    {
      "cell_type": "markdown",
      "metadata": {
        "id": "0bPkAf5JukPA"
      },
      "source": [
        "Token Frequency Analysis"
      ]
    },
    {
      "cell_type": "markdown",
      "metadata": {
        "id": "Z0KqEMTkukPA"
      },
      "source": [
        "# TFA1 Average sentence length"
      ]
    },
    {
      "cell_type": "code",
      "execution_count": null,
      "metadata": {
        "id": "mDfhwJHkukPA",
        "outputId": "577381d8-cf4a-4173-85d4-069baf0567fb"
      },
      "outputs": [
        {
          "name": "stdout",
          "output_type": "stream",
          "text": [
            "Early File:\n",
            "Number of sentences: 284\n",
            "Number of word tokens: 3144\n",
            "Average sentence length for early is: 11.070422535211268\n",
            "\n",
            "Late File:\n",
            "Number of sentences: 287\n",
            "Number of word tokens: 3240\n",
            "Average sentence length for early is: 11.289198606271777\n"
          ]
        }
      ],
      "source": [
        "print(\"Early File:\")\n",
        "print(\"Number of sentences:\", len(cleaned_early_sentences))\n",
        "print(\"Number of word tokens:\", len(early_word_tokens))\n",
        "# Calculate the average sentence length\n",
        "average_sentence_length_early = len(early_word_tokens) / len(cleaned_early_sentences)\n",
        "print(\"Average sentence length for early is:\", average_sentence_length_early)\n",
        "\n",
        "print(\"\\nLate File:\")\n",
        "print(\"Number of sentences:\", len(cleaned_late_sentences))\n",
        "print(\"Number of word tokens:\", len(late_word_tokens))\n",
        "# Calculate the average sentence length\n",
        "average_sentence_length_late = len(late_word_tokens) / len(cleaned_late_sentences)\n",
        "print(\"Average sentence length for early is:\", average_sentence_length_late)\n",
        "\n"
      ]
    },
    {
      "cell_type": "markdown",
      "metadata": {
        "id": "gjBpoxrqukPA"
      },
      "source": [
        "# TFA2 Word frequency distributions"
      ]
    },
    {
      "cell_type": "code",
      "execution_count": null,
      "metadata": {
        "id": "Tb0pUgymukPA",
        "outputId": "983f052e-54e1-42bc-b399-944949561d7c"
      },
      "outputs": [
        {
          "name": "stdout",
          "output_type": "stream",
          "text": [
            "Most common words in early file: [('science', 199), ('general', 108), ('school', 67), ('teachers', 53), ('high', 49), ('one', 32), ('education', 28), ('new', 28), ('course', 25), ('college', 24), ('year', 22), ('university', 22), ('elementary', 20), ('work', 19), ('teaching', 17), ('courses', 16), ('schools', 16), ('special', 15), ('junior', 15), ('may', 15), ('physics', 14), ('club', 14), ('pupils', 14), ('michigan', 14), ('free', 13)]\n",
            "Most common words in late file: [('science', 144), ('education', 78), ('research', 67), ('educational', 26), ('good', 25), ('learning', 24), ('standard', 22), ('journal', 19), ('gold', 19), ('researchers', 19), ('students', 17), ('scientific', 16), ('work', 15), ('would', 14), ('dewey', 14), ('us', 13), ('also', 13), ('teaching', 12), ('issue', 12), ('use', 12), ('quality', 12), ('nclb', 12), ('children', 12), ('could', 12), ('articles', 11)]\n"
          ]
        }
      ],
      "source": [
        "#Top 25 most common words with their counts\n",
        "fdEarly = nltk.FreqDist(early_text_objects)\n",
        "print(\"Most common words in early file:\",fdEarly.most_common(25))\n",
        "\n",
        "fdLate = nltk.FreqDist(late_text_objects)\n",
        "print(\"Most common words in late file:\",fdLate.most_common(25))"
      ]
    },
    {
      "cell_type": "markdown",
      "metadata": {
        "id": "571StNJXukPA"
      },
      "source": [
        "# TFA3 Lexical Diversity\n",
        "Higher lexical diversity points to a more varied vocabulary"
      ]
    },
    {
      "cell_type": "code",
      "execution_count": null,
      "metadata": {
        "id": "SZSvXJbgukPA",
        "outputId": "ec886205-9cee-44ee-8b31-6f38d60e2b18"
      },
      "outputs": [
        {
          "name": "stdout",
          "output_type": "stream",
          "text": [
            "Lexical diversity for early file: 0.3880407124681934\n",
            "Lexical diversity for late file: 0.43950617283950616\n"
          ]
        }
      ],
      "source": [
        "lexical_diversity_early = len(set(early_word_tokens)) / len(early_word_tokens)\n",
        "lexical_diversity_late = len(set(late_word_tokens)) / len(late_word_tokens)\n",
        "\n",
        "print(\"Lexical diversity for early file:\", lexical_diversity_early)\n",
        "print(\"Lexical diversity for late file:\", lexical_diversity_late)\n"
      ]
    },
    {
      "cell_type": "markdown",
      "metadata": {
        "id": "8CQj7ZXbukPA"
      },
      "source": [
        "# TFA4 Word Length Distribution"
      ]
    },
    {
      "cell_type": "code",
      "execution_count": null,
      "metadata": {
        "id": "SQgeZ5JaukPA",
        "outputId": "1597bb02-dd4b-4251-8b89-0d0dbf023d04"
      },
      "outputs": [
        {
          "name": "stdout",
          "output_type": "stream",
          "text": [
            "Average word length for early file: 6.74236641221374\n",
            "Average word length for late file: 7.292901234567902\n"
          ]
        }
      ],
      "source": [
        "# Average word length\n",
        "avg_word_length_early = sum(len(word) for word in early_word_tokens) / len(early_word_tokens)\n",
        "avg_word_length_late = sum(len(word) for word in late_word_tokens) / len(late_word_tokens)\n",
        "\n",
        "print(\"Average word length for early file:\", avg_word_length_early)\n",
        "print(\"Average word length for late file:\", avg_word_length_late)\n"
      ]
    },
    {
      "cell_type": "markdown",
      "metadata": {
        "id": "e3N10-tTukPA"
      },
      "source": [
        "# TFA 5 Bigrams and Collocations"
      ]
    },
    {
      "cell_type": "code",
      "execution_count": null,
      "metadata": {
        "id": "ugpvoVKcukPA",
        "outputId": "b631c342-0c98-498d-eec0-bd3243c55de3"
      },
      "outputs": [
        {
          "name": "stdout",
          "output_type": "stream",
          "text": [
            "Common bigrams in early file: [('accident', 'stumbles'), ('according', 'capacity'), ('actually', 'performed'), ('addresses', 'recognized'), ('admirable', 'recommend'), ('adopted', 'report'), ('agencies', 'describes'), ('agreement', 'regard'), ('albany', 'wildman'), ('alphabet', 'smoke')]\n",
            "Common bigrams in late file: [('ability', 'learn'), ('absent', 'addressing'), ('accountability', 'requirements'), ('acquisition', 'facts'), ('addressing', 'counts'), ('advancement', 'appreciation'), ('aesthetic', 'properties'), ('ages', 'london'), ('alexandra', 'schindel'), ('alvermann', 'sharing')]\n"
          ]
        }
      ],
      "source": [
        "from nltk import bigrams\n",
        "from nltk.collocations import BigramCollocationFinder\n",
        "from nltk.metrics import BigramAssocMeasures\n",
        "\n",
        "# For early file\n",
        "bigram_measures_early = BigramAssocMeasures()\n",
        "finder_early = BigramCollocationFinder.from_words(early_word_tokens)\n",
        "print(\"Common bigrams in early file:\", finder_early.nbest(bigram_measures_early.pmi, 10))\n",
        "\n",
        "# For late file\n",
        "bigram_measures_late = BigramAssocMeasures()\n",
        "finder_late = BigramCollocationFinder.from_words(late_word_tokens)\n",
        "print(\"Common bigrams in late file:\", finder_late.nbest(bigram_measures_late.pmi, 10))\n"
      ]
    },
    {
      "cell_type": "markdown",
      "metadata": {
        "id": "oGr5t-PyukPB"
      },
      "source": [
        "# TFA 6 Unique Words Over Time"
      ]
    },
    {
      "cell_type": "code",
      "execution_count": null,
      "metadata": {
        "id": "veFmBMybukPB",
        "outputId": "faa3e25e-313c-49ad-84cf-f1de1c856dd0"
      },
      "outputs": [
        {
          "name": "stdout",
          "output_type": "stream",
          "text": [
            "Number of unique words in early file: 1220\n",
            "Number of unique words in late file: 1424\n"
          ]
        }
      ],
      "source": [
        "unique_words_early = set(early_word_tokens)\n",
        "unique_words_late = set(late_word_tokens)\n",
        "\n",
        "print(\"Number of unique words in early file:\", len(unique_words_early))\n",
        "print(\"Number of unique words in late file:\", len(unique_words_late))\n"
      ]
    },
    {
      "cell_type": "markdown",
      "metadata": {
        "id": "KlySdwZ_ukPB"
      },
      "source": [
        "# This follows on the last but generates list of words that are unique to that corpus."
      ]
    },
    {
      "cell_type": "code",
      "execution_count": null,
      "metadata": {
        "id": "qAjT4kGqukPB",
        "outputId": "5105a3e8-5360-4484-c648-ab2f0b01112a"
      },
      "outputs": [
        {
          "name": "stdout",
          "output_type": "stream",
          "text": [
            "Words exclusive to early set: {'small', 'electric', 'sought', 'subjects', 'judgment', 'termed', 'kalamazoo', 'nine', 'china', 'lecture', 'divided', 'pretentious', 'bound', 'periodical', 'soon', 'richard', 'discoursed', 'lines', 'usage', 'contribute', 'needs', 'suitability', 'providence', 'said', 'encouraged', 'albany', 'whose', 'columbia', 'hotel', 'provoked', 'advised', 'miller', 'title', 'webb', 'situation', 'ably', 'stratification', 'market', 'subscribers', 'es', 'continued', 'suggestive', 'craig', 'numerous', 'enough', 'forty', 'richardson', 'full', 'expound', 'ohio', 'souled', 'carrying', 'seldom', 'beautiful', 'namely', 'running', 'glad', 'dinners', 'dissolve', 'appeared', 'laboratories', 'wedel', 'alabama', 'consideration', 'magazine', 'horace', 'classical', 'recommend', 'destroying', 'plea', 'reception', 'alphabet', 'iron', 'missouri', 'temporarily', 'connection', 'thirty', 'executive', 'grand', 'expected', 'hygiene', 'mary', 'staff', 'historical', 'appropriate', 'returns', 'astronomers', 'masterpiece', 'trips', 'russell', 'blend', 'sherman', 'depends', 'beginners', 'director', 'takes', 'arranging', 'vertical', 'sometimes', 'frank', 'compiling', 'radio', 'beauchamp', 'cases', 'briefly', 'peabody', 'supervision', 'departments', 'manuals', 'cunningham', 'pupil', 'lessons', 'specialized', 'credits', 'debt', 'naked', 'mann', 'twelve', 'hurd', 'films', 'kodak', 'contain', 'preferably', 'equipped', 'growth', 'manual', 'york', 'expenses', 'editing', 'chief', 'regular', 'syllabus', 'secretary', 'keen', 'employed', 'solution', 'works', 'fastening', 'adapted', 'permanent', 'requested', 'suffer', 'bearing', 'period', 'ann', 'beginnings', 'library', 'gone', 'unanimously', 'demonstrations', 'harvard', 'lack', 'emphasis', 'editorially', 'sit', 'visiting', 'depart', 'distinctly', 'accepted', 'reaction', 'enthusiastically', 'cleave', 'powers', 'criticisms', 'aside', 'centre', 'riverside', 'suggesting', 'spring', 'equipment', 'nashville', 'furnished', 'reeve', 'formerly', 'booklets', 'emporia', 'kindergarten', 'physiography', 'hundred', 'experiment', 'hamper', 'minutes', 'energy', 'extremely', 'free', 'touch', 'visitors', 'eager', 'hopes', 'appears', 'unusual', 'relation', 'exhibits', 'assailed', 'unit', 'tinker', 'requests', 'unwinding', 'watkins', 'losing', 'smith', 'worth', 'enlarged', 'hints', 'tied', 'charge', 'training', 'snap', 'abstract', 'position', 'warm', 'chemists', 'explosives', 'accident', 'services', 'schenley', 'fiske', 'conduct', 'something', 'rowell', 'seward', 'membership', 'receiving', 'tennessee', 'prepare', 'appointed', 'suggestions', 'trenton', 'lathe', 'worked', 'company', 'directions', 'conclusion', 'introducing', 'peaceful', 'december', 'pieper', 'fields', 'announcement', 'toledo', 'listed', 'heads', 'tococo', 'accompanied', 'mediocrity', 'profit', 'objection', 'arts', 'draw', 'press', 'march', 'final', 'passed', 'auburn', 'sacrificed', 'elected', 'secured', 'periods', 'branch', 'space', 'profitable', 'locality', 'respectively', 'oklahoma', 'admirable', 'communications', 'housewives', 'firms', 'educate', 'salem', 'five', 'publishes', 'units', 'enterprise', 'city', 'topic', 'henry', 'textbooks', 'technical', 'agreement', 'zoology', 'talks', 'later', 'carnegie', 'optional', 'twenty', 'examined', 'mildred', 'illustrated', 'hoped', 'colleges', 'associate', 'knox', 'worthwhile', 'assistants', 'week', 'chance', 'wetzel', 'francis', 'desired', 'sweeps', 'representing', 'discovery', 'excellent', 'telephone', 'started', 'calls', 'express', 'inauspicious', 'friendships', 'stumbles', 'cleveland', 'invited', 'qualifications', 'represented', 'homemade', 'along', 'distribution', 'apply', 'cambridge', 'healey', 'cuts', 'announced', 'greatest', 'lid', 'foundation', 'inquiries', 'endeavor', 'established', 'progressive', 'custom', 'marked', 'willing', 'term', 'advisory', 'montclair', 'sufficient', 'spent', 'jose', 'geo', 'letter', 'arbor', 'orr', 'kilpatrick', 'price', 'accredited', 'successful', 'mutual', 'principal', 'water', 'classifies', 'shop', 'suggests', 'outlook', 'entering', 'afternoon', 'graham', 'reply', 'demonstration', 'unforeseen', 'environment', 'boys', 'indulged', 'meetings', 'merits', 'similar', 'botanists', 'considering', 'maine', 'promising', 'definite', 'addresses', 'rochester', 'du', 'planned', 'duane', 'received', 'suggest', 'watch', 'sessions', 'arguments', 'direction', 'otis', 'cost', 'pa', 'entrance', 'adrian', 'service', 'england', 'everett', 'commissioner', 'near', 'charles', 'handbook', 'ground', 'telegraph', 'polytechnic', 'involve', 'separate', 'fit', 'series', 'draws', 'wellesley', 'completed', 'meet', 'wish', 'adequate', 'led', 'awakens', 'hear', 'house', 'wildman', 'domestic', 'bounds', 'statements', 'majority', 'farming', 'statement', 'unusually', 'appearance', 'vigorous', 'speech', 'examinations', 'year', 'breadth', 'secure', 'smoke', 'delos', 'stimulus', 'percy', 'proper', 'development', 'professor', 'implied', 'available', 'junior', 'devote', 'advertisers', 'associated', 'nearly', 'experimentation', 'trip', 'treasurer', 'representatives', 'west', 'lesson', 'george', 'last', 'hands', 'seven', 'venture', 'heliograph', 'names', 'occasionally', 'classes', 'secondary', 'revision', 'contributed', 'practical', 'monographs', 'ninth', 'minute', 'prescribed', 'wisconsin', 'table', 'latimer', 'corrections', 'pruitt', 'quicker', 'harrison', 'persing', 'charter', 'winding', 'oshkosh', 'remove', 'business', 'felt', 'granted', 'eddy', 'gas', 'respect', 'magazines', 'days', 'macomb', 'leaders', 'agricultural', 'frontispiece', 'printed', 'building', 'kansas', 'zoologists', 'properly', 'country', 'hardship', 'convince', 'courses', 'state', 'philadelphia', 'slides', 'presentation', 'relating', 'reach', 'designate', 'wheels', 'glenn', 'twice', 'normal', 'joined', 'minutely', 'bulletins', 'performed', 'follows', 'photography', 'taught', 'organize', 'massachusetts', 'unwind', 'drawback', 'francisco', 'ninety', 'removed', 'give', 'moreover', 'outstanding', 'quite', 'etc', 'schoolmasters', 'movement', 'move', 'joint', 'graduation', 'contact', 'fill', 'physiology', 'chelsea', 'illinois', 'kodakery', 'shall', 'trying', 'recommended', 'vinal', 'called', 'four', 'reference', 'daily', 'pleasant', 'grade', 'playlet', 'millikan', 'bantering', 'botany', 'undecided', 'plants', 'organization', 'yonkers', 'chas', 'fitted', 'cent', 'deserves', 'suitable', 'plan', 'covered', 'ceased', 'deliberate', 'mathematics', 'pump', 'putting', 'committee', 'folder', 'eighth', 'university', 'wakefield', 'thorough', 'inductive', 'broadened', 'introductory', 'obourn', 'ala', 'feeling', 'introduced', 'roxbury', 'apparatus', 'laboratory', 'reader', 'carter', 'formed', 'ruch', 'plays', 'holley', 'preparatory', 'black', 'scans', 'limited', 'november', 'group', 'boston', 'hand', 'capacity', 'hofe', 'pen', 'recently', 'booklet', 'physicists', 'alike', 'concerning', 'taking', 'scope', 'springfield', 'leominster', 'monthly', 'capable', 'commercial', 'complete', 'elective', 'club', 'session', 'show', 'struck', 'pulleys', 'animated', 'von', 'gratifying', 'financial', 'advantages', 'deputy', 'credit', 'estimated', 'chairman', 'seventh', 'cookstove', 'opposition', 'books', 'responded', 'distinction', 'c', 'fireless', 'faculty', 'moved', 'hardly', 'extension', 'norman', 'offering', 'book', 'lombard', 'contains', 'discuss', 'vs', 'describes', 'instructor', 'park', 'reported', 'feature', 'publishers', 'horton', 'prepared', 'rapids', 'helped', 'gary', 'biology', 'roller', 'seemed', 'prices', 'regent', 'earl', 'major', 'president', 'colorado', 'excellence', 'industrial', 'pont', 'aldrich', 'burden', 'preparing', 'concurred', 'walter', 'billig', 'intermediate', 'air', 'numbers', 'september', 'rooms', 'pursuits', 'buffalo', 'howard', 'pressing', 'goes', 'bulletin', 'senses', 'charts', 'introduce', 'second', 'information', 'compulsion', 'washington', 'michigan', 'gave', 'counsel', 'lincoln', 'head', 'percent', 'clayton', 'commerce', 'periodicals', 'met', 'obtained', 'length', 'encouraging', 'clubs', 'harry', 'jersey', 'drawn', 'announce', 'flame', 'pictures', 'search', 'moore', 'june', 'eastman', 'editorials', 'signals', 'curtis', 'sidetracked', 'associations', 'windlasses', 'chemistry', 'live', 'offer', 'caldwell', 'sacramento', 'reminds', 'albion', 'geographers', 'edward', 'stone', 'lighting', 'fall', 'please', 'warrant', 'dramatization', 'communication', 'compact', 'somebody', 'vision', 'start', 'day', 'introduction', 'publications', 'life', 'records', 'stove', 'physical', 'pittsburgh', 'greeley', 'deep', 'safeguarded', 'lays', 'kelly', 'officers', 'seen', 'edith', 'newer', 'opinion', 'danger', 'forthcoming', 'regard', 'oregon', 'submit', 'speakers', 'recitation', 'speaking', 'enable', 'sent', 'subscription', 'economize', 'lunt', 'acid', 'promises', 'omitting', 'separates', 'san', 'woodhull', 'thought', 'immediately', 'main', 'forth', 'men', 'indiana', 'usually', 'nemours', 'downing', 'wilmington', 'kept', 'recognized', 'instructors', 'replace', 'societies', 'prominence', 'whole', 'conferences', 'next', 'invention', 'understands', 'precede', 'elementary', 'increase', 'abstracts', 'finley', 'given', 'sections', 'chicago', 'del', 'sones', 'necessary', 'van', 'together', 'room', 'cooker', 'excursions', 'recognize', 'return', 'chosen', 'voted', 'prevail', 'turner', 'likely', 'household', 'comprise', 'miss', 'authorized', 'giving', 'california', 'young', 'recognition', 'recommends', 'attended', 'de', 'eliot', 'whitman', 'sherwin', 'consisting', 'piece', 'burroughs', 'practically', 'discussions', 'chiefly', 'sky', 'candidates', 'lowell'}\n",
            "\n",
            "Words exclusive to late set: {'community', 'consistently', 'hold', 'gap', 'ongoing', 'compromise', 'inequities', 'sophisticated', 'visibility', 'assert', 'unified', 'assess', 'rudolph', 'middle', 'level', 'unrealized', 'production', 'robb', 'interaction', 'observing', 'criteria', 'observed', 'ends', 'relations', 'agree', 'reading', 'retort', 'intent', 'disability', 'round', 'advocates', 'glancing', 'quantification', 'produce', 'kong', 'symposium', 'understanding', 'inherent', 'able', 'evaluate', 'proposals', 'upshot', 'engagement', 'target', 'superficial', 'tantalizing', 'judge', 'plenary', 'exercise', 'proficiency', 'mobility', 'frøyland', 'impossible', 'regarding', 'caught', 'raised', 'acceptable', 'prerequisite', 'typicality', 'differently', 'analysis', 'ago', 'neglected', 'grounding', 'came', 'ever', 'exhaustive', 'usual', 'interrupted', 'order', 'approaches', 'status', 'hong', 'candidate', 'liberty', 'followed', 'impact', 'informed', 'economic', 'considerable', 'face', 'specificity', 'seemingly', 'pamela', 'targets', 'deliberately', 'intelligence', 'rational', 'koller', 'requiring', 'rubric', 'banner', 'control', 'handle', 'proxy', 'description', 'east', 'radical', 'benefiting', 'act', 'identification', 'criticism', 'violence', 'significance', 'claims', 'integrate', 'understood', 'cities', 'flawed', 'drives', 'skills', 'nevertheless', 'challenging', 'undergo', 'decisions', 'enables', 'added', 'promise', 'launch', 'tell', 'mcguinn', 'consciousness', 'result', 'rock', 'solicited', 'retain', 'helpfulness', 'distorted', 'legislation', 'settle', 'across', 'medicine', 'naep', 'argue', 'brickhouse', 'hearing', 'invitation', 'reliable', 'intervention', 'excited', 'critically', 'stated', 'improved', 'mission', 'academic', 'ethical', 'characteristics', 'certain', 'exemplified', 'discourse', 'treating', 'generally', 'visits', 'scientists', 'deemed', 'depend', 'formally', 'fostered', 'debated', 'resides', 'game', 'activities', 'arguing', 'sample', 'change', 'note', 'articulated', 'analogous', 'propitious', 'morris', 'weaknesses', 'argument', 'beate', 'effort', 'simply', 'cessation', 'people', 'previous', 'adopting', 'islands', 'outlet', 'concept', 'adage', 'reason', 'guide', 'participants', 'promotion', 'none', 'dynamic', 'assumptions', 'achieved', 'accompanies', 'expert', 'combination', 'steadily', 'driven', 'learning', 'centered', 'united', 'somehow', 'reviewer', 'disagree', 'top', 'almost', 'words', 'enhancing', 'manage', 'alexandra', 'reflections', 'judging', 'strongly', 'simple', 'conduit', 'relevant', 'character', 'trials', 'continuation', 'immediate', 'colleagues', 'case', 'federally', 'remind', 'strategy', 'reformation', 'possibility', 'judged', 'ideological', 'essay', 'integrity', 'varnish', 'narrow', 'around', 'completely', 'futuristic', 'poor', 'gasoline', 'standards', 'seeking', 'equally', 'latent', 'hodson', 'focused', 'applicability', 'accomplish', 'lead', 'web', 'scores', 'structure', 'adults', 'anything', 'dealing', 'swift', 'via', 'individuals', 'sociopolitical', 'back', 'spite', 'goldwater', 'alternatively', 'democracies', 'hess', 'attends', 'history', 'requirement', 'related', 'receive', 'push', 'rigorous', 'tenuous', 'official', 'credible', 'chair', 'varying', 'understandings', 'moss', 'recommendations', 'relatively', 'versa', 'understand', 'hazards', 'simplistic', 'social', 'utilizing', 'interference', 'accomplishes', 'statistical', 'reasoned', 'south', 'unearned', 'technology', 'dialogue', 'short', 'lost', 'try', 'thousands', 'instead', 'describe', 'today', 'asset', 'cobern', 'okhee', 'submitting', 'insights', 'locations', 'london', 'valid', 'population', 'video', 'latest', 'increasingly', 'toward', 'conducted', 'counts', 'autonomously', 'implement', 'pushed', 'cleansers', 'happened', 'instructional', 'rationally', 'disagreement', 'traced', 'alvermann', 'discussing', 'brings', 'dosage', 'meaning', 'incapable', 'arm', 'phillips', 'language', 'discussed', 'connected', 'design', 'operates', 'macnab', 'untapped', 'moving', 'expand', 'christened', 'confess', 'speak', 'considered', 'look', 'extend', 'sensitive', 'rejected', 'asserting', 'capacities', 'snively', 'writing', 'aligns', 'irresponsible', 'assessments', 'tried', 'eliminate', 'traits', 'responsiveness', 'globe', 'bodies', 'scandinavia', 'debate', 'versed', 'assure', 'norway', 'skeptical', 'motion', 'pushing', 'setting', 'ideas', 'constitutes', 'merethe', 'mask', 'mail', 'learner', 'somewhat', 'current', 'fostering', 'referring', 'really', 'certification', 'sole', 'seek', 'intelligent', 'belief', 'grasped', 'claim', 'ranging', 'educators', 'investigate', 'aesthetic', 'presents', 'century', 'unfortunately', 'inaugural', 'engaged', 'reached', 'role', 'afield', 'complex', 'enrich', 'dozen', 'lives', 'authored', 'highly', 'preceding', 'might', 'geographical', 'choices', 'innovation', 'obligated', 'anticipate', 'seem', 'initial', 'windschitl', 'pedagogical', 'anderhag', 'hostetler', 'requires', 'overall', 'challenges', 'struggle', 'drew', 'visions', 'fail', 'office', 'although', 'promote', 'lee', 'tests', 'raising', 'include', 'products', 'signed', 'typical', 'assessment', 'end', 'capitalism', 'consulted', 'bypass', 'politics', 'system', 'remmen', 'socioeconomic', 'american', 'aikenhead', 'inform', 'studying', 'away', 'pushes', 'hiebert', 'involves', 'lend', 'falk', 'overseeing', 'culture', 'modest', 'orthodoxy', 'behind', 'known', 'context', 'letters', 'importantly', 'rationale', 'inequalities', 'participating', 'simulations', 'funded', 'submission', 'clear', 'implementation', 'encounter', 'manuscript', 'measured', 'evaluation', 'pluralism', 'upgraded', 'federal', 'facts', 'reflect', 'decoding', 'proposal', 'highlights', 'scholarly', 'methodologies', 'privileged', 'hast', 'africa', 'accountable', 'test', 'reform', 'exclusive', 'trust', 'additional', 'phrase', 'lindgren', 'equity', 'standardized', 'formal', 'cameras', 'engine', 'interrogate', 'measures', 'contributors', 'affect', 'proceed', 'hide', 'epistemological', 'nancy', 'populations', 'fundamental', 'bounded', 'seriously', 'advances', 'lagemann', 'occurring', 'progress', 'interests', 'sense', 'universalism', 'exposed', 'enhance', 'cognition', 'generate', 'children', 'observations', 'arose', 'swedish', 'analyses', 'differentiate', 'interpretations', 'bipartisan', 'outcomes', 'expect', 'abilities', 'existence', 'standard', 'degree', 'constrain', 'establish', 'findings', 'pool', 'extended', 'caution', 'america', 'requirements', 'sørvik', 'accumulation', 'disaggregating', 'authentic', 'policies', 'canada', 'single', 'universalist', 'score', 'gained', 'tenure', 'enabled', 'pains', 'former', 'activity', 'either', 'illusions', 'illuminate', 'psychological', 'stanley', 'identity', 'reminding', 'donna', 'unmitigated', 'expanded', 'furthermore', 'faster', 'countries', 'multicultualists', 'efforts', 'argued', 'larger', 'ethnic', 'aims', 'experiences', 'comprehending', 'results', 'reasoning', 'avoid', 'programmatic', 'success', 'tool', 'determine', 'schoolchildren', 'immersive', 'reporting', 'literacy', 'michael', 'certainly', 'kari', 'inquiry', 'creating', 'curricula', 'identify', 'embryonic', 'explaining', 'biggest', 'settings', 'strength', 'deeper', 'emphasized', 'unique', 'quality', 'differential', 'correlated', 'aspects', 'multicultural', 'acquire', 'dimick', 'masakata', 'factor', 'loving', 'prevalent', 'youth', 'focus', 'cited', 'consistent', 'mainstream', 'embedded', 'create', 'ogawa', 'represent', 'diversity', 'moment', 'methodological', 'notion', 'goals', 'relationship', 'liveliest', 'variety', 'addressing', 'frequent', 'varies', 'launched', 'researchers', 'identifying', 'attend', 'productive', 'differences', 'spatially', 'values', 'universities', 'proxies', 'standardization', 'emphasizes', 'external', 'limits', 'premiere', 'intelligible', 'unimaginable', 'properties', 'anniversary', 'manuscripts', 'commonsense', 'partnerships', 'dispositions', 'parks', 'eliminating', 'scholars', 'journals', 'rest', 'surprisingly', 'sex', 'competences', 'acquisition', 'roots', 'echoing', 'framed', 'law', 'dreams', 'explication', 'failed', 'enormous', 'races', 'publish', 'conventional', 'framework', 'extending', 'advancement', 'generated', 'responses', 'road', 'invite', 'want', 'inclusion', 'disaggregated', 'tools', 'districts', 'goal', 'relying', 'nele', 'play', 'valued', 'spend', 'turned', 'nuanced', 'frame', 'frames', 'speaks', 'record', 'conclusions', 'practitioners', 'influencing', 'nicely', 'hermeneutics', 'theoretical', 'potential', 'place', 'every', 'told', 'pervasive', 'action', 'stronger', 'distinct', 'thanks', 'priority', 'cognitive', 'wanted', 'child', 'shared', 'aware', 'infections', 'writes', 'journey', 'provocative', 'always', 'consensus', 'kinds', 'frequently', 'argues', 'privilege', 'purview', 'access', 'serve', 'objects', 'classrooms', 'highest', 'nclb', 'congressional', 'harder', 'liability', 'everyday', 'processes', 'living', 'pacific', 'sentence', 'nations', 'hone', 'honor', 'absent', 'cognizant', 'dependent', 'bearman', 'converse', 'scientifically', 'diverse', 'parents', 'urban', 'encourages', 'primary', 'construct', 'served', 'referred', 'funding', 'bill', 'someone', 'typically', 'modern', 'achievement', 'professionally', 'norris', 'remember', 'projects', 'puzzles', 'multiculturalism', 'qualitative', 'hence', 'endpoint', 'reviewers', 'tscholl', 'cut', 'encompass', 'schindel', 'ask', 'elegant', 'articulation', 'participate', 'http', 'respond', 'months', 'throughout', 'exactly', 'response', 'digital', 'learners', 'bruckner', 'perspective', 'vow', 'empirical', 'communities', 'explored', 'embrace', 'promoting', 'reflection', 'issues', 'invested', 'finally', 'fits', 'quantified', 'think', 'models', 'certified', 'supporting', 'taken', 'behaviors', 'ies', 'white', 'essentially', 'talk', 'williams', 'defined', 'provide', 'documented', 'within', 'sharing', 'message', 'exposure', 'corsiglia', 'contemporary', 'exploration', 'conceptual', 'derek', 'committed', 'progressed', 'stand', 'took', 'anthropology', 'citizenry', 'uncover', 'individualism', 'cultural', 'considerations', 'olaf', 'notions', 'describing', 'scientific', 'examples', 'replaced', 'sources', 'asteroids', 'remain', 'competencies', 'never', 'scholarship', 'utilize', 'articulates', 'occupations', 'iqs', 'pressures', 'ideal', 'making', 'gadamer', 'temporally', 'expertise', 'learned', 'remains', 'going', 'clearly', 'opportunities', 'worldview', 'connections', 'effectiveness', 'judgments', 'normative', 'orientation', 'drawing', 'americans', 'feedback', 'addressed', 'entitled', 'reinforces', 'serious', 'power', 'anonymity', 'demands', 'rarely', 'guarantee', 'including', 'kahle', 'data', 'moves', 'promoted', 'vice', 'array', 'interact', 'timing', 'influenced', 'randomized', 'beliefs', 'closely', 'playing', 'basically', 'older', 'substantively', 'reviewed', 'wrote', 'wide', 'process', 'supported', 'bachelor', 'intelligently', 'allows', 'distract', 'substantiate', 'examining', 'incomplete', 'forays', 'materials', 'effects', 'barry', 'noticing', 'illustrate', 'piaget', 'foundations', 'considerably', 'deployed', 'author', 'studied', 'site', 'occurrences', 'educated', 'engages', 'situate', 'citizen', 'universal', 'substantive', 'adolescents', 'specifically', 'shape', 'entrepreneurship', 'accountability', 'raise', 'become', 'submissions', 'perceptions', 'beneficiary', 'interventions', 'careful', 'components', 'assertion', 'encourage', 'practices', 'engage', 'girls', 'ranked', 'source', 'resonate', 'drive', 'competence', 'prior', 'entry', 'timely', 'ove', 'vehicles', 'examine', 'necessarily', 'leads', 'shaping', 'averages', 'starter', 'age', 'still', 'largescale', 'reasons', 'individually', 'victoria', 'makers', 'types', 'meets', 'gard', 'identifies', 'hiv', 'educative', 'function', 'gold', 'investigated', 'maintain', 'bleachers', 'require', 'arrives', 'deal', 'respects', 'political', 'marks', 'math', 'carefully', 'shaped', 'philosophical', 'shamos', 'relationships', 'kampa', 'conceivably', 'range', 'priori', 'surroundings', 'ambition', 'researcher', 'boundaries', 'qualified', 'say', 'articulate', 'celebrating', 'north', 'conservatism', 'scaling', 'composed', 'concepts', 'ages', 'presented', 'concrete', 'editorship', 'perspectives', 'based', 'empowers', 'straightforward', 'forms', 'virtual', 'justifiable', 'answer', 'immersion', 'integral', 'linguistic', 'aspire', 'talking', 'backgrounds', 'curriculum', 'imagination', 'mean', 'choose', 'path', 'gender', 'theory', 'pursue', 'conception', 'attending', 'fair'}\n"
          ]
        }
      ],
      "source": [
        "# Convert word tokens to sets for set operations\n",
        "unique_words_early = set(early_word_tokens)\n",
        "unique_words_late = set(late_word_tokens)\n",
        "\n",
        "# Find words that are in the early set but not in the late set\n",
        "exclusive_to_early = unique_words_early - unique_words_late\n",
        "\n",
        "# Find words that are in the late set but not in the early set\n",
        "exclusive_to_late = unique_words_late - unique_words_early\n",
        "\n",
        "print(\"Words exclusive to early set:\", exclusive_to_early)\n",
        "print(\"\\nWords exclusive to late set:\", exclusive_to_late)\n"
      ]
    },
    {
      "cell_type": "markdown",
      "metadata": {
        "id": "fCiEPt2DukPB"
      },
      "source": [
        "# TFA 7 Sentiment Analysis needs work"
      ]
    },
    {
      "cell_type": "code",
      "execution_count": null,
      "metadata": {
        "id": "KC49ij38ukPB"
      },
      "outputs": [],
      "source": [
        "import nltk\n",
        "from nltk.sentiment import SentimentIntensityAnalyzer\n",
        "\n",
        "nltk.download('vader_lexicon')\n",
        "\n",
        "def analyze_sentiment(text):\n",
        "    sia = SentimentIntensityAnalyzer()\n",
        "    sentiment = sia.polarity_scores(text)\n",
        "    return sentiment\n",
        "\n",
        "# Analyzing sentiment for the early and late files\n",
        "# Assuming 'cleaned_early_GSQText' and 'cleaned_late_GSQText' are strings containing your cleaned text\n",
        "sentiment_early = analyze_sentiment(cleaned_early_sentences)\n",
        "sentiment_late = analyze_sentiment(cleaned_late_sentences)\n",
        "\n",
        "print(\"Sentiment for early file:\", sentiment_early)\n",
        "print(\"Sentiment for late file:\", sentiment_late)\n",
        "\n"
      ]
    },
    {
      "cell_type": "markdown",
      "metadata": {
        "id": "9m3IYgnmukPB"
      },
      "source": [
        "# TFA 8 Lexical Dispersion still doesn't seem to work correctly"
      ]
    },
    {
      "cell_type": "code",
      "execution_count": null,
      "metadata": {
        "id": "zLvxm0nYukPB",
        "outputId": "d428916a-1720-488e-81ef-a22c3352bd34"
      },
      "outputs": [
        {
          "data": {
            "text/plain": [
              "<Figure size 1200x400 with 0 Axes>"
            ]
          },
          "metadata": {},
          "output_type": "display_data"
        },
        {
          "data": {
            "image/png": "[encoded data removed]",
            "text/plain": [
              "<Figure size 640x480 with 1 Axes>"
            ]
          },
          "metadata": {},
          "output_type": "display_data"
        },
        {
          "data": {
            "text/plain": [
              "<Figure size 1200x400 with 0 Axes>"
            ]
          },
          "metadata": {},
          "output_type": "display_data"
        },
        {
          "data": {
            "image/png": "[encoded data removed]",
            "text/plain": [
              "<Figure size 640x480 with 1 Axes>"
            ]
          },
          "metadata": {},
          "output_type": "display_data"
        }
      ],
      "source": [
        "import nltk\n",
        "import matplotlib.pyplot as plt\n",
        "from nltk.text import Text\n",
        "\n",
        "# Assuming cleaned_early_GSQ_wordTokens and cleaned_late_GSQ_wordTokens are your lists of word tokens\n",
        "# Convert word tokens into NLTK Text objects\n",
        "text_early = early_text_objects\n",
        "text_late = late_text_objects\n",
        "\n",
        "# List of words to examine\n",
        "target_words = ['education', 'science', 'teaching', 'learning', 'school']  # Modify this list as needed\n",
        "\n",
        "# Generate dispersion plot for the early corpus\n",
        "plt.figure(figsize=(12, 4))\n",
        "text_early.dispersion_plot(target_words)\n",
        "plt.title(\"Lexical Dispersion Plot in Early Corpus\")\n",
        "plt.show()\n",
        "\n",
        "# Generate dispersion plot for the late corpus\n",
        "plt.figure(figsize=(12, 4))\n",
        "text_late.dispersion_plot(target_words)\n",
        "plt.title(\"Lexical Dispersion Plot in Late Corpus\")\n",
        "plt.show()\n"
      ]
    },
    {
      "cell_type": "markdown",
      "metadata": {
        "id": "2tItJUiSukPE"
      },
      "source": [
        "# TFA N-grams and collocations"
      ]
    },
    {
      "cell_type": "code",
      "execution_count": null,
      "metadata": {
        "id": "N9_6VkK-ukPE",
        "outputId": "419e25f1-b94a-4d8b-e0cc-e59863af14ef"
      },
      "outputs": [
        {
          "name": "stdout",
          "output_type": "stream",
          "text": [
            "     ('general', 'science')          ('high', 'school')     ('science', 'teachers')          ('junior', 'high')             ('new', 'york')     ('teachers', 'college')   ('elementary', 'science')    ('science', 'education')         ('high', 'schools')      ('science', 'courses')          ('senior', 'high')         ('science', 'club')      ('special', 'science')      ('board', 'education')     ('school', 'education')      ('science', 'general')             ('per', 'week')       ('school', 'science')            ('sent', 'free')        ('normal', 'school')  ('university', 'michigan')     ('college', 'columbia')  ('columbia', 'university')          ('science', 'one')    ('physics', 'chemistry')     ('special', 'sciences')     ('science', 'teaching')       ('science', 'course')          ('ninth', 'grade') ('specialized', 'sciences') ('introductory', 'science')          ('state', 'board')         ('science', 'work') ('education', 'university')      ('editorial', 'board')            ('york', 'city')    ('science', 'quarterly')       ('science', 'taught')  ('science', 'association')          ('year', 'junior')       ('school', 'general')     ('science', 'required')     ('required', 'subject')          ('two', 'periods')          ('periods', 'per')   ('science', 'elementary')       ('seventh', 'eighth')     ('domestic', 'science')             ('club', 'new')          ('new', 'england') \n",
            "                         99                          39                          18                          14                          12                          10                           9                           9                           7                           7                           6                           6                           6                           6                           6                           5                           5                           5                           5                           5                           5                           5                           5                           4                           4                           4                           4                           4                           4                           4                           4                           4                           4                           4                           4                           4                           3                           3                           3                           3                           3                           3                           3                           3                           3                           3                           3                           3                           3                           3 \n",
            "      ('science', 'education')           ('gold', 'standard')           ('good', 'research')        ('science', 'teaching')    ('educational', 'research')             ('test', 'scores')       ('teaching', 'learning')       ('science', 'educators')              ('john', 'dewey')       ('standard', 'research')          ('review', 'process')   ('education', 'researchers')     ('scientific', 'literacy')        ('student', 'learning')        ('research', 'science')         ('general', 'science')      ('manuscript', 'central')        ('scholars', 'science')      ('education', 'research')            ('aims', 'science')         ('policy', 'practice')       ('learning', 'outcomes')        ('nancy', 'brickhouse')          ('nature', 'science')          ('school', 'science')        ('plenary', 'articles')       ('science', 'quarterly')           ('united', 'states')            ('latest', 'issue')            ('across', 'globe')       ('research', 'programs')               ('lead', 'good')    ('educational', 'sciences')         ('improve', 'quality')       ('quality', 'education')        ('educational', 'aims')   ('potential', 'influencing')               ('nclb', 'gold')           ('value', 'science')          ('everyday', 'lives')      ('science', 'curriculum')      ('education', 'programs') ('educational', 'researchers')             ('way', 'getting')         ('getting', 'process')           ('years', 'science')        ('learning', 'science')   ('multicultural', 'science')          ('modern', 'science')      ('stanley', 'brickhouse') \n",
            "                            62                             18                             13                              8                              8                              7                              6                              6                              6                              6                              5                              5                              5                              5                              4                              4                              4                              4                              4                              4                              4                              4                              3                              3                              3                              3                              3                              3                              3                              3                              3                              3                              3                              3                              3                              3                              3                              3                              3                              3                              3                              3                              3                              3                              3                              2                              2                              2                              2                              2 \n"
          ]
        }
      ],
      "source": [
        "# display frequency of highest 25 bigrams\n",
        "finder = nltk.collocations.BigramCollocationFinder.from_words(early_text_objects)\n",
        "finder.ngram_fd.tabulate(50)\n",
        "finder2 = nltk.collocations.BigramCollocationFinder.from_words(late_text_objects)\n",
        "finder2.ngram_fd.tabulate(50)"
      ]
    },
    {
      "cell_type": "code",
      "execution_count": null,
      "metadata": {
        "id": "ukveWdOFukPE",
        "outputId": "8d7b32a6-48fb-4d42-e240-28416383b4ea"
      },
      "outputs": [
        {
          "name": "stdout",
          "output_type": "stream",
          "text": [
            "         ('junior', 'high', 'school')          ('senior', 'high', 'school')        ('general', 'science', 'club')   ('teachers', 'college', 'columbia') ('college', 'columbia', 'university')     ('science', 'general', 'science')         ('high', 'school', 'science') ('school', 'education', 'university')               ('new', 'york', 'city')   ('general', 'science', 'quarterly')     ('general', 'science', 'general')    ('general', 'science', 'teachers')      ('general', 'science', 'course')         ('junior', 'high', 'schools')            ('year', 'junior', 'high')         ('high', 'school', 'general')      ('school', 'general', 'science')    ('general', 'science', 'required')            ('periods', 'per', 'week')  ('general', 'science', 'elementary')            ('science', 'club', 'new')            ('club', 'new', 'england')         ('normal', 'school', 'salem') ('michigan', 'schoolmasters', 'club')       ('state', 'board', 'education') \n",
            "                                    9                                     6                                     5                                     5                                     5                                     4                                     4                                     4                                     4                                     3                                     3                                     3                                     3                                     3                                     3                                     3                                     3                                     3                                     3                                     3                                     3                                     3                                     3                                     3                                     3 \n",
            "  ('science', 'education', 'researchers')          ('gold', 'standard', 'research')          ('aims', 'science', 'education')       ('science', 'teaching', 'learning')       ('general', 'science', 'quarterly')      ('scholars', 'science', 'education')              ('lead', 'good', 'research')       ('improve', 'quality', 'education')        ('educational', 'aims', 'science')              ('nclb', 'gold', 'standard')      ('science', 'education', 'research')             ('way', 'getting', 'process')         ('years', 'science', 'education')       ('teaching', 'learning', 'science') ('multicultural', 'science', 'education')         ('issue', 'science', 'education')           ('began', 'general', 'science')       ('science', 'quarterly', 'article')          ('quarterly', 'article', 'john')              ('article', 'john', 'dewey')    ('journal', 'credible', 'significant')      ('science', 'education', 'continue')              ('research', 'lead', 'good')      ('research', 'science', 'education')               ('child', 'left', 'behind') \n",
            "                                        5                                         5                                         4                                         4                                         3                                         3                                         3                                         3                                         3                                         3                                         3                                         3                                         2                                         2                                         2                                         2                                         2                                         2                                         2                                         2                                         2                                         2                                         2                                         2                                         2 \n"
          ]
        }
      ],
      "source": [
        "# display frequency of highest 25 trigrams\n",
        "finder = nltk.collocations.TrigramCollocationFinder.from_words(early_text_objects)\n",
        "finder.ngram_fd.tabulate(25)\n",
        "\n",
        "finder2 = nltk.collocations.TrigramCollocationFinder.from_words(late_text_objects)\n",
        "finder2.ngram_fd.tabulate(25)"
      ]
    },
    {
      "cell_type": "markdown",
      "metadata": {
        "id": "IyCTCbltukPE"
      },
      "source": [
        "NLTK Text Objects"
      ]
    },
    {
      "cell_type": "code",
      "execution_count": null,
      "metadata": {
        "id": "85IBdCw8ukPE",
        "outputId": "4188e132-ae00-4851-cfcc-5590268bfb2f"
      },
      "outputs": [
        {
          "name": "stdout",
          "output_type": "stream",
          "text": [
            "general science; high school; new york; junior high; per week;\n",
            "teachers college; sent free; ninth grade; columbia university; senior\n",
            "high; college columbia; specialized sciences; york city; board\n",
            "education; associate editors; editorial board; high schools; science\n",
            "teachers; seventh eighth; earl glenn\n",
            "None\n",
            "science education; gold standard; test scores; good research; john\n",
            "dewey; manuscript central; review process; student learning;\n",
            "scientific literacy; teaching learning; united states; across globe;\n",
            "policy practice; nancy brickhouse; way getting; getting process;\n",
            "science teaching; potential influencing; plenary articles; latest\n",
            "issue\n",
            "None\n"
          ]
        },
        {
          "name": "stderr",
          "output_type": "stream",
          "text": [
            "[nltk_data] Downloading package stopwords to\n",
            "[nltk_data]     C:\\Users\\mrhal\\AppData\\Roaming\\nltk_data...\n",
            "[nltk_data]   Package stopwords is already up-to-date!\n"
          ]
        }
      ],
      "source": [
        "import nltk\n",
        "nltk.download('stopwords')\n",
        "\n",
        "print(early_text_objects.collocations())\n",
        "print(late_text_objects.collocations())"
      ]
    },
    {
      "cell_type": "markdown",
      "metadata": {
        "id": "N5BuVXajukPE"
      },
      "source": [
        "# TFA Concordance"
      ]
    },
    {
      "cell_type": "code",
      "execution_count": null,
      "metadata": {
        "id": "mm0rsJyeukPE",
        "outputId": "34bb311d-05fe-4031-beb6-0dccc9f1de36"
      },
      "outputs": [
        {
          "name": "stdout",
          "output_type": "stream",
          "text": [
            "Displaying 25 of 199 matches:\n",
            "general science quarterly editorials general scienc\n",
            "cience quarterly editorials general science national education association new \n",
            "pectively chemistry physics biology science one paper least general science pro\n",
            "ogy science one paper least general science program sessions many subjects side\n",
            "s many subjects sidetracked general science prominence subject appearing differ\n",
            "discussion provoked subject general science general science one live issue inte\n",
            "ked subject general science general science one live issue interested teachers \n",
            " authors discoursed bearing general science later courses physics chemistry gen\n",
            "s chemistry general feeling general science taught prepare future course develo\n",
            "erce plan two years course required science advocated replace one year general \n",
            " advocated replace one year general science widely adopted report assailed numb\n",
            "ion special sciences must done make science general final science session dewey\n",
            "ust done make science general final science session dewey gave us masterpiece m\n",
            "on dewey gave us masterpiece method science teaching general science main theme\n",
            "ece method science teaching general science main theme enthusiasm general scien\n",
            "ience main theme enthusiasm general science passed bounds session fall albion c\n",
            "ll albion college advocated general science grades junior high school senior hi\n",
            "strong opposition extension general science senior high school developed pleasa\n",
            "al institutions much value visitors science committee deserves much credit arra\n",
            " visiting teachers organize general science club one scans programs various sci\n",
            "nce club one scans programs various science teachers associations past year str\n",
            "act unusual attention given general science cases attention given general scien\n",
            "ience cases attention given general science special science association organiz\n",
            "ntion given general science special science association organized one conclusio\n",
            "ne conclusion drawn evidence namely science questions receiving best thought sc\n",
            "None\n",
            "Displaying 25 of 144 matches:\n",
            "editorial talking issues many years science education provided forum discussion\n",
            "ant ideas related teaching learning science perhaps liveliest issue multicultur\n",
            "multiculturalism debate began pages science education derek hodson elegant rati\n",
            "son elegant rationale multicultural science education sensitive cultural contex\n",
            "e cultural context hodson described science education would violence cultural b\n",
            " standard cultural framework modern science rationale came williams retort hods\n",
            "eliefs experiences including rubric science would fact violence science science\n",
            " rubric science would fact violence science science universal hence rationally \n",
            "science would fact violence science science universal hence rationally understo\n",
            "tandard universalist account nature science flawed nature science fact reflect \n",
            "ccount nature science flawed nature science fact reflect multicultural perspect\n",
            " good strongly rejected idea school science curricula expanded cultural reasons\n",
            "ticultualists wanted include banner science however masakata ogawa extended arg\n",
            " extended argument multiculturalism science education asserting existence vario\n",
            "n asserting existence various types science specifically referred modern scienc\n",
            "cience specifically referred modern science western modern since ogawa article \n",
            " western modern since ogawa article science education added several articles cu\n",
            "tion added several articles culture science education issues include cobern art\n",
            "aikenhead article discussed concept science education hodson article offered se\n",
            "roposals radical form multicultural science education sociopolitical action bri\n",
            "ical action brings us current issue science education journal pleased present c\n",
            "ournal pleased present continuation science debate form organized article set i\n",
            "alism national association research science teaching annual meeting prior accep\n",
            " debate submitting response letters science look forward hearing editor desk gr\n",
            "ditor desk great honor serve editor science education first scholarly journal s\n",
            "None\n"
          ]
        }
      ],
      "source": [
        "print(early_text_objects.concordance(\"science\"))\n",
        "print(late_text_objects.concordance(\"science\"))"
      ]
    },
    {
      "cell_type": "markdown",
      "metadata": {
        "id": "tbvj_1sgukPE"
      },
      "source": []
    },
    {
      "cell_type": "markdown",
      "metadata": {
        "id": "IMIDANnlukPE"
      },
      "source": [
        "Sentiment Analysis"
      ]
    },
    {
      "cell_type": "markdown",
      "metadata": {
        "id": "PvXOrQZ-ukPE"
      },
      "source": [
        "Unsupervised Analysis"
      ]
    },
    {
      "cell_type": "markdown",
      "metadata": {
        "id": "UJZf3PXvukPE"
      },
      "source": [
        "Topic Modeling"
      ]
    },
    {
      "cell_type": "markdown",
      "metadata": {
        "id": "UWhquolLukPE"
      },
      "source": [
        "K-Means"
      ]
    },
    {
      "cell_type": "markdown",
      "metadata": {
        "id": "zfcDGYy4ukPE"
      },
      "source": [
        "LDA"
      ]
    }
  ],
  "metadata": {
    "colab": {
      "provenance": [],
      "include_colab_link": true
    },
    "kernelspec": {
      "display_name": "Python 3",
      "name": "python3"
    },
    "language_info": {
      "codemirror_mode": {
        "name": "ipython",
        "version": 3
      },
      "file_extension": ".py",
      "mimetype": "text/x-python",
      "name": "python",
      "nbconvert_exporter": "python",
      "pygments_lexer": "ipython3",
      "version": "3.12.0"
    }
  },
  "nbformat": 4,
  "nbformat_minor": 0
}