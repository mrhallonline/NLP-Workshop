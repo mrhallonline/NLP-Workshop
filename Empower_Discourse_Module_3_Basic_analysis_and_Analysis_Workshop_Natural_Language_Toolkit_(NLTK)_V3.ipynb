{
  "cells": [
    {
      "cell_type": "markdown",
      "metadata": {
        "id": "view-in-github",
        "colab_type": "text"
      },
      "source": [
        "<a href=\"https://colab.research.google.com/github/mrhallonline/NLP-Workshop/blob/main/Empower_Discourse_Module_3_Basic_analysis_and_Analysis_Workshop_Natural_Language_Toolkit_(NLTK)_V3.ipynb\" target=\"_parent\"><img src=\"https://colab.research.google.com/assets/colab-badge.svg\" alt=\"Open In Colab\"/></a>"
      ]
    },
    {
      "cell_type": "markdown",
      "metadata": {
        "id": "XI8uUvrQMkxD"
      },
      "source": [
        "## 3.0 Basic analysis  (20 minutes)\n",
        "In this module we will mess around with some of the basic features of NLTK. Looking at what types of information we can get from the features we have extracted.\n",
        "\n",
        "\n",
        "  * Basic Information\n",
        "    * Listing/Counting/Sorting/Ranking\n",
        "  * Working with NLTK Text Object Variable\n",
        "    * Concordance\n",
        "    * Similar\n",
        "    * n-grams/collocations\n",
        "    * Data Visualizations\n"
      ]
    },
    {
      "cell_type": "code",
      "source": [
        "from google.colab import drive\n",
        "drive.mount('/content/drive')"
      ],
      "metadata": {
        "colab": {
          "base_uri": "https://localhost:8080/"
        },
        "id": "L-q9Phu6ljB-",
        "outputId": "f3f6323d-6895-45af-d18d-1a76887d1c8f"
      },
      "execution_count": null,
      "outputs": [
        {
          "output_type": "stream",
          "name": "stdout",
          "text": [
            "Mounted at /content/drive\n"
          ]
        }
      ]
    },
    {
      "cell_type": "markdown",
      "source": [
        "# 3.1 Reconnecting to the Text Corpus\n",
        "Since we have openened a new Colab notebook for this module, we will need to load the text file in Google Drive and extract the features again by recreating the variables from module 2. We will need to do something like this for each new module.\n",
        "\n",
        "*Click the code cells below to rerun the process for this module"
      ],
      "metadata": {
        "id": "IznhbRQnzQlw"
      }
    },
    {
      "cell_type": "code",
      "source": [
        "import nltk\n",
        "import requests\n",
        "import pandas as pd\n",
        "from nltk.tokenize import word_tokenize\n",
        "nltk.download('punkt')\n",
        "\n",
        "\n",
        "# load data from existing text file\n",
        "## this following path can be changed to access other text files that you may like to work with.\n",
        "filename = '/content/drive/MyDrive/empower/Transcriptclean.txt'\n",
        "uncertaintyText = open(filename, 'rt', encoding='utf-8', errors='replace')\n",
        "\n",
        "# Extracting Different Features for analysis\n",
        "\n",
        "# The raw unchanged data from the text file now exists as a variable called \"raw_uncertaintyText\"\n",
        "raw_uncertaintyText = uncertaintyText.read()\n",
        "uncertaintyText.close()\n",
        "\n",
        "# 1. This line converts our raw text into word tokens\n",
        "# Regular expression tokenizing Gaps =False\n",
        "pattern = r'\\s+'\n",
        "uncertainty_wordTokens = nltk.regexp_tokenize(raw_uncertaintyText, pattern, gaps=True)\n",
        "\n",
        "# 2. This line converts our raw text into sentence tokens\n",
        "uncertainty_sentTokens = nltk.sent_tokenize(raw_uncertaintyText)\n",
        "\n",
        "# 3. This line converts our word tokens into NLTK text objects from the tokens\n",
        "uncertainty_wordTextObjects = nltk.Text(uncertainty_wordTokens)\n",
        "\n",
        "print(uncertainty_wordTokens)"
      ],
      "metadata": {
        "id": "vl2d-u7yU4Jo",
        "colab": {
          "base_uri": "https://localhost:8080/"
        },
        "outputId": "e9c56028-1605-4c78-dcf9-d6a93383a01f"
      },
      "execution_count": null,
      "outputs": [
        {
          "output_type": "stream",
          "name": "stderr",
          "text": [
            "[nltk_data] Downloading package punkt to /root/nltk_data...\n",
            "[nltk_data]   Package punkt is already up-to-date!\n"
          ]
        },
        {
          "output_type": "stream",
          "name": "stdout",
          "text": [
            "['Actually,', 'we', 'had', 'a', 'really', 'interesting', 'conversation', 'at', 'the', 'middle', 'school', 'Empower', 'project', 'about', 'is', 'it', 'important', 'to', 'actually', 'separate', 'things', 'out', 'into', 'living', 'and', 'nonliving,', 'and', 'by', 'separating', 'things', 'into', 'living', 'and', 'nonliving,', \"you're\", 'making', 'certain', 'that', 'you', 'know', 'what', 'your', 'goal', 'is.', \"I'm\", 'not', 'saying', 'that', 'one', \"shouldn't\", 'do', 'that,', '[T:', 'Right]', 'but', 'if', 'you', 'are', 'doing', 'that,', 'what', 'are', 'you', 'actually', 'saying', 'to', 'students', 'who', 'actually', 'come', 'from', 'an', 'indigenous', 'background', 'that', 'might', 'not', 'separate', 'things', 'out', 'in', 'that', 'same', 'way?', '[T:', 'Yeah.]', 'How', 'do', 'you', 'actually', 'address', 'those', 'types', 'of', 'things?', \"That's\", 'something', 'that', 'I', 'will', 'consider', 'how', 'to', 'address.', 'That', 'is', 'a', 'good', 'point.', 'That', 'I', \"hadn't\", 'considered.', 'I', 'like', 'that.', 'But', 'I', 'do', 'think', 'it', 'kind', 'of', 'defines', 'the', 'purview', 'of', 'biology', 'to', 'some', 'extent.', 'You', 'know?', 'I', 'mean,', 'we', 'talk', 'about', 'biotic', 'and', 'abiotic', 'components,', 'and', 'so', \"that's...\", 'It', 'defines', 'Western', 'science,', 'right?', 'Yeah,', 'which', 'is', 'what...', 'But', \"that's\", 'what', 'I', 'teach', 'right', 'now.', 'You', 'know', 'what', 'I', 'mean?', 'I', 'like', 'the', 'idea', 'of', 'incorporating', 'traditional', 'ecological', 'knowledge', 'like..,', 'but..', 'the..', 'way�', 'that', 'my', 'current', 'standards', 'and', 'curriculum', 'are', 'written�,', 'the', 'class', 'that', \"I'm\", 'teaching', 'is', 'a', 'Western', 'science�', \"That's\", 'the�like', 'that�s', 'the', 'heading,', 'right?', 'You', 'know�I', 'mean�,', 'I', 'think', 'acknowledging(slowly)...', 'I', 'really', 'want', 'to', 'acknowledge', 'more�traditional', 'ways', 'of', 'knowing�,', 'more', 'traditional', 'ecological', 'knowledge�,', 'right?', 'Ummm', 'and', 'I', 'want', 'to', 'figure', 'out', 'a', 'way', 'to', 'incorporate', 'that', 'meaningfully', 'in', 'a', 'way', 'that', \"doesn't\", 'trivialize', 'it.', 'I', \"don't\", 'have', 'the', 'current', 'knowledge', 'and', 'experience', 'to', 'do', 'that.', \"I'd\", 'really', 'like', 'to', 'somehow', 'connect', 'with', 'someone', 'who', 'does', '(kinda', 'laughs),', 'ummm', 'because', 'we', 'also', \"don't\", 'have', 'a', 'lot', 'of,', 'you', 'know,', 'tribal', 'communities', 'around', 'here', 'because', 'of', 'history.', 'But,', 'you', 'know,', 'as', \"I'm...like�\", 'when', 'we', 'talk', 'about', 'cells,', 'right?', 'When', 'we', 'do', 'cell', 'biology,', 'we', 'do', 'it', 'as', 'the', 'smallest', 'unit', 'of�', 'like', 'a', 'living', 'thing,', 'like', 'the', 'smallest�like', 'liivin:g�', 'chunk,', 'basically.', 'You', 'know,', 'like', 'when', 'we', 'talk', 'about', 'ecology,', 'we', 'separate', 'things', 'into', 'biotic', 'components', 'and', 'abiotic', 'components.', 'What', 'does', 'it', 'mean', 'for', 'something', 'to', 'be', 'biotic', 'like?', 'I', \"agre-I'm\", 'actually', 'probably', 'not', 'even', 'going', 'to', 'go', 'through', 'a', 'list', 'of,', 'like,', \"here's\", 'the', 'definitions', 'of', 'life.', \"I'm\", 'just', 'going', 'to', 'have', 'kids�like�', 'talk', 'a', 'little', 'bit', 'about', 'it.', \"I'm\", 'gonna', 'to', 'say', 'a', 'couple', 'things.', 'But', 'this', 'is', 'going', 'to', 'be', 'like,...', 'the', 'Friday', 'of', 'for', 'the', 'freshmen', 'of', 'the', 'first', 'three-day', 'week.', \"I'm\", 'going', 'to', 'just', 'have', 'some', 'stuff', 'out,', 'and', 'I', 'want', 'to', 'see', 'kind', 'of', 'how', 'they', 'think', 'about', 'things.', 'And', 'then', 'like', 'that', 'next', 'Monday,', 'we', 'might', 'start', 'the', 'OpenSciED', 'unit,', 'but,', 'you', 'know..it', 'is', 'tough,', 'because', 'my', 'class', 'is', 'a', 'Western', 'science', 'class..you', 'know.', 'Like�and', 'that�s', 'what', 'I�m', 'trained', 'in,', 'too.', 'I', \"don't\", 'have', 'the', 'training', 'to', 'teach', 'other', 'things.', \"I'd\", 'like', 'to', 'acknowledge', 'it�']\n"
          ]
        }
      ]
    },
    {
      "cell_type": "code",
      "source": [
        "print(\"raw_uncertaintyText is a: \",type(raw_uncertaintyText))\n",
        "print(\"uncertainty_wordTokens is a: \",type(uncertainty_wordTokens))\n",
        "print(\"uncertainty_sentTokens is a: \",type(uncertainty_sentTokens))\n",
        "print(\"uncertainty_wordTextObjects is a: \",type(uncertainty_wordTextObjects))"
      ],
      "metadata": {
        "id": "5GJpXbUdwLg3",
        "colab": {
          "base_uri": "https://localhost:8080/"
        },
        "outputId": "d0486c3f-b59b-483f-d7ba-05ca1b575c79"
      },
      "execution_count": null,
      "outputs": [
        {
          "output_type": "stream",
          "name": "stdout",
          "text": [
            "raw_uncertaintyText is a:  <class 'str'>\n",
            "uncertainty_wordTokens is a:  <class 'list'>\n",
            "uncertainty_sentTokens is a:  <class 'list'>\n",
            "uncertainty_wordTextObjects is a:  <class 'nltk.text.Text'>\n"
          ]
        }
      ]
    },
    {
      "cell_type": "markdown",
      "source": [
        "# 3.2 Interacting with our words tokens: uncertainty_wordTokens\n",
        "\n",
        "The following text cells will show different ways to look at the word tokens we have created. Just typing in the variable name and executing the code cell will show us a list of all the word tokens in the order that they appear.\n",
        "\n",
        "Current Variable List\n",
        "```\n",
        "raw_uncertaintyText\n",
        "uncertainty_wordTokens\n",
        "uncertainty_sentTokens\n",
        "uncertainty_wordTextObjects\n",
        "```\n",
        "If time permits, feel free to replace the current variable with one of the other ones to see how they differ structurally."
      ],
      "metadata": {
        "id": "gi8W2LqJcSvE"
      }
    },
    {
      "cell_type": "code",
      "source": [
        "#Executing the variable will show a list of the contents. Tokens are seperated by commas.\n",
        "uncertainty_wordTokens"
      ],
      "metadata": {
        "id": "zp95EgJqdQKI",
        "colab": {
          "base_uri": "https://localhost:8080/"
        },
        "outputId": "a6f33c22-32f1-4ff9-cf1d-7ef6c4317766"
      },
      "execution_count": null,
      "outputs": [
        {
          "output_type": "execute_result",
          "data": {
            "text/plain": [
              "['Actually,',\n",
              " 'we',\n",
              " 'had',\n",
              " 'a',\n",
              " 'really',\n",
              " 'interesting',\n",
              " 'conversation',\n",
              " 'at',\n",
              " 'the',\n",
              " 'middle',\n",
              " 'school',\n",
              " 'Empower',\n",
              " 'project',\n",
              " 'about',\n",
              " 'is',\n",
              " 'it',\n",
              " 'important',\n",
              " 'to',\n",
              " 'actually',\n",
              " 'separate',\n",
              " 'things',\n",
              " 'out',\n",
              " 'into',\n",
              " 'living',\n",
              " 'and',\n",
              " 'nonliving,',\n",
              " 'and',\n",
              " 'by',\n",
              " 'separating',\n",
              " 'things',\n",
              " 'into',\n",
              " 'living',\n",
              " 'and',\n",
              " 'nonliving,',\n",
              " \"you're\",\n",
              " 'making',\n",
              " 'certain',\n",
              " 'that',\n",
              " 'you',\n",
              " 'know',\n",
              " 'what',\n",
              " 'your',\n",
              " 'goal',\n",
              " 'is.',\n",
              " \"I'm\",\n",
              " 'not',\n",
              " 'saying',\n",
              " 'that',\n",
              " 'one',\n",
              " \"shouldn't\",\n",
              " 'do',\n",
              " 'that,',\n",
              " '[T:',\n",
              " 'Right]',\n",
              " 'but',\n",
              " 'if',\n",
              " 'you',\n",
              " 'are',\n",
              " 'doing',\n",
              " 'that,',\n",
              " 'what',\n",
              " 'are',\n",
              " 'you',\n",
              " 'actually',\n",
              " 'saying',\n",
              " 'to',\n",
              " 'students',\n",
              " 'who',\n",
              " 'actually',\n",
              " 'come',\n",
              " 'from',\n",
              " 'an',\n",
              " 'indigenous',\n",
              " 'background',\n",
              " 'that',\n",
              " 'might',\n",
              " 'not',\n",
              " 'separate',\n",
              " 'things',\n",
              " 'out',\n",
              " 'in',\n",
              " 'that',\n",
              " 'same',\n",
              " 'way?',\n",
              " '[T:',\n",
              " 'Yeah.]',\n",
              " 'How',\n",
              " 'do',\n",
              " 'you',\n",
              " 'actually',\n",
              " 'address',\n",
              " 'those',\n",
              " 'types',\n",
              " 'of',\n",
              " 'things?',\n",
              " \"That's\",\n",
              " 'something',\n",
              " 'that',\n",
              " 'I',\n",
              " 'will',\n",
              " 'consider',\n",
              " 'how',\n",
              " 'to',\n",
              " 'address.',\n",
              " 'That',\n",
              " 'is',\n",
              " 'a',\n",
              " 'good',\n",
              " 'point.',\n",
              " 'That',\n",
              " 'I',\n",
              " \"hadn't\",\n",
              " 'considered.',\n",
              " 'I',\n",
              " 'like',\n",
              " 'that.',\n",
              " 'But',\n",
              " 'I',\n",
              " 'do',\n",
              " 'think',\n",
              " 'it',\n",
              " 'kind',\n",
              " 'of',\n",
              " 'defines',\n",
              " 'the',\n",
              " 'purview',\n",
              " 'of',\n",
              " 'biology',\n",
              " 'to',\n",
              " 'some',\n",
              " 'extent.',\n",
              " 'You',\n",
              " 'know?',\n",
              " 'I',\n",
              " 'mean,',\n",
              " 'we',\n",
              " 'talk',\n",
              " 'about',\n",
              " 'biotic',\n",
              " 'and',\n",
              " 'abiotic',\n",
              " 'components,',\n",
              " 'and',\n",
              " 'so',\n",
              " \"that's...\",\n",
              " 'It',\n",
              " 'defines',\n",
              " 'Western',\n",
              " 'science,',\n",
              " 'right?',\n",
              " 'Yeah,',\n",
              " 'which',\n",
              " 'is',\n",
              " 'what...',\n",
              " 'But',\n",
              " \"that's\",\n",
              " 'what',\n",
              " 'I',\n",
              " 'teach',\n",
              " 'right',\n",
              " 'now.',\n",
              " 'You',\n",
              " 'know',\n",
              " 'what',\n",
              " 'I',\n",
              " 'mean?',\n",
              " 'I',\n",
              " 'like',\n",
              " 'the',\n",
              " 'idea',\n",
              " 'of',\n",
              " 'incorporating',\n",
              " 'traditional',\n",
              " 'ecological',\n",
              " 'knowledge',\n",
              " 'like..,',\n",
              " 'but..',\n",
              " 'the..',\n",
              " 'way�',\n",
              " 'that',\n",
              " 'my',\n",
              " 'current',\n",
              " 'standards',\n",
              " 'and',\n",
              " 'curriculum',\n",
              " 'are',\n",
              " 'written�,',\n",
              " 'the',\n",
              " 'class',\n",
              " 'that',\n",
              " \"I'm\",\n",
              " 'teaching',\n",
              " 'is',\n",
              " 'a',\n",
              " 'Western',\n",
              " 'science�',\n",
              " \"That's\",\n",
              " 'the�like',\n",
              " 'that�s',\n",
              " 'the',\n",
              " 'heading,',\n",
              " 'right?',\n",
              " 'You',\n",
              " 'know�I',\n",
              " 'mean�,',\n",
              " 'I',\n",
              " 'think',\n",
              " 'acknowledging(slowly)...',\n",
              " 'I',\n",
              " 'really',\n",
              " 'want',\n",
              " 'to',\n",
              " 'acknowledge',\n",
              " 'more�traditional',\n",
              " 'ways',\n",
              " 'of',\n",
              " 'knowing�,',\n",
              " 'more',\n",
              " 'traditional',\n",
              " 'ecological',\n",
              " 'knowledge�,',\n",
              " 'right?',\n",
              " 'Ummm',\n",
              " 'and',\n",
              " 'I',\n",
              " 'want',\n",
              " 'to',\n",
              " 'figure',\n",
              " 'out',\n",
              " 'a',\n",
              " 'way',\n",
              " 'to',\n",
              " 'incorporate',\n",
              " 'that',\n",
              " 'meaningfully',\n",
              " 'in',\n",
              " 'a',\n",
              " 'way',\n",
              " 'that',\n",
              " \"doesn't\",\n",
              " 'trivialize',\n",
              " 'it.',\n",
              " 'I',\n",
              " \"don't\",\n",
              " 'have',\n",
              " 'the',\n",
              " 'current',\n",
              " 'knowledge',\n",
              " 'and',\n",
              " 'experience',\n",
              " 'to',\n",
              " 'do',\n",
              " 'that.',\n",
              " \"I'd\",\n",
              " 'really',\n",
              " 'like',\n",
              " 'to',\n",
              " 'somehow',\n",
              " 'connect',\n",
              " 'with',\n",
              " 'someone',\n",
              " 'who',\n",
              " 'does',\n",
              " '(kinda',\n",
              " 'laughs),',\n",
              " 'ummm',\n",
              " 'because',\n",
              " 'we',\n",
              " 'also',\n",
              " \"don't\",\n",
              " 'have',\n",
              " 'a',\n",
              " 'lot',\n",
              " 'of,',\n",
              " 'you',\n",
              " 'know,',\n",
              " 'tribal',\n",
              " 'communities',\n",
              " 'around',\n",
              " 'here',\n",
              " 'because',\n",
              " 'of',\n",
              " 'history.',\n",
              " 'But,',\n",
              " 'you',\n",
              " 'know,',\n",
              " 'as',\n",
              " \"I'm...like�\",\n",
              " 'when',\n",
              " 'we',\n",
              " 'talk',\n",
              " 'about',\n",
              " 'cells,',\n",
              " 'right?',\n",
              " 'When',\n",
              " 'we',\n",
              " 'do',\n",
              " 'cell',\n",
              " 'biology,',\n",
              " 'we',\n",
              " 'do',\n",
              " 'it',\n",
              " 'as',\n",
              " 'the',\n",
              " 'smallest',\n",
              " 'unit',\n",
              " 'of�',\n",
              " 'like',\n",
              " 'a',\n",
              " 'living',\n",
              " 'thing,',\n",
              " 'like',\n",
              " 'the',\n",
              " 'smallest�like',\n",
              " 'liivin:g�',\n",
              " 'chunk,',\n",
              " 'basically.',\n",
              " 'You',\n",
              " 'know,',\n",
              " 'like',\n",
              " 'when',\n",
              " 'we',\n",
              " 'talk',\n",
              " 'about',\n",
              " 'ecology,',\n",
              " 'we',\n",
              " 'separate',\n",
              " 'things',\n",
              " 'into',\n",
              " 'biotic',\n",
              " 'components',\n",
              " 'and',\n",
              " 'abiotic',\n",
              " 'components.',\n",
              " 'What',\n",
              " 'does',\n",
              " 'it',\n",
              " 'mean',\n",
              " 'for',\n",
              " 'something',\n",
              " 'to',\n",
              " 'be',\n",
              " 'biotic',\n",
              " 'like?',\n",
              " 'I',\n",
              " \"agre-I'm\",\n",
              " 'actually',\n",
              " 'probably',\n",
              " 'not',\n",
              " 'even',\n",
              " 'going',\n",
              " 'to',\n",
              " 'go',\n",
              " 'through',\n",
              " 'a',\n",
              " 'list',\n",
              " 'of,',\n",
              " 'like,',\n",
              " \"here's\",\n",
              " 'the',\n",
              " 'definitions',\n",
              " 'of',\n",
              " 'life.',\n",
              " \"I'm\",\n",
              " 'just',\n",
              " 'going',\n",
              " 'to',\n",
              " 'have',\n",
              " 'kids�like�',\n",
              " 'talk',\n",
              " 'a',\n",
              " 'little',\n",
              " 'bit',\n",
              " 'about',\n",
              " 'it.',\n",
              " \"I'm\",\n",
              " 'gonna',\n",
              " 'to',\n",
              " 'say',\n",
              " 'a',\n",
              " 'couple',\n",
              " 'things.',\n",
              " 'But',\n",
              " 'this',\n",
              " 'is',\n",
              " 'going',\n",
              " 'to',\n",
              " 'be',\n",
              " 'like,...',\n",
              " 'the',\n",
              " 'Friday',\n",
              " 'of',\n",
              " 'for',\n",
              " 'the',\n",
              " 'freshmen',\n",
              " 'of',\n",
              " 'the',\n",
              " 'first',\n",
              " 'three-day',\n",
              " 'week.',\n",
              " \"I'm\",\n",
              " 'going',\n",
              " 'to',\n",
              " 'just',\n",
              " 'have',\n",
              " 'some',\n",
              " 'stuff',\n",
              " 'out,',\n",
              " 'and',\n",
              " 'I',\n",
              " 'want',\n",
              " 'to',\n",
              " 'see',\n",
              " 'kind',\n",
              " 'of',\n",
              " 'how',\n",
              " 'they',\n",
              " 'think',\n",
              " 'about',\n",
              " 'things.',\n",
              " 'And',\n",
              " 'then',\n",
              " 'like',\n",
              " 'that',\n",
              " 'next',\n",
              " 'Monday,',\n",
              " 'we',\n",
              " 'might',\n",
              " 'start',\n",
              " 'the',\n",
              " 'OpenSciED',\n",
              " 'unit,',\n",
              " 'but,',\n",
              " 'you',\n",
              " 'know..it',\n",
              " 'is',\n",
              " 'tough,',\n",
              " 'because',\n",
              " 'my',\n",
              " 'class',\n",
              " 'is',\n",
              " 'a',\n",
              " 'Western',\n",
              " 'science',\n",
              " 'class..you',\n",
              " 'know.',\n",
              " 'Like�and',\n",
              " 'that�s',\n",
              " 'what',\n",
              " 'I�m',\n",
              " 'trained',\n",
              " 'in,',\n",
              " 'too.',\n",
              " 'I',\n",
              " \"don't\",\n",
              " 'have',\n",
              " 'the',\n",
              " 'training',\n",
              " 'to',\n",
              " 'teach',\n",
              " 'other',\n",
              " 'things.',\n",
              " \"I'd\",\n",
              " 'like',\n",
              " 'to',\n",
              " 'acknowledge',\n",
              " 'it�']"
            ]
          },
          "metadata": {},
          "execution_count": 8
        }
      ]
    },
    {
      "cell_type": "code",
      "source": [
        "# Placing the variable in a print function shows the contents as well as gives you a view that doesn't run down the page and allows you to do sorting and slicing of the contained data\n",
        "#print(uncertainty_wordTokens)\n",
        "\n",
        "\n",
        "# The sorted set, lists and alphabetizes all words that appear at least once throughout the document.\n",
        "# The numbers at the end currently tell it to show the first 25 tokens. These numbers can be changed to look at different slices of data\n",
        "print(sorted(set(uncertainty_wordTokens[0:250])))"
      ],
      "metadata": {
        "id": "tqTlfXo-dZSu",
        "colab": {
          "base_uri": "https://localhost:8080/"
        },
        "outputId": "110cf4de-15bb-47e2-b46e-c2a65572c4c2"
      },
      "execution_count": null,
      "outputs": [
        {
          "output_type": "stream",
          "name": "stdout",
          "text": [
            "['Actually,', 'But', 'Empower', 'How', 'I', \"I'm\", 'It', 'Right]', 'That', \"That's\", 'Ummm', 'Western', 'Yeah,', 'Yeah.]', 'You', '[T:', 'a', 'abiotic', 'about', 'acknowledge', 'acknowledging(slowly)...', 'actually', 'address', 'address.', 'an', 'and', 'are', 'at', 'background', 'biology', 'biotic', 'but', 'but..', 'by', 'certain', 'class', 'come', 'components,', 'consider', 'considered.', 'conversation', 'current', 'curriculum', 'defines', 'do', \"doesn't\", 'doing', \"don't\", 'ecological', 'experience', 'extent.', 'figure', 'from', 'goal', 'good', 'had', \"hadn't\", 'have', 'heading,', 'how', 'idea', 'if', 'important', 'in', 'incorporate', 'incorporating', 'indigenous', 'interesting', 'into', 'is', 'is.', 'it', 'it.', 'kind', 'know', 'know?', 'knowing�,', 'knowledge', 'knowledge�,', 'know�I', 'like', 'like..,', 'living', 'making', 'mean,', 'mean?', 'meaningfully', 'mean�,', 'middle', 'might', 'more', 'more�traditional', 'my', 'nonliving,', 'not', 'now.', 'of', 'one', 'out', 'point.', 'project', 'purview', 'really', 'right', 'right?', 'same', 'saying', 'school', 'science,', 'science�', 'separate', 'separating', \"shouldn't\", 'so', 'some', 'something', 'standards', 'students', 'talk', 'teach', 'teaching', 'that', \"that's\", \"that's...\", 'that,', 'that.', 'that�s', 'the', 'the..', 'the�like', 'things', 'things?', 'think', 'those', 'to', 'traditional', 'trivialize', 'types', 'want', 'way', 'way?', 'ways', 'way�', 'we', 'what', 'what...', 'which', 'who', 'will', 'written�,', 'you', \"you're\", 'your']\n"
          ]
        }
      ]
    },
    {
      "cell_type": "markdown",
      "source": [
        "# Execute code cell to see the total number of characters/tokens"
      ],
      "metadata": {
        "id": "ZPjikQqrcqqM"
      }
    },
    {
      "cell_type": "code",
      "source": [
        "# How many total word tokens\n",
        "len(uncertainty_wordTokens)"
      ],
      "metadata": {
        "id": "jb7XRPlY1Xt5",
        "colab": {
          "base_uri": "https://localhost:8080/"
        },
        "outputId": "62f737dd-8c5b-4ebd-aaf9-ebad9893d961"
      },
      "execution_count": null,
      "outputs": [
        {
          "output_type": "execute_result",
          "data": {
            "text/plain": [
              "467"
            ]
          },
          "metadata": {},
          "execution_count": 10
        }
      ]
    },
    {
      "cell_type": "markdown",
      "source": [
        "# Looking at the frequency distribution of our words"
      ],
      "metadata": {
        "id": "3Wiw_Iy7-FNb"
      }
    },
    {
      "cell_type": "code",
      "execution_count": null,
      "metadata": {
        "id": "05P5hdg7mwn3",
        "colab": {
          "base_uri": "https://localhost:8080/"
        },
        "outputId": "f9d4e4e4-89e8-442a-aa41-f91f67fd996c"
      },
      "outputs": [
        {
          "output_type": "stream",
          "name": "stdout",
          "text": [
            "[('to', 18), ('I', 15), ('the', 14), ('a', 11), ('and', 10), ('that', 10), ('of', 10), ('we', 9), ('like', 8), ('is', 7), ('you', 7), ('about', 6), ('do', 6), ('actually', 5), ('what', 5), (\"I'm\", 5), ('have', 5), ('it', 4), ('things', 4), ('You', 4), ('talk', 4), ('right?', 4), ('going', 4), ('really', 3), ('separate', 3)]\n"
          ]
        }
      ],
      "source": [
        "#Top 25 most common words with their counts\n",
        "fd = nltk.FreqDist(uncertainty_wordTokens)\n",
        "print(fd.most_common(25))"
      ]
    },
    {
      "cell_type": "code",
      "execution_count": null,
      "metadata": {
        "id": "BTWrxZ7we4iF",
        "colab": {
          "base_uri": "https://localhost:8080/"
        },
        "outputId": "b91694e6-2882-4bb4-81e2-cda6146ed0be"
      },
      "outputs": [
        {
          "output_type": "stream",
          "name": "stdout",
          "text": [
            "          to            I          the            a          and         that           of           we         like           is          you        about           do     actually         what          I'm         have           it       things          You         talk       right?        going       really     separate          out         into       living          not          are          But        think       biotic      Western         want        don't      because        know,      things.   nonliving,         know       saying        that,          [T:          who        might           in       That's    something          how         That        that.         kind      defines         some      abiotic        teach  traditional   ecological    knowledge           my      current        class       that�s  acknowledge          way          it.          I'd         does          of,           as         when          for           be         just    Actually,          had  interesting conversation           at       middle       school      Empower      project    important           by   separating       you're       making      certain         your         goal          is.          one    shouldn't       Right]          but           if        doing     students \n",
            "          18           15           14           11           10           10           10            9            8            7            7            6            6            5            5            5            5            4            4            4            4            4            4            3            3            3            3            3            3            3            3            3            3            3            3            3            3            3            3            2            2            2            2            2            2            2            2            2            2            2            2            2            2            2            2            2            2            2            2            2            2            2            2            2            2            2            2            2            2            2            2            2            2            2            2            1            1            1            1            1            1            1            1            1            1            1            1            1            1            1            1            1            1            1            1            1            1            1            1            1 \n"
          ]
        }
      ],
      "source": [
        "#Top 25 most common words easier to read from page\n",
        "fd.tabulate(100)"
      ]
    },
    {
      "cell_type": "code",
      "execution_count": null,
      "metadata": {
        "id": "Ci4n3j7I29Yq",
        "colab": {
          "base_uri": "https://localhost:8080/",
          "height": 527
        },
        "outputId": "44bfed92-7c44-45de-fb7b-092dc828f134"
      },
      "outputs": [
        {
          "output_type": "display_data",
          "data": {
            "text/plain": [
              "<Figure size 640x480 with 1 Axes>"
            ],
            "image/png": "[encoded data removed]"
          },
          "metadata": {}
        },
        {
          "output_type": "execute_result",
          "data": {
            "text/plain": [
              "<Axes: xlabel='Samples', ylabel='Cumulative Counts'>"
            ]
          },
          "metadata": {},
          "execution_count": 13
        }
      ],
      "source": [
        "# Cumulative plot of top 25 words\n",
        "fd.plot(50, cumulative=True)"
      ]
    },
    {
      "cell_type": "code",
      "execution_count": null,
      "metadata": {
        "id": "v8w2BywIbudW",
        "colab": {
          "base_uri": "https://localhost:8080/",
          "height": 430
        },
        "outputId": "86970246-797e-4c29-c08a-dcdda54d1925"
      },
      "outputs": [
        {
          "output_type": "display_data",
          "data": {
            "text/plain": [
              "<Figure size 640x480 with 1 Axes>"
            ],
            "image/png": "[encoded data removed]"
          },
          "metadata": {}
        }
      ],
      "source": [
        "# Create a frequency distribution\n",
        "\n",
        "from matplotlib import pyplot as plt\n",
        "\n",
        "#fd = nltk.FreqDist(tokens_nltk_text)\n",
        "\n",
        "# Get the 10 most common words and their counts\n",
        "common = fd.most_common(10)\n",
        "\n",
        "# Unzip the words and counts into two separate lists\n",
        "words, counts = zip(*common)\n",
        "\n",
        "# Create a bar graph\n",
        "plt.bar(words, counts)\n",
        "plt.show()"
      ]
    },
    {
      "cell_type": "markdown",
      "metadata": {
        "id": "cyO0jHoDNwTs"
      },
      "source": [
        "# 3.3 Working with NLTK Text Objects\n",
        "1. concordance\n",
        "2. similar words\n",
        "3. dispersion plots\n",
        "\n",
        "\n",
        "One of the variables that we created earlier was neither a string of words or a list of words, but was as labeled as a text object. What do we do with that bucket? We can work directly with some of NLTK's builtin functions. Such as concordance, similar, and dispersion plots."
      ]
    },
    {
      "cell_type": "markdown",
      "source": [
        "#* concordance()\n",
        "The concordance function will search your entire data corpus for the existance of a specific word. It shows the word in question along with the surrounding words, providing context to help understand how the word is used in various contexts throughout the text. This can be particularly helpful for studying word usage patterns, exploring word meanings, or analyzing language usage in different contexts.You can see that the whole function itself is simply a merging of our variable name 'uncertainty_wordTextObjects' + the NLTK function 'concordance()'\n",
        "\n",
        "*Try changing the word found in line 4\n"
      ],
      "metadata": {
        "id": "zi_WMKJpi3ZT"
      }
    },
    {
      "cell_type": "code",
      "execution_count": null,
      "metadata": {
        "id": "yitbvU7wI870",
        "colab": {
          "base_uri": "https://localhost:8080/"
        },
        "outputId": "772e1883-56b1-48f6-dcac-fe8d852af624"
      },
      "outputs": [
        {
          "output_type": "stream",
          "name": "stdout",
          "text": [
            "Displaying 9 of 9 matches:\n",
            "Actually, we had a really interesting conversation at the middle school Empower project about is it important to actually separate things out into living and non\n",
            "t is a good point. That I hadn't considered. I like that. But I do think it kind of defines the purview of biology to some extent. You know? I mean, we talk about biotic and abiotic components, and so that's... It defines Western science, right? Yeah, which is what... But that's what I teach right n\n",
            " I don't have the current knowledge and experience to do that. I'd really like to somehow connect with someone who does (kinda laughs), ummm because we also don't have a lot of, you know, tribal communities around here because of history. But, you know, as I'm...like� when we talk about cells, right\n",
            "a laughs), ummm because we also don't have a lot of, you know, tribal communities around here because of history. But, you know, as I'm...like� when we talk about cells, right? When we do cell biology, we do it as the smallest unit of� like a living thing, like the smallest�like liivin:g� chunk, bas\n",
            "on't have a lot of, you know, tribal communities around here because of history. But, you know, as I'm...like� when we talk about cells, right? When we do cell biology, we do it as the smallest unit of� like a living thing, like the smallest�like liivin:g� chunk, basically. You know, like when we ta\n",
            "you know, tribal communities around here because of history. But, you know, as I'm...like� when we talk about cells, right? When we do cell biology, we do it as the smallest unit of� like a living thing, like the smallest�like liivin:g� chunk, basically. You know, like when we talk about ecology, we\n",
            "en we do cell biology, we do it as the smallest unit of� like a living thing, like the smallest�like liivin:g� chunk, basically. You know, like when we talk about ecology, we separate things into biotic components and abiotic components. What does it mean for something to be biotic like? I agre-I'm \n",
            "we do it as the smallest unit of� like a living thing, like the smallest�like liivin:g� chunk, basically. You know, like when we talk about ecology, we separate things into biotic components and abiotic components. What does it mean for something to be biotic like? I agre-I'm actually probably not e\n",
            " first three-day week. I'm going to just have some stuff out, and I want to see kind of how they think about things. And then like that next Monday, we might start the OpenSciED unit, but, you know..it is tough, because my class is a Western science class..you know. Like�and that�s what I�m trained \n"
          ]
        }
      ],
      "source": [
        "# This line will search for the occurences of one of our uncertainty words.\n",
        "# After running try using different uncertainty words\n",
        "# Feel free to change the number of lines that are shown as well\n",
        "uncertainty_wordTextObjects.concordance(\"we\", lines = 100, width =300)"
      ]
    },
    {
      "cell_type": "markdown",
      "source": [
        "# Get frequencies for each word in a list from the corpus"
      ],
      "metadata": {
        "id": "EZSNh9_eLpGh"
      }
    },
    {
      "cell_type": "code",
      "source": [
        "import nltk\n",
        "from nltk import word_tokenize\n",
        "from collections import defaultdict\n",
        "\n",
        "def get_word_frequencies(words_list, raw_text):\n",
        "    \"\"\"\n",
        "    Get frequencies of words in the list from the given text.\n",
        "\n",
        "    Parameters:\n",
        "    - words_list (list): List of words to check frequencies.\n",
        "    - raw_text (str): The raw text to analyze.\n",
        "\n",
        "    Returns:\n",
        "    - defaultdict(int): Dictionary with words and their frequencies.\n",
        "    \"\"\"\n",
        "    # Tokenize the raw text\n",
        "    tokens = word_tokenize(raw_text)\n",
        "\n",
        "    # Initialize frequency dictionary\n",
        "    frequencies = defaultdict(int)\n",
        "\n",
        "    # Count occurrences of each word\n",
        "    for word in words_list:\n",
        "        frequencies[word] = tokens.count(word)\n",
        "\n",
        "    return frequencies\n",
        "\n",
        "# Sample usage:\n",
        "raw_text = raw_uncertaintyText  # Replace this with your actual text\n",
        "words_list = [\"empower\", \"lead\", \"initiate\", \"control\", \"drive\", \"choose\", \"decide\", \"capable\",\n",
        "    \"proficient\", \"master\", \"competent\", \"responsible\", \"accountable\", \"engage\",\n",
        "    \"participate\", \"interest\", \"confident\", \"voice\", \"express\", \"share\", \"drive\",\n",
        "    \"motivation\", \"express\", \"independent\", \"self-directed\", \"choose\", \"decide\",\n",
        "    \"grow\", \"develop\", \"mature\", \"progress\", \"tend\", \"don’t\", \"can’t\", \"told\",\n",
        "    \"given\", \"assigned\", \"struggle\", \"unable\", \"difficult\", \"challenge\", \"dependent\",\n",
        "    \"guidance\", \"passive\", \"uninterested\", \"quiet\", \"silent\", \"mute\", \"unmotivated\",\n",
        "    \"idle\", \"supervise\", \"guided\", \"monitor\", \"stuck\", \"disengaged\", \"empty vessels\",\n",
        "    \"sponges\", \"tend\", \"don’t\", \"can’t\", \"hands\", \"initiative\", \"experience\", \"might\",\n",
        "    \"could\", \"should\", \"must\", \"barrier\", \"challenge\", \"un-\", \"in-\", \"dis-\", \"i\",\n",
        "    \"you\", \"we\", \"they\", \"they tend to\", \"they often\", \"i feel that\", \"i believe\",\n",
        "    \"in my experience\", \"students might be able to\", \"students can\", \"student\", \"society\",\n",
        "    \"experience\", \"believe\"]  # Adjust this list as needed\n",
        "result = get_word_frequencies(words_list, raw_text)\n",
        "\n",
        "# Printing results:\n",
        "for word, freq in result.items():\n",
        "    print(f\"{word}: {freq} occurrences\")\n"
      ],
      "metadata": {
        "id": "9nzLAaYtLqMf",
        "colab": {
          "base_uri": "https://localhost:8080/"
        },
        "outputId": "0ac697d2-28a2-4f4d-8a85-e02c19948fe5"
      },
      "execution_count": null,
      "outputs": [
        {
          "output_type": "stream",
          "name": "stdout",
          "text": [
            "empower: 0 occurrences\n",
            "lead: 7 occurrences\n",
            "initiate: 0 occurrences\n",
            "control: 3 occurrences\n",
            "drive: 11 occurrences\n",
            "choose: 12 occurrences\n",
            "decide: 6 occurrences\n",
            "capable: 2 occurrences\n",
            "proficient: 0 occurrences\n",
            "master: 7 occurrences\n",
            "competent: 0 occurrences\n",
            "responsible: 6 occurrences\n",
            "accountable: 0 occurrences\n",
            "engage: 8 occurrences\n",
            "participate: 1 occurrences\n",
            "interest: 6 occurrences\n",
            "confident: 3 occurrences\n",
            "voice: 2 occurrences\n",
            "express: 0 occurrences\n",
            "share: 20 occurrences\n",
            "motivation: 0 occurrences\n",
            "independent: 0 occurrences\n",
            "self-directed: 0 occurrences\n",
            "grow: 3 occurrences\n",
            "develop: 6 occurrences\n",
            "mature: 0 occurrences\n",
            "progress: 4 occurrences\n",
            "tend: 6 occurrences\n",
            "don’t: 0 occurrences\n",
            "can’t: 0 occurrences\n",
            "told: 20 occurrences\n",
            "given: 22 occurrences\n",
            "assigned: 1 occurrences\n",
            "struggle: 12 occurrences\n",
            "unable: 0 occurrences\n",
            "difficult: 11 occurrences\n",
            "challenge: 11 occurrences\n",
            "dependent: 1 occurrences\n",
            "guidance: 4 occurrences\n",
            "passive: 0 occurrences\n",
            "uninterested: 0 occurrences\n",
            "quiet: 0 occurrences\n",
            "silent: 0 occurrences\n",
            "mute: 1 occurrences\n",
            "unmotivated: 0 occurrences\n",
            "idle: 0 occurrences\n",
            "supervise: 0 occurrences\n",
            "guided: 0 occurrences\n",
            "monitor: 0 occurrences\n",
            "stuck: 4 occurrences\n",
            "disengaged: 0 occurrences\n",
            "empty vessels: 0 occurrences\n",
            "sponges: 0 occurrences\n",
            "hands: 6 occurrences\n",
            "initiative: 1 occurrences\n",
            "experience: 22 occurrences\n",
            "might: 162 occurrences\n",
            "could: 263 occurrences\n",
            "should: 101 occurrences\n",
            "must: 11 occurrences\n",
            "barrier: 0 occurrences\n",
            "un-: 0 occurrences\n",
            "in-: 0 occurrences\n",
            "dis-: 0 occurrences\n",
            "i: 21 occurrences\n",
            "you: 2224 occurrences\n",
            "we: 1543 occurrences\n",
            "they: 1405 occurrences\n",
            "they tend to: 0 occurrences\n",
            "they often: 0 occurrences\n",
            "i feel that: 0 occurrences\n",
            "i believe: 0 occurrences\n",
            "in my experience: 0 occurrences\n",
            "students might be able to: 0 occurrences\n",
            "students can: 0 occurrences\n",
            "student: 79 occurrences\n",
            "society: 3 occurrences\n",
            "believe: 11 occurrences\n"
          ]
        }
      ]
    },
    {
      "cell_type": "markdown",
      "source": [
        "# Concordance + Sentence number"
      ],
      "metadata": {
        "id": "n6jOE6MVC8kb"
      }
    },
    {
      "cell_type": "code",
      "source": [
        "import nltk\n",
        "from nltk import ngrams\n",
        "from nltk.text import Text\n",
        "\n",
        "# Assuming you've already tokenized your text\n",
        "corpus_words = nltk.word_tokenize(raw_uncertaintyText)\n",
        "corpus_text = Text(corpus_words)\n",
        "\n",
        "# Split the corpus into sentences and then tokenize each sentence\n",
        "sentences = [nltk.word_tokenize(sent) for sent in nltk.sent_tokenize(raw_uncertaintyText)]\n",
        "\n",
        "def display_concordance_with_sentence_number(text, word, width=40, lines=25):\n",
        "    \"\"\"\n",
        "    Display concordance with sentence numbers.\n",
        "\n",
        "    Parameters:\n",
        "    - text (nltk.Text): Text object created from tokens.\n",
        "    - word (str): word of interest for concordance.\n",
        "    - width (int): width of the context window.\n",
        "    - lines (int): max number of lines to display.\n",
        "    \"\"\"\n",
        "    # Count and display word frequency\n",
        "    word_frequency = text.tokens.count(word)\n",
        "    print(f\"The word '{word}' appears {word_frequency} times in the text.\\n\")\n",
        "\n",
        "    half_width = (width - len(word) - 2) // 2\n",
        "    context = width // 4  # approx number of words of context\n",
        "\n",
        "    # Gather matching offsets and their respective sentence numbers\n",
        "    offsets = [i for i, w in enumerate(text) if w.lower() == word.lower()]\n",
        "    sent_nums = [i for i, s in enumerate(sentences) for offset in offsets if offset in range(text.tokens.index(s[0]), text.tokens.index(s[-1])+1)]\n",
        "\n",
        "    # Filter unique and print with concordance\n",
        "    for i, (offset, sent_num) in enumerate(set(zip(offsets, sent_nums))):\n",
        "        if i >= lines:\n",
        "            break\n",
        "        left = (' '.join(text.tokens[offset-context:offset]))\n",
        "        right = (' '.join(text.tokens[offset+1:offset+context+1]))\n",
        "        left = left[-half_width:]\n",
        "        right = right[:half_width]\n",
        "        print(f\"Sentence {sent_num + 1}: {left} {text[offset]} {right}\")\n",
        "\n",
        "word_of_interest = \"trying\"  # Or any other word you're interested in\n",
        "\n",
        "# Specify the number of sentences to show and width of context\n",
        "num_sentences = 50  # adjust this value as needed\n",
        "context_width = 700  # adjust this value as needed\n",
        "\n",
        "display_concordance_with_sentence_number(corpus_text, word_of_interest, width=context_width, lines=num_sentences)\n",
        "\n"
      ],
      "metadata": {
        "colab": {
          "base_uri": "https://localhost:8080/",
          "height": 426
        },
        "id": "SxFAVTvfDAgi",
        "outputId": "de2c08e7-4829-4a27-faae-6dcb27794486"
      },
      "execution_count": null,
      "outputs": [
        {
          "output_type": "stream",
          "name": "stdout",
          "text": [
            "The word 'trying' appears 104 times in the text.\n",
            "\n"
          ]
        },
        {
          "output_type": "error",
          "ename": "KeyboardInterrupt",
          "evalue": "ignored",
          "traceback": [
            "\u001b[0;31m---------------------------------------------------------------------------\u001b[0m",
            "\u001b[0;31mKeyboardInterrupt\u001b[0m                         Traceback (most recent call last)",
            "\u001b[0;32m<ipython-input-15-b7961514ff63>\u001b[0m in \u001b[0;36m<cell line: 49>\u001b[0;34m()\u001b[0m\n\u001b[1;32m     47\u001b[0m \u001b[0mcontext_width\u001b[0m \u001b[0;34m=\u001b[0m \u001b[0;36m700\u001b[0m  \u001b[0;31m# adjust this value as needed\u001b[0m\u001b[0;34m\u001b[0m\u001b[0;34m\u001b[0m\u001b[0m\n\u001b[1;32m     48\u001b[0m \u001b[0;34m\u001b[0m\u001b[0m\n\u001b[0;32m---> 49\u001b[0;31m \u001b[0mdisplay_concordance_with_sentence_number\u001b[0m\u001b[0;34m(\u001b[0m\u001b[0mcorpus_text\u001b[0m\u001b[0;34m,\u001b[0m \u001b[0mword_of_interest\u001b[0m\u001b[0;34m,\u001b[0m \u001b[0mwidth\u001b[0m\u001b[0;34m=\u001b[0m\u001b[0mcontext_width\u001b[0m\u001b[0;34m,\u001b[0m \u001b[0mlines\u001b[0m\u001b[0;34m=\u001b[0m\u001b[0mnum_sentences\u001b[0m\u001b[0;34m)\u001b[0m\u001b[0;34m\u001b[0m\u001b[0;34m\u001b[0m\u001b[0m\n\u001b[0m\u001b[1;32m     50\u001b[0m \u001b[0;34m\u001b[0m\u001b[0m\n",
            "\u001b[0;32m<ipython-input-15-b7961514ff63>\u001b[0m in \u001b[0;36mdisplay_concordance_with_sentence_number\u001b[0;34m(text, word, width, lines)\u001b[0m\n\u001b[1;32m     29\u001b[0m     \u001b[0;31m# Gather matching offsets and their respective sentence numbers\u001b[0m\u001b[0;34m\u001b[0m\u001b[0;34m\u001b[0m\u001b[0m\n\u001b[1;32m     30\u001b[0m     \u001b[0moffsets\u001b[0m \u001b[0;34m=\u001b[0m \u001b[0;34m[\u001b[0m\u001b[0mi\u001b[0m \u001b[0;32mfor\u001b[0m \u001b[0mi\u001b[0m\u001b[0;34m,\u001b[0m \u001b[0mw\u001b[0m \u001b[0;32min\u001b[0m \u001b[0menumerate\u001b[0m\u001b[0;34m(\u001b[0m\u001b[0mtext\u001b[0m\u001b[0;34m)\u001b[0m \u001b[0;32mif\u001b[0m \u001b[0mw\u001b[0m\u001b[0;34m.\u001b[0m\u001b[0mlower\u001b[0m\u001b[0;34m(\u001b[0m\u001b[0;34m)\u001b[0m \u001b[0;34m==\u001b[0m \u001b[0mword\u001b[0m\u001b[0;34m.\u001b[0m\u001b[0mlower\u001b[0m\u001b[0;34m(\u001b[0m\u001b[0;34m)\u001b[0m\u001b[0;34m]\u001b[0m\u001b[0;34m\u001b[0m\u001b[0;34m\u001b[0m\u001b[0m\n\u001b[0;32m---> 31\u001b[0;31m     \u001b[0msent_nums\u001b[0m \u001b[0;34m=\u001b[0m \u001b[0;34m[\u001b[0m\u001b[0mi\u001b[0m \u001b[0;32mfor\u001b[0m \u001b[0mi\u001b[0m\u001b[0;34m,\u001b[0m \u001b[0ms\u001b[0m \u001b[0;32min\u001b[0m \u001b[0menumerate\u001b[0m\u001b[0;34m(\u001b[0m\u001b[0msentences\u001b[0m\u001b[0;34m)\u001b[0m \u001b[0;32mfor\u001b[0m \u001b[0moffset\u001b[0m \u001b[0;32min\u001b[0m \u001b[0moffsets\u001b[0m \u001b[0;32mif\u001b[0m \u001b[0moffset\u001b[0m \u001b[0;32min\u001b[0m \u001b[0mrange\u001b[0m\u001b[0;34m(\u001b[0m\u001b[0mtext\u001b[0m\u001b[0;34m.\u001b[0m\u001b[0mtokens\u001b[0m\u001b[0;34m.\u001b[0m\u001b[0mindex\u001b[0m\u001b[0;34m(\u001b[0m\u001b[0ms\u001b[0m\u001b[0;34m[\u001b[0m\u001b[0;36m0\u001b[0m\u001b[0;34m]\u001b[0m\u001b[0;34m)\u001b[0m\u001b[0;34m,\u001b[0m \u001b[0mtext\u001b[0m\u001b[0;34m.\u001b[0m\u001b[0mtokens\u001b[0m\u001b[0;34m.\u001b[0m\u001b[0mindex\u001b[0m\u001b[0;34m(\u001b[0m\u001b[0ms\u001b[0m\u001b[0;34m[\u001b[0m\u001b[0;34m-\u001b[0m\u001b[0;36m1\u001b[0m\u001b[0;34m]\u001b[0m\u001b[0;34m)\u001b[0m\u001b[0;34m+\u001b[0m\u001b[0;36m1\u001b[0m\u001b[0;34m)\u001b[0m\u001b[0;34m]\u001b[0m\u001b[0;34m\u001b[0m\u001b[0;34m\u001b[0m\u001b[0m\n\u001b[0m\u001b[1;32m     32\u001b[0m \u001b[0;34m\u001b[0m\u001b[0m\n\u001b[1;32m     33\u001b[0m     \u001b[0;31m# Filter unique and print with concordance\u001b[0m\u001b[0;34m\u001b[0m\u001b[0;34m\u001b[0m\u001b[0m\n",
            "\u001b[0;32m<ipython-input-15-b7961514ff63>\u001b[0m in \u001b[0;36m<listcomp>\u001b[0;34m(.0)\u001b[0m\n\u001b[1;32m     29\u001b[0m     \u001b[0;31m# Gather matching offsets and their respective sentence numbers\u001b[0m\u001b[0;34m\u001b[0m\u001b[0;34m\u001b[0m\u001b[0m\n\u001b[1;32m     30\u001b[0m     \u001b[0moffsets\u001b[0m \u001b[0;34m=\u001b[0m \u001b[0;34m[\u001b[0m\u001b[0mi\u001b[0m \u001b[0;32mfor\u001b[0m \u001b[0mi\u001b[0m\u001b[0;34m,\u001b[0m \u001b[0mw\u001b[0m \u001b[0;32min\u001b[0m \u001b[0menumerate\u001b[0m\u001b[0;34m(\u001b[0m\u001b[0mtext\u001b[0m\u001b[0;34m)\u001b[0m \u001b[0;32mif\u001b[0m \u001b[0mw\u001b[0m\u001b[0;34m.\u001b[0m\u001b[0mlower\u001b[0m\u001b[0;34m(\u001b[0m\u001b[0;34m)\u001b[0m \u001b[0;34m==\u001b[0m \u001b[0mword\u001b[0m\u001b[0;34m.\u001b[0m\u001b[0mlower\u001b[0m\u001b[0;34m(\u001b[0m\u001b[0;34m)\u001b[0m\u001b[0;34m]\u001b[0m\u001b[0;34m\u001b[0m\u001b[0;34m\u001b[0m\u001b[0m\n\u001b[0;32m---> 31\u001b[0;31m     \u001b[0msent_nums\u001b[0m \u001b[0;34m=\u001b[0m \u001b[0;34m[\u001b[0m\u001b[0mi\u001b[0m \u001b[0;32mfor\u001b[0m \u001b[0mi\u001b[0m\u001b[0;34m,\u001b[0m \u001b[0ms\u001b[0m \u001b[0;32min\u001b[0m \u001b[0menumerate\u001b[0m\u001b[0;34m(\u001b[0m\u001b[0msentences\u001b[0m\u001b[0;34m)\u001b[0m \u001b[0;32mfor\u001b[0m \u001b[0moffset\u001b[0m \u001b[0;32min\u001b[0m \u001b[0moffsets\u001b[0m \u001b[0;32mif\u001b[0m \u001b[0moffset\u001b[0m \u001b[0;32min\u001b[0m \u001b[0mrange\u001b[0m\u001b[0;34m(\u001b[0m\u001b[0mtext\u001b[0m\u001b[0;34m.\u001b[0m\u001b[0mtokens\u001b[0m\u001b[0;34m.\u001b[0m\u001b[0mindex\u001b[0m\u001b[0;34m(\u001b[0m\u001b[0ms\u001b[0m\u001b[0;34m[\u001b[0m\u001b[0;36m0\u001b[0m\u001b[0;34m]\u001b[0m\u001b[0;34m)\u001b[0m\u001b[0;34m,\u001b[0m \u001b[0mtext\u001b[0m\u001b[0;34m.\u001b[0m\u001b[0mtokens\u001b[0m\u001b[0;34m.\u001b[0m\u001b[0mindex\u001b[0m\u001b[0;34m(\u001b[0m\u001b[0ms\u001b[0m\u001b[0;34m[\u001b[0m\u001b[0;34m-\u001b[0m\u001b[0;36m1\u001b[0m\u001b[0;34m]\u001b[0m\u001b[0;34m)\u001b[0m\u001b[0;34m+\u001b[0m\u001b[0;36m1\u001b[0m\u001b[0;34m)\u001b[0m\u001b[0;34m]\u001b[0m\u001b[0;34m\u001b[0m\u001b[0;34m\u001b[0m\u001b[0m\n\u001b[0m\u001b[1;32m     32\u001b[0m \u001b[0;34m\u001b[0m\u001b[0m\n\u001b[1;32m     33\u001b[0m     \u001b[0;31m# Filter unique and print with concordance\u001b[0m\u001b[0;34m\u001b[0m\u001b[0;34m\u001b[0m\u001b[0m\n",
            "\u001b[0;31mKeyboardInterrupt\u001b[0m: "
          ]
        }
      ]
    },
    {
      "cell_type": "markdown",
      "source": [
        "# Newst code concordance with sentence numbers"
      ],
      "metadata": {
        "id": "n2HdkGVDWH--"
      }
    },
    {
      "cell_type": "code",
      "source": [
        "import nltk\n",
        "from nltk import ngrams\n",
        "from nltk.text import Text\n",
        "\n",
        "# Assuming you've already tokenized your text\n",
        "corpus_words = nltk.word_tokenize(raw_uncertaintyText)\n",
        "corpus_text = Text(corpus_words)\n",
        "\n",
        "# Split the corpus into sentences without tokenizing them\n",
        "sentences_raw = nltk.sent_tokenize(raw_uncertaintyText)\n",
        "# Tokenize each sentence separately\n",
        "sentences = [nltk.word_tokenize(sent) for sent in sentences_raw]\n",
        "\n",
        "def display_concordance_with_sentence_number(text, word, num_before=1, num_after=1, lines=25):\n",
        "    \"\"\"\n",
        "    Display concordance with sentence numbers.\n",
        "\n",
        "    Parameters:\n",
        "    - text (nltk.Text): Text object created from tokens.\n",
        "    - word (str): word of interest for concordance.\n",
        "    - num_before (int): number of sentences before the matching sentence to display.\n",
        "    - num_after (int): number of sentences after the matching sentence to display.\n",
        "    - lines (int): max number of lines to display.\n",
        "    \"\"\"\n",
        "    # Count and display word frequency\n",
        "    word_frequency = text.tokens.count(word)\n",
        "    print(f\"The word '{word}' appears {word_frequency} times in the text.\\n\")\n",
        "\n",
        "    # Gather matching offsets and their respective sentence numbers\n",
        "    offsets = [i for i, w in enumerate(text) if w.lower() == word.lower()]\n",
        "    sent_nums = [i for i, s in enumerate(sentences) for offset in offsets if offset in range(text.tokens.index(s[0]), text.tokens.index(s[-1])+1)]\n",
        "\n",
        "    # Filter unique and print with concordance\n",
        "    for _, sent_num in enumerate(set(sent_nums)):\n",
        "        if _ >= lines:\n",
        "            break\n",
        "        start = max(0, sent_num - num_before)\n",
        "        end = min(len(sentences_raw), sent_num + num_after + 1)\n",
        "        for i in range(start, end):\n",
        "            if i == sent_num:\n",
        "                print(f\"> Sentence {i + 1}: {sentences_raw[i]}\")\n",
        "            else:\n",
        "                print(f\"Sentence {i + 1}: {sentences_raw[i]}\")\n",
        "        print(\"\\n\")\n",
        "\n",
        "word_of_interest = \"tend\"  # Or any other word you're interested in\n",
        "\n",
        "# Specify the number of sentences before and after the matching sentence to show\n",
        "num_before = 2  # adjust this value as needed\n",
        "num_after = 2  # adjust this value as needed\n",
        "max_lines = 5  # adjust this value as needed\n",
        "\n",
        "display_concordance_with_sentence_number(corpus_text, word_of_interest, num_before=num_before, num_after=num_after, lines=max_lines)\n"
      ],
      "metadata": {
        "colab": {
          "base_uri": "https://localhost:8080/"
        },
        "id": "uI2It0a-WQ_k",
        "outputId": "06c02c0f-e462-4ce0-d8f0-f16d7532a1d8"
      },
      "execution_count": null,
      "outputs": [
        {
          "output_type": "stream",
          "name": "stdout",
          "text": [
            "The word 'tend' appears 6 times in the text.\n",
            "\n",
            "Sentence 5292: Yeah, are we sort of arbitrarily breaking up ideas\n",
            "because we're splitting them into slides like this?\n",
            "Sentence 5293: Whereas if we just had a whiteboard or...\n",
            "Yeah, I was about to say, if there was a transparency,\n",
            "would we be...\n",
            "Like, I just threw away the overhead projector.\n",
            "> Sentence 5294: Oh, you shouldn't have thrown it away!\n",
            "Sentence 5295: There was this alternate...\n",
            "My classroom was such a mess, Barbara.\n",
            "Sentence 5296: We still have one in 4F.\n",
            "\n",
            "\n"
          ]
        }
      ]
    },
    {
      "cell_type": "markdown",
      "source": [
        "#* similar()\n",
        "\n",
        "This NLTK function is used to find words that appear in a similar context as the given word in a text corpus. It looks at the context in which a word appears—specifically, the words that appear immediately before and after the target word—and finds other words that appear in the same or similar contexts.\n",
        "\n",
        "This can be useful for semantic analysis, linguistic exploration, and various natural language processing tasks. It allows us to see words that are used in similar ways and therefore might be considered similar in meaning within the text.\n",
        "\n"
      ],
      "metadata": {
        "id": "jlKlI3AgkybQ"
      }
    },
    {
      "cell_type": "code",
      "execution_count": null,
      "metadata": {
        "id": "sEgky9YxcczQ"
      },
      "outputs": [],
      "source": [
        "uncertainty_wordTextObjects.similar(\"agency\")"
      ]
    },
    {
      "cell_type": "markdown",
      "source": [
        "#* dispersion_plot()\n",
        "\n",
        "This function used to create a lexical dispersion plot, which visualizes the distribution of words in a text over the entirety of the data corpus. This plot helps you see where certain words occur throughout the text and whether there are any patterns or clusters of word occurrences.\n",
        "The dispersion plot displays a series of dashes or markers along a horizontal axis that represents the length of the text. Each dash or marker corresponds to the position of a specific word within the text. By visualizing the distribution of words in this way, you can quickly identify trends, repetition, and patterns of word usage."
      ],
      "metadata": {
        "id": "Q3UevIn2m_3I"
      }
    },
    {
      "cell_type": "code",
      "execution_count": null,
      "metadata": {
        "id": "aEe6jT7pklF5",
        "colab": {
          "base_uri": "https://localhost:8080/",
          "height": 472
        },
        "outputId": "173fe802-9b6b-4f9e-c916-6f8f54f70b6d"
      },
      "outputs": [
        {
          "output_type": "display_data",
          "data": {
            "text/plain": [
              "<Figure size 640x480 with 1 Axes>"
            ],
            "image/png": "[encoded data removed]"
          },
          "metadata": {}
        }
      ],
      "source": [
        "# This will show a dispersion plot of the words of interest.\n",
        "# This is a great useful function to use in NLTK, but it does not seem to display correctly when utilized in Google Colab\n",
        "# You can see this if you compare the plot output below with our concordance search for \"maybe\"\n",
        "# It actually seems to list the words in reverse order to what is on the plot\n",
        "\n",
        "uncertainty_wordTextObjects.dispersion_plot([\"agency\",\"empowerment\", \"engagement\", \"student\"])"
      ]
    },
    {
      "cell_type": "markdown",
      "source": [
        "Question:\n",
        "\n",
        "What are some inferences we can make using a lexical dispersion plot like this one?"
      ],
      "metadata": {
        "id": "LzU9FwGNCgZ6"
      }
    },
    {
      "cell_type": "markdown",
      "metadata": {
        "id": "EyqhrJ7IOD-O"
      },
      "source": [
        "# 3.4 n-grams and collocations\n",
        "\n",
        "N-grams are contiguous sequences of words (or other linguistic units) that appear in a data corpus. They are able to show patterns and relationships or word usage in a text. For example bigrams are patterns of two words that appear together and trigrams are a pattern of three words appearing together.\n",
        "\n",
        "1. bigrams\n",
        "\n"
      ]
    },
    {
      "cell_type": "code",
      "execution_count": null,
      "metadata": {
        "id": "toam7i9Gkvhu",
        "colab": {
          "base_uri": "https://localhost:8080/"
        },
        "outputId": "e5c2d6e3-6073-4786-f9a5-bad3334cf06b"
      },
      "outputs": [
        {
          "output_type": "stream",
          "name": "stdout",
          "text": [
            "[('Actually,', 'we'), ('we', 'had'), ('had', 'a'), ('a', 'really'), ('really', 'interesting'), ('interesting', 'conversation'), ('conversation', 'at'), ('at', 'the'), ('the', 'middle'), ('middle', 'school'), ('school', 'Empower'), ('Empower', 'project'), ('project', 'about'), ('about', 'is'), ('is', 'it'), ('it', 'important'), ('important', 'to'), ('to', 'actually'), ('actually', 'separate'), ('separate', 'things'), ('things', 'out'), ('out', 'into'), ('into', 'living'), ('living', 'and'), ('and', 'nonliving,'), ('nonliving,', 'and'), ('and', 'by'), ('by', 'separating'), ('separating', 'things'), ('things', 'into'), ('into', 'living'), ('living', 'and'), ('and', 'nonliving,'), ('nonliving,', \"you're\"), (\"you're\", 'making'), ('making', 'certain'), ('certain', 'that'), ('that', 'you'), ('you', 'know'), ('know', 'what'), ('what', 'your'), ('your', 'goal'), ('goal', 'is.'), ('is.', \"I'm\"), (\"I'm\", 'not'), ('not', 'saying'), ('saying', 'that'), ('that', 'one'), ('one', \"shouldn't\"), (\"shouldn't\", 'do'), ('do', 'that,'), ('that,', '[T:'), ('[T:', 'Right]'), ('Right]', 'but'), ('but', 'if'), ('if', 'you'), ('you', 'are'), ('are', 'doing'), ('doing', 'that,'), ('that,', 'what'), ('what', 'are'), ('are', 'you'), ('you', 'actually'), ('actually', 'saying'), ('saying', 'to'), ('to', 'students'), ('students', 'who'), ('who', 'actually'), ('actually', 'come'), ('come', 'from'), ('from', 'an'), ('an', 'indigenous'), ('indigenous', 'background'), ('background', 'that'), ('that', 'might'), ('might', 'not'), ('not', 'separate'), ('separate', 'things'), ('things', 'out'), ('out', 'in'), ('in', 'that'), ('that', 'same'), ('same', 'way?'), ('way?', '[T:'), ('[T:', 'Yeah.]'), ('Yeah.]', 'How'), ('How', 'do'), ('do', 'you'), ('you', 'actually'), ('actually', 'address'), ('address', 'those'), ('those', 'types'), ('types', 'of'), ('of', 'things?'), ('things?', \"That's\"), (\"That's\", 'something'), ('something', 'that'), ('that', 'I'), ('I', 'will'), ('will', 'consider'), ('consider', 'how'), ('how', 'to'), ('to', 'address.'), ('address.', 'That'), ('That', 'is'), ('is', 'a'), ('a', 'good'), ('good', 'point.'), ('point.', 'That'), ('That', 'I'), ('I', \"hadn't\"), (\"hadn't\", 'considered.'), ('considered.', 'I'), ('I', 'like'), ('like', 'that.'), ('that.', 'But'), ('But', 'I'), ('I', 'do'), ('do', 'think'), ('think', 'it'), ('it', 'kind'), ('kind', 'of'), ('of', 'defines'), ('defines', 'the'), ('the', 'purview'), ('purview', 'of'), ('of', 'biology'), ('biology', 'to'), ('to', 'some'), ('some', 'extent.'), ('extent.', 'You'), ('You', 'know?'), ('know?', 'I'), ('I', 'mean,'), ('mean,', 'we'), ('we', 'talk'), ('talk', 'about'), ('about', 'biotic'), ('biotic', 'and'), ('and', 'abiotic'), ('abiotic', 'components,'), ('components,', 'and'), ('and', 'so'), ('so', \"that's...\"), (\"that's...\", 'It'), ('It', 'defines'), ('defines', 'Western'), ('Western', 'science,'), ('science,', 'right?'), ('right?', 'Yeah,'), ('Yeah,', 'which'), ('which', 'is'), ('is', 'what...'), ('what...', 'But'), ('But', \"that's\"), (\"that's\", 'what'), ('what', 'I'), ('I', 'teach'), ('teach', 'right'), ('right', 'now.'), ('now.', 'You'), ('You', 'know'), ('know', 'what'), ('what', 'I'), ('I', 'mean?'), ('mean?', 'I'), ('I', 'like'), ('like', 'the'), ('the', 'idea'), ('idea', 'of'), ('of', 'incorporating'), ('incorporating', 'traditional'), ('traditional', 'ecological'), ('ecological', 'knowledge'), ('knowledge', 'like..,'), ('like..,', 'but..'), ('but..', 'the..'), ('the..', 'way�'), ('way�', 'that'), ('that', 'my'), ('my', 'current'), ('current', 'standards'), ('standards', 'and'), ('and', 'curriculum'), ('curriculum', 'are'), ('are', 'written�,'), ('written�,', 'the'), ('the', 'class'), ('class', 'that'), ('that', \"I'm\"), (\"I'm\", 'teaching'), ('teaching', 'is'), ('is', 'a'), ('a', 'Western'), ('Western', 'science�'), ('science�', \"That's\"), (\"That's\", 'the�like'), ('the�like', 'that�s'), ('that�s', 'the'), ('the', 'heading,'), ('heading,', 'right?'), ('right?', 'You'), ('You', 'know�I'), ('know�I', 'mean�,'), ('mean�,', 'I'), ('I', 'think'), ('think', 'acknowledging(slowly)...'), ('acknowledging(slowly)...', 'I'), ('I', 'really'), ('really', 'want'), ('want', 'to'), ('to', 'acknowledge'), ('acknowledge', 'more�traditional'), ('more�traditional', 'ways'), ('ways', 'of'), ('of', 'knowing�,'), ('knowing�,', 'more'), ('more', 'traditional'), ('traditional', 'ecological'), ('ecological', 'knowledge�,'), ('knowledge�,', 'right?'), ('right?', 'Ummm'), ('Ummm', 'and'), ('and', 'I'), ('I', 'want'), ('want', 'to'), ('to', 'figure'), ('figure', 'out'), ('out', 'a'), ('a', 'way'), ('way', 'to'), ('to', 'incorporate'), ('incorporate', 'that'), ('that', 'meaningfully'), ('meaningfully', 'in'), ('in', 'a'), ('a', 'way'), ('way', 'that'), ('that', \"doesn't\"), (\"doesn't\", 'trivialize'), ('trivialize', 'it.'), ('it.', 'I'), ('I', \"don't\"), (\"don't\", 'have'), ('have', 'the'), ('the', 'current'), ('current', 'knowledge'), ('knowledge', 'and'), ('and', 'experience'), ('experience', 'to'), ('to', 'do'), ('do', 'that.'), ('that.', \"I'd\"), (\"I'd\", 'really'), ('really', 'like'), ('like', 'to'), ('to', 'somehow'), ('somehow', 'connect'), ('connect', 'with'), ('with', 'someone'), ('someone', 'who'), ('who', 'does'), ('does', '(kinda'), ('(kinda', 'laughs),'), ('laughs),', 'ummm'), ('ummm', 'because'), ('because', 'we'), ('we', 'also'), ('also', \"don't\"), (\"don't\", 'have'), ('have', 'a'), ('a', 'lot'), ('lot', 'of,'), ('of,', 'you'), ('you', 'know,'), ('know,', 'tribal'), ('tribal', 'communities'), ('communities', 'around'), ('around', 'here'), ('here', 'because'), ('because', 'of'), ('of', 'history.'), ('history.', 'But,'), ('But,', 'you'), ('you', 'know,'), ('know,', 'as'), ('as', \"I'm...like�\"), (\"I'm...like�\", 'when'), ('when', 'we'), ('we', 'talk'), ('talk', 'about'), ('about', 'cells,'), ('cells,', 'right?'), ('right?', 'When'), ('When', 'we'), ('we', 'do'), ('do', 'cell'), ('cell', 'biology,'), ('biology,', 'we'), ('we', 'do'), ('do', 'it'), ('it', 'as'), ('as', 'the'), ('the', 'smallest'), ('smallest', 'unit'), ('unit', 'of�'), ('of�', 'like'), ('like', 'a'), ('a', 'living'), ('living', 'thing,'), ('thing,', 'like'), ('like', 'the'), ('the', 'smallest�like'), ('smallest�like', 'liivin:g�'), ('liivin:g�', 'chunk,'), ('chunk,', 'basically.'), ('basically.', 'You'), ('You', 'know,'), ('know,', 'like'), ('like', 'when'), ('when', 'we'), ('we', 'talk'), ('talk', 'about'), ('about', 'ecology,'), ('ecology,', 'we'), ('we', 'separate'), ('separate', 'things'), ('things', 'into'), ('into', 'biotic'), ('biotic', 'components'), ('components', 'and'), ('and', 'abiotic'), ('abiotic', 'components.'), ('components.', 'What'), ('What', 'does'), ('does', 'it'), ('it', 'mean'), ('mean', 'for'), ('for', 'something'), ('something', 'to'), ('to', 'be'), ('be', 'biotic'), ('biotic', 'like?'), ('like?', 'I'), ('I', \"agre-I'm\"), (\"agre-I'm\", 'actually'), ('actually', 'probably'), ('probably', 'not'), ('not', 'even'), ('even', 'going'), ('going', 'to'), ('to', 'go'), ('go', 'through'), ('through', 'a'), ('a', 'list'), ('list', 'of,'), ('of,', 'like,'), ('like,', \"here's\"), (\"here's\", 'the'), ('the', 'definitions'), ('definitions', 'of'), ('of', 'life.'), ('life.', \"I'm\"), (\"I'm\", 'just'), ('just', 'going'), ('going', 'to'), ('to', 'have'), ('have', 'kids�like�'), ('kids�like�', 'talk'), ('talk', 'a'), ('a', 'little'), ('little', 'bit'), ('bit', 'about'), ('about', 'it.'), ('it.', \"I'm\"), (\"I'm\", 'gonna'), ('gonna', 'to'), ('to', 'say'), ('say', 'a'), ('a', 'couple'), ('couple', 'things.'), ('things.', 'But'), ('But', 'this'), ('this', 'is'), ('is', 'going'), ('going', 'to'), ('to', 'be'), ('be', 'like,...'), ('like,...', 'the'), ('the', 'Friday'), ('Friday', 'of'), ('of', 'for'), ('for', 'the'), ('the', 'freshmen'), ('freshmen', 'of'), ('of', 'the'), ('the', 'first'), ('first', 'three-day'), ('three-day', 'week.'), ('week.', \"I'm\"), (\"I'm\", 'going'), ('going', 'to'), ('to', 'just'), ('just', 'have'), ('have', 'some'), ('some', 'stuff'), ('stuff', 'out,'), ('out,', 'and'), ('and', 'I'), ('I', 'want'), ('want', 'to'), ('to', 'see'), ('see', 'kind'), ('kind', 'of'), ('of', 'how'), ('how', 'they'), ('they', 'think'), ('think', 'about'), ('about', 'things.'), ('things.', 'And'), ('And', 'then'), ('then', 'like'), ('like', 'that'), ('that', 'next'), ('next', 'Monday,'), ('Monday,', 'we'), ('we', 'might'), ('might', 'start'), ('start', 'the'), ('the', 'OpenSciED'), ('OpenSciED', 'unit,'), ('unit,', 'but,'), ('but,', 'you'), ('you', 'know..it'), ('know..it', 'is'), ('is', 'tough,'), ('tough,', 'because'), ('because', 'my'), ('my', 'class'), ('class', 'is'), ('is', 'a'), ('a', 'Western'), ('Western', 'science'), ('science', 'class..you'), ('class..you', 'know.'), ('know.', 'Like�and'), ('Like�and', 'that�s'), ('that�s', 'what'), ('what', 'I�m'), ('I�m', 'trained'), ('trained', 'in,'), ('in,', 'too.'), ('too.', 'I'), ('I', \"don't\"), (\"don't\", 'have'), ('have', 'the'), ('the', 'training'), ('training', 'to'), ('to', 'teach'), ('teach', 'other'), ('other', 'things.'), ('things.', \"I'd\"), (\"I'd\", 'like'), ('like', 'to'), ('to', 'acknowledge'), ('acknowledge', 'it�')]\n"
          ]
        }
      ],
      "source": [
        "# Listing bigrams from data\n",
        "uncertainty_bigrams = list(nltk.bigrams(uncertainty_wordTextObjects))\n",
        "print(uncertainty_bigrams)"
      ]
    },
    {
      "cell_type": "markdown",
      "source": [
        "2. trigrams"
      ],
      "metadata": {
        "id": "o7AQYSRezvNA"
      }
    },
    {
      "cell_type": "code",
      "execution_count": null,
      "metadata": {
        "id": "3jUbcASUZwQT",
        "colab": {
          "base_uri": "https://localhost:8080/"
        },
        "outputId": "d6548599-bfd2-497d-bd64-f98f50718d4d"
      },
      "outputs": [
        {
          "output_type": "stream",
          "name": "stdout",
          "text": [
            "[('Actually,', 'we', 'had'), ('we', 'had', 'a'), ('had', 'a', 'really'), ('a', 'really', 'interesting'), ('really', 'interesting', 'conversation'), ('interesting', 'conversation', 'at'), ('conversation', 'at', 'the'), ('at', 'the', 'middle'), ('the', 'middle', 'school'), ('middle', 'school', 'Empower'), ('school', 'Empower', 'project'), ('Empower', 'project', 'about'), ('project', 'about', 'is'), ('about', 'is', 'it'), ('is', 'it', 'important'), ('it', 'important', 'to'), ('important', 'to', 'actually'), ('to', 'actually', 'separate'), ('actually', 'separate', 'things'), ('separate', 'things', 'out'), ('things', 'out', 'into'), ('out', 'into', 'living'), ('into', 'living', 'and'), ('living', 'and', 'nonliving,'), ('and', 'nonliving,', 'and'), ('nonliving,', 'and', 'by'), ('and', 'by', 'separating'), ('by', 'separating', 'things'), ('separating', 'things', 'into'), ('things', 'into', 'living'), ('into', 'living', 'and'), ('living', 'and', 'nonliving,'), ('and', 'nonliving,', \"you're\"), ('nonliving,', \"you're\", 'making'), (\"you're\", 'making', 'certain'), ('making', 'certain', 'that'), ('certain', 'that', 'you'), ('that', 'you', 'know'), ('you', 'know', 'what'), ('know', 'what', 'your'), ('what', 'your', 'goal'), ('your', 'goal', 'is.'), ('goal', 'is.', \"I'm\"), ('is.', \"I'm\", 'not'), (\"I'm\", 'not', 'saying'), ('not', 'saying', 'that'), ('saying', 'that', 'one'), ('that', 'one', \"shouldn't\"), ('one', \"shouldn't\", 'do'), (\"shouldn't\", 'do', 'that,'), ('do', 'that,', '[T:'), ('that,', '[T:', 'Right]'), ('[T:', 'Right]', 'but'), ('Right]', 'but', 'if'), ('but', 'if', 'you'), ('if', 'you', 'are'), ('you', 'are', 'doing'), ('are', 'doing', 'that,'), ('doing', 'that,', 'what'), ('that,', 'what', 'are'), ('what', 'are', 'you'), ('are', 'you', 'actually'), ('you', 'actually', 'saying'), ('actually', 'saying', 'to'), ('saying', 'to', 'students'), ('to', 'students', 'who'), ('students', 'who', 'actually'), ('who', 'actually', 'come'), ('actually', 'come', 'from'), ('come', 'from', 'an'), ('from', 'an', 'indigenous'), ('an', 'indigenous', 'background'), ('indigenous', 'background', 'that'), ('background', 'that', 'might'), ('that', 'might', 'not'), ('might', 'not', 'separate'), ('not', 'separate', 'things'), ('separate', 'things', 'out'), ('things', 'out', 'in'), ('out', 'in', 'that'), ('in', 'that', 'same'), ('that', 'same', 'way?'), ('same', 'way?', '[T:'), ('way?', '[T:', 'Yeah.]'), ('[T:', 'Yeah.]', 'How'), ('Yeah.]', 'How', 'do'), ('How', 'do', 'you'), ('do', 'you', 'actually'), ('you', 'actually', 'address'), ('actually', 'address', 'those'), ('address', 'those', 'types'), ('those', 'types', 'of'), ('types', 'of', 'things?'), ('of', 'things?', \"That's\"), ('things?', \"That's\", 'something'), (\"That's\", 'something', 'that'), ('something', 'that', 'I'), ('that', 'I', 'will'), ('I', 'will', 'consider'), ('will', 'consider', 'how'), ('consider', 'how', 'to'), ('how', 'to', 'address.'), ('to', 'address.', 'That'), ('address.', 'That', 'is'), ('That', 'is', 'a'), ('is', 'a', 'good'), ('a', 'good', 'point.'), ('good', 'point.', 'That'), ('point.', 'That', 'I'), ('That', 'I', \"hadn't\"), ('I', \"hadn't\", 'considered.'), (\"hadn't\", 'considered.', 'I'), ('considered.', 'I', 'like'), ('I', 'like', 'that.'), ('like', 'that.', 'But'), ('that.', 'But', 'I'), ('But', 'I', 'do'), ('I', 'do', 'think'), ('do', 'think', 'it'), ('think', 'it', 'kind'), ('it', 'kind', 'of'), ('kind', 'of', 'defines'), ('of', 'defines', 'the'), ('defines', 'the', 'purview'), ('the', 'purview', 'of'), ('purview', 'of', 'biology'), ('of', 'biology', 'to'), ('biology', 'to', 'some'), ('to', 'some', 'extent.'), ('some', 'extent.', 'You'), ('extent.', 'You', 'know?'), ('You', 'know?', 'I'), ('know?', 'I', 'mean,'), ('I', 'mean,', 'we'), ('mean,', 'we', 'talk'), ('we', 'talk', 'about'), ('talk', 'about', 'biotic'), ('about', 'biotic', 'and'), ('biotic', 'and', 'abiotic'), ('and', 'abiotic', 'components,'), ('abiotic', 'components,', 'and'), ('components,', 'and', 'so'), ('and', 'so', \"that's...\"), ('so', \"that's...\", 'It'), (\"that's...\", 'It', 'defines'), ('It', 'defines', 'Western'), ('defines', 'Western', 'science,'), ('Western', 'science,', 'right?'), ('science,', 'right?', 'Yeah,'), ('right?', 'Yeah,', 'which'), ('Yeah,', 'which', 'is'), ('which', 'is', 'what...'), ('is', 'what...', 'But'), ('what...', 'But', \"that's\"), ('But', \"that's\", 'what'), (\"that's\", 'what', 'I'), ('what', 'I', 'teach'), ('I', 'teach', 'right'), ('teach', 'right', 'now.'), ('right', 'now.', 'You'), ('now.', 'You', 'know'), ('You', 'know', 'what'), ('know', 'what', 'I'), ('what', 'I', 'mean?'), ('I', 'mean?', 'I'), ('mean?', 'I', 'like'), ('I', 'like', 'the'), ('like', 'the', 'idea'), ('the', 'idea', 'of'), ('idea', 'of', 'incorporating'), ('of', 'incorporating', 'traditional'), ('incorporating', 'traditional', 'ecological'), ('traditional', 'ecological', 'knowledge'), ('ecological', 'knowledge', 'like..,'), ('knowledge', 'like..,', 'but..'), ('like..,', 'but..', 'the..'), ('but..', 'the..', 'way�'), ('the..', 'way�', 'that'), ('way�', 'that', 'my'), ('that', 'my', 'current'), ('my', 'current', 'standards'), ('current', 'standards', 'and'), ('standards', 'and', 'curriculum'), ('and', 'curriculum', 'are'), ('curriculum', 'are', 'written�,'), ('are', 'written�,', 'the'), ('written�,', 'the', 'class'), ('the', 'class', 'that'), ('class', 'that', \"I'm\"), ('that', \"I'm\", 'teaching'), (\"I'm\", 'teaching', 'is'), ('teaching', 'is', 'a'), ('is', 'a', 'Western'), ('a', 'Western', 'science�'), ('Western', 'science�', \"That's\"), ('science�', \"That's\", 'the�like'), (\"That's\", 'the�like', 'that�s'), ('the�like', 'that�s', 'the'), ('that�s', 'the', 'heading,'), ('the', 'heading,', 'right?'), ('heading,', 'right?', 'You'), ('right?', 'You', 'know�I'), ('You', 'know�I', 'mean�,'), ('know�I', 'mean�,', 'I'), ('mean�,', 'I', 'think'), ('I', 'think', 'acknowledging(slowly)...'), ('think', 'acknowledging(slowly)...', 'I'), ('acknowledging(slowly)...', 'I', 'really'), ('I', 'really', 'want'), ('really', 'want', 'to'), ('want', 'to', 'acknowledge'), ('to', 'acknowledge', 'more�traditional'), ('acknowledge', 'more�traditional', 'ways'), ('more�traditional', 'ways', 'of'), ('ways', 'of', 'knowing�,'), ('of', 'knowing�,', 'more'), ('knowing�,', 'more', 'traditional'), ('more', 'traditional', 'ecological'), ('traditional', 'ecological', 'knowledge�,'), ('ecological', 'knowledge�,', 'right?'), ('knowledge�,', 'right?', 'Ummm'), ('right?', 'Ummm', 'and'), ('Ummm', 'and', 'I'), ('and', 'I', 'want'), ('I', 'want', 'to'), ('want', 'to', 'figure'), ('to', 'figure', 'out'), ('figure', 'out', 'a'), ('out', 'a', 'way'), ('a', 'way', 'to'), ('way', 'to', 'incorporate'), ('to', 'incorporate', 'that'), ('incorporate', 'that', 'meaningfully'), ('that', 'meaningfully', 'in'), ('meaningfully', 'in', 'a'), ('in', 'a', 'way'), ('a', 'way', 'that'), ('way', 'that', \"doesn't\"), ('that', \"doesn't\", 'trivialize'), (\"doesn't\", 'trivialize', 'it.'), ('trivialize', 'it.', 'I'), ('it.', 'I', \"don't\"), ('I', \"don't\", 'have'), (\"don't\", 'have', 'the'), ('have', 'the', 'current'), ('the', 'current', 'knowledge'), ('current', 'knowledge', 'and'), ('knowledge', 'and', 'experience'), ('and', 'experience', 'to'), ('experience', 'to', 'do'), ('to', 'do', 'that.'), ('do', 'that.', \"I'd\"), ('that.', \"I'd\", 'really'), (\"I'd\", 'really', 'like'), ('really', 'like', 'to'), ('like', 'to', 'somehow'), ('to', 'somehow', 'connect'), ('somehow', 'connect', 'with'), ('connect', 'with', 'someone'), ('with', 'someone', 'who'), ('someone', 'who', 'does'), ('who', 'does', '(kinda'), ('does', '(kinda', 'laughs),'), ('(kinda', 'laughs),', 'ummm'), ('laughs),', 'ummm', 'because'), ('ummm', 'because', 'we'), ('because', 'we', 'also'), ('we', 'also', \"don't\"), ('also', \"don't\", 'have'), (\"don't\", 'have', 'a'), ('have', 'a', 'lot'), ('a', 'lot', 'of,'), ('lot', 'of,', 'you'), ('of,', 'you', 'know,'), ('you', 'know,', 'tribal'), ('know,', 'tribal', 'communities'), ('tribal', 'communities', 'around'), ('communities', 'around', 'here'), ('around', 'here', 'because'), ('here', 'because', 'of'), ('because', 'of', 'history.'), ('of', 'history.', 'But,'), ('history.', 'But,', 'you'), ('But,', 'you', 'know,'), ('you', 'know,', 'as'), ('know,', 'as', \"I'm...like�\"), ('as', \"I'm...like�\", 'when'), (\"I'm...like�\", 'when', 'we'), ('when', 'we', 'talk'), ('we', 'talk', 'about'), ('talk', 'about', 'cells,'), ('about', 'cells,', 'right?'), ('cells,', 'right?', 'When'), ('right?', 'When', 'we'), ('When', 'we', 'do'), ('we', 'do', 'cell'), ('do', 'cell', 'biology,'), ('cell', 'biology,', 'we'), ('biology,', 'we', 'do'), ('we', 'do', 'it'), ('do', 'it', 'as'), ('it', 'as', 'the'), ('as', 'the', 'smallest'), ('the', 'smallest', 'unit'), ('smallest', 'unit', 'of�'), ('unit', 'of�', 'like'), ('of�', 'like', 'a'), ('like', 'a', 'living'), ('a', 'living', 'thing,'), ('living', 'thing,', 'like'), ('thing,', 'like', 'the'), ('like', 'the', 'smallest�like'), ('the', 'smallest�like', 'liivin:g�'), ('smallest�like', 'liivin:g�', 'chunk,'), ('liivin:g�', 'chunk,', 'basically.'), ('chunk,', 'basically.', 'You'), ('basically.', 'You', 'know,'), ('You', 'know,', 'like'), ('know,', 'like', 'when'), ('like', 'when', 'we'), ('when', 'we', 'talk'), ('we', 'talk', 'about'), ('talk', 'about', 'ecology,'), ('about', 'ecology,', 'we'), ('ecology,', 'we', 'separate'), ('we', 'separate', 'things'), ('separate', 'things', 'into'), ('things', 'into', 'biotic'), ('into', 'biotic', 'components'), ('biotic', 'components', 'and'), ('components', 'and', 'abiotic'), ('and', 'abiotic', 'components.'), ('abiotic', 'components.', 'What'), ('components.', 'What', 'does'), ('What', 'does', 'it'), ('does', 'it', 'mean'), ('it', 'mean', 'for'), ('mean', 'for', 'something'), ('for', 'something', 'to'), ('something', 'to', 'be'), ('to', 'be', 'biotic'), ('be', 'biotic', 'like?'), ('biotic', 'like?', 'I'), ('like?', 'I', \"agre-I'm\"), ('I', \"agre-I'm\", 'actually'), (\"agre-I'm\", 'actually', 'probably'), ('actually', 'probably', 'not'), ('probably', 'not', 'even'), ('not', 'even', 'going'), ('even', 'going', 'to'), ('going', 'to', 'go'), ('to', 'go', 'through'), ('go', 'through', 'a'), ('through', 'a', 'list'), ('a', 'list', 'of,'), ('list', 'of,', 'like,'), ('of,', 'like,', \"here's\"), ('like,', \"here's\", 'the'), (\"here's\", 'the', 'definitions'), ('the', 'definitions', 'of'), ('definitions', 'of', 'life.'), ('of', 'life.', \"I'm\"), ('life.', \"I'm\", 'just'), (\"I'm\", 'just', 'going'), ('just', 'going', 'to'), ('going', 'to', 'have'), ('to', 'have', 'kids�like�'), ('have', 'kids�like�', 'talk'), ('kids�like�', 'talk', 'a'), ('talk', 'a', 'little'), ('a', 'little', 'bit'), ('little', 'bit', 'about'), ('bit', 'about', 'it.'), ('about', 'it.', \"I'm\"), ('it.', \"I'm\", 'gonna'), (\"I'm\", 'gonna', 'to'), ('gonna', 'to', 'say'), ('to', 'say', 'a'), ('say', 'a', 'couple'), ('a', 'couple', 'things.'), ('couple', 'things.', 'But'), ('things.', 'But', 'this'), ('But', 'this', 'is'), ('this', 'is', 'going'), ('is', 'going', 'to'), ('going', 'to', 'be'), ('to', 'be', 'like,...'), ('be', 'like,...', 'the'), ('like,...', 'the', 'Friday'), ('the', 'Friday', 'of'), ('Friday', 'of', 'for'), ('of', 'for', 'the'), ('for', 'the', 'freshmen'), ('the', 'freshmen', 'of'), ('freshmen', 'of', 'the'), ('of', 'the', 'first'), ('the', 'first', 'three-day'), ('first', 'three-day', 'week.'), ('three-day', 'week.', \"I'm\"), ('week.', \"I'm\", 'going'), (\"I'm\", 'going', 'to'), ('going', 'to', 'just'), ('to', 'just', 'have'), ('just', 'have', 'some'), ('have', 'some', 'stuff'), ('some', 'stuff', 'out,'), ('stuff', 'out,', 'and'), ('out,', 'and', 'I'), ('and', 'I', 'want'), ('I', 'want', 'to'), ('want', 'to', 'see'), ('to', 'see', 'kind'), ('see', 'kind', 'of'), ('kind', 'of', 'how'), ('of', 'how', 'they'), ('how', 'they', 'think'), ('they', 'think', 'about'), ('think', 'about', 'things.'), ('about', 'things.', 'And'), ('things.', 'And', 'then'), ('And', 'then', 'like'), ('then', 'like', 'that'), ('like', 'that', 'next'), ('that', 'next', 'Monday,'), ('next', 'Monday,', 'we'), ('Monday,', 'we', 'might'), ('we', 'might', 'start'), ('might', 'start', 'the'), ('start', 'the', 'OpenSciED'), ('the', 'OpenSciED', 'unit,'), ('OpenSciED', 'unit,', 'but,'), ('unit,', 'but,', 'you'), ('but,', 'you', 'know..it'), ('you', 'know..it', 'is'), ('know..it', 'is', 'tough,'), ('is', 'tough,', 'because'), ('tough,', 'because', 'my'), ('because', 'my', 'class'), ('my', 'class', 'is'), ('class', 'is', 'a'), ('is', 'a', 'Western'), ('a', 'Western', 'science'), ('Western', 'science', 'class..you'), ('science', 'class..you', 'know.'), ('class..you', 'know.', 'Like�and'), ('know.', 'Like�and', 'that�s'), ('Like�and', 'that�s', 'what'), ('that�s', 'what', 'I�m'), ('what', 'I�m', 'trained'), ('I�m', 'trained', 'in,'), ('trained', 'in,', 'too.'), ('in,', 'too.', 'I'), ('too.', 'I', \"don't\"), ('I', \"don't\", 'have'), (\"don't\", 'have', 'the'), ('have', 'the', 'training'), ('the', 'training', 'to'), ('training', 'to', 'teach'), ('to', 'teach', 'other'), ('teach', 'other', 'things.'), ('other', 'things.', \"I'd\"), ('things.', \"I'd\", 'like'), (\"I'd\", 'like', 'to'), ('like', 'to', 'acknowledge'), ('to', 'acknowledge', 'it�')]\n"
          ]
        }
      ],
      "source": [
        "# Listing trigrams from data\n",
        "uncertainty_trigrams = list(nltk.trigrams(uncertainty_wordTextObjects))\n",
        "print(uncertainty_trigrams)"
      ]
    },
    {
      "cell_type": "markdown",
      "source": [
        "# Collocations\n",
        "Collocations are pairs or groups of words that tend to appear frequently together in a text, often with a specific meaning or connotation ('fast food', 'red wine', 'United States of America').  They are not just random word combinations but rather indicative of language patterns. Identifying collocations can be useful for understanding the associations between words in a text.\n",
        "\n",
        "NLTK provides the collocations module, which includes methods to identify and extract collocations from a text. One common approach is to use the BigramAssocMeasures class along with the BigramCollocationFinder class to find significant word pairs (bigrams) based on various measures such as frequency among others."
      ],
      "metadata": {
        "id": "MpktUCiUsCO0"
      }
    },
    {
      "cell_type": "code",
      "execution_count": null,
      "metadata": {
        "id": "R2zRzp6Zhd2v",
        "colab": {
          "base_uri": "https://localhost:8080/"
        },
        "outputId": "4c12d5ea-1db4-41f5-ed60-bbe27e2edfdb"
      },
      "outputs": [
        {
          "output_type": "stream",
          "name": "stdout",
          "text": [
            "                ('going', 'to')          ('separate', 'things')                     ('is', 'a')                  ('we', 'talk')               ('talk', 'about')                  ('want', 'to')               (\"don't\", 'have')               ('things', 'out')              ('into', 'living')               ('living', 'and')           ('and', 'nonliving,')              ('things', 'into')                ('know', 'what')             ('you', 'actually')                   ('I', 'like')                  ('kind', 'of')              ('and', 'abiotic')                   ('what', 'I')                 ('like', 'the')   ('traditional', 'ecological')                ('a', 'Western')           ('to', 'acknowledge')                    ('and', 'I')                   ('I', 'want')                    ('a', 'way')                  ('I', \"don't\")                 ('have', 'the')                  ('like', 'to')                ('you', 'know,')                  ('when', 'we')                    ('we', 'do')                    ('to', 'be')             ('Actually,', 'we')                   ('we', 'had')                    ('had', 'a')                 ('a', 'really')       ('really', 'interesting') ('interesting', 'conversation')          ('conversation', 'at')                   ('at', 'the')               ('the', 'middle')            ('middle', 'school')           ('school', 'Empower')          ('Empower', 'project')            ('project', 'about')                 ('about', 'is')                    ('is', 'it')             ('it', 'important')             ('important', 'to')              ('to', 'actually') \n",
            "                              4                               3                               3                               3                               3                               3                               3                               2                               2                               2                               2                               2                               2                               2                               2                               2                               2                               2                               2                               2                               2                               2                               2                               2                               2                               2                               2                               2                               2                               2                               2                               2                               1                               1                               1                               1                               1                               1                               1                               1                               1                               1                               1                               1                               1                               1                               1                               1                               1                               1 \n"
          ]
        }
      ],
      "source": [
        "# display frequency of highest 50 bigrams\n",
        "# See if you can identify any bigrams that might signal uncertainty\n",
        "finder = nltk.collocations.BigramCollocationFinder.from_words(uncertainty_wordTextObjects)\n",
        "finder.ngram_fd.tabulate(50)"
      ]
    },
    {
      "cell_type": "code",
      "execution_count": null,
      "metadata": {
        "id": "wEPNcD6W9K2o",
        "colab": {
          "base_uri": "https://localhost:8080/"
        },
        "outputId": "96b7ab94-a630-4586-e9fd-17d7ef2c2253"
      },
      "outputs": [
        {
          "output_type": "stream",
          "name": "stdout",
          "text": [
            "                  ('we', 'talk', 'about')             ('separate', 'things', 'out')                 ('into', 'living', 'and')           ('living', 'and', 'nonliving,')                    ('is', 'a', 'Western')                      ('and', 'I', 'want')                       ('I', 'want', 'to')                    ('I', \"don't\", 'have')                  (\"don't\", 'have', 'the')                    ('when', 'we', 'talk')                ('Actually,', 'we', 'had')                        ('we', 'had', 'a')                    ('had', 'a', 'really')            ('a', 'really', 'interesting') ('really', 'interesting', 'conversation')     ('interesting', 'conversation', 'at')             ('conversation', 'at', 'the')                   ('at', 'the', 'middle')               ('the', 'middle', 'school')           ('middle', 'school', 'Empower')          ('school', 'Empower', 'project')           ('Empower', 'project', 'about')                ('project', 'about', 'is')                     ('about', 'is', 'it')                 ('is', 'it', 'important')                 ('it', 'important', 'to')           ('important', 'to', 'actually')            ('to', 'actually', 'separate')        ('actually', 'separate', 'things')                 ('things', 'out', 'into')                 ('out', 'into', 'living')              ('and', 'nonliving,', 'and')               ('nonliving,', 'and', 'by')               ('and', 'by', 'separating')            ('by', 'separating', 'things')          ('separating', 'things', 'into')              ('things', 'into', 'living')           ('and', 'nonliving,', \"you're\")        ('nonliving,', \"you're\", 'making')           (\"you're\", 'making', 'certain')             ('making', 'certain', 'that')                ('certain', 'that', 'you')                   ('that', 'you', 'know')                   ('you', 'know', 'what')                  ('know', 'what', 'your')                  ('what', 'your', 'goal')                   ('your', 'goal', 'is.')                    ('goal', 'is.', \"I'm\")                     ('is.', \"I'm\", 'not')                  (\"I'm\", 'not', 'saying')                 ('not', 'saying', 'that')                 ('saying', 'that', 'one')              ('that', 'one', \"shouldn't\")                ('one', \"shouldn't\", 'do')              (\"shouldn't\", 'do', 'that,')                    ('do', 'that,', '[T:')                ('that,', '[T:', 'Right]')                  ('[T:', 'Right]', 'but')                   ('Right]', 'but', 'if')                      ('but', 'if', 'you')                      ('if', 'you', 'are')                   ('you', 'are', 'doing')                 ('are', 'doing', 'that,')                ('doing', 'that,', 'what')                  ('that,', 'what', 'are')                    ('what', 'are', 'you')                ('are', 'you', 'actually')             ('you', 'actually', 'saying')              ('actually', 'saying', 'to')              ('saying', 'to', 'students')                 ('to', 'students', 'who')           ('students', 'who', 'actually')               ('who', 'actually', 'come')              ('actually', 'come', 'from')                    ('come', 'from', 'an')              ('from', 'an', 'indigenous')        ('an', 'indigenous', 'background')      ('indigenous', 'background', 'that')           ('background', 'that', 'might')                  ('that', 'might', 'not')              ('might', 'not', 'separate')             ('not', 'separate', 'things')                   ('things', 'out', 'in')                     ('out', 'in', 'that')                    ('in', 'that', 'same')                  ('that', 'same', 'way?')                   ('same', 'way?', '[T:')                 ('way?', '[T:', 'Yeah.]')                  ('[T:', 'Yeah.]', 'How')                   ('Yeah.]', 'How', 'do')                      ('How', 'do', 'you')                 ('do', 'you', 'actually')            ('you', 'actually', 'address')          ('actually', 'address', 'those')             ('address', 'those', 'types')                  ('those', 'types', 'of')                ('types', 'of', 'things?')               ('of', 'things?', \"That's\")        ('things?', \"That's\", 'something')           (\"That's\", 'something', 'that') \n",
            "                                        3                                         2                                         2                                         2                                         2                                         2                                         2                                         2                                         2                                         2                                         1                                         1                                         1                                         1                                         1                                         1                                         1                                         1                                         1                                         1                                         1                                         1                                         1                                         1                                         1                                         1                                         1                                         1                                         1                                         1                                         1                                         1                                         1                                         1                                         1                                         1                                         1                                         1                                         1                                         1                                         1                                         1                                         1                                         1                                         1                                         1                                         1                                         1                                         1                                         1                                         1                                         1                                         1                                         1                                         1                                         1                                         1                                         1                                         1                                         1                                         1                                         1                                         1                                         1                                         1                                         1                                         1                                         1                                         1                                         1                                         1                                         1                                         1                                         1                                         1                                         1                                         1                                         1                                         1                                         1                                         1                                         1                                         1                                         1                                         1                                         1                                         1                                         1                                         1                                         1                                         1                                         1                                         1                                         1                                         1                                         1                                         1                                         1                                         1                                         1 \n"
          ]
        }
      ],
      "source": [
        "# display frequency of highest 25 trigrams\n",
        "finder = nltk.collocations.TrigramCollocationFinder.from_words(uncertainty_wordTextObjects)\n",
        "finder.ngram_fd.tabulate(100)"
      ]
    },
    {
      "cell_type": "markdown",
      "source": [
        "# Any number of Ns\n",
        "\n",
        "If you have need to search for higher values of 'n', the following code cell when executed can search for any value of 'n' that you would like. Just change the number in line 4."
      ],
      "metadata": {
        "id": "7sRUwYVTrX8Q"
      }
    },
    {
      "cell_type": "code",
      "execution_count": null,
      "metadata": {
        "id": "EdyWCRp99YYT",
        "colab": {
          "base_uri": "https://localhost:8080/"
        },
        "outputId": "2a6b37c9-ca76-49f9-f0bc-631baec7e4dd"
      },
      "outputs": [
        {
          "output_type": "stream",
          "name": "stdout",
          "text": [
            "        ('into', 'living', 'and', 'nonliving,')                      ('and', 'I', 'want', 'to')                   ('I', \"don't\", 'have', 'the')                 ('when', 'we', 'talk', 'about')                 ('Actually,', 'we', 'had', 'a')                    ('we', 'had', 'a', 'really')           ('had', 'a', 'really', 'interesting')  ('a', 'really', 'interesting', 'conversation') ('really', 'interesting', 'conversation', 'at')    ('interesting', 'conversation', 'at', 'the')         ('conversation', 'at', 'the', 'middle')               ('at', 'the', 'middle', 'school')          ('the', 'middle', 'school', 'Empower')      ('middle', 'school', 'Empower', 'project')       ('school', 'Empower', 'project', 'about')           ('Empower', 'project', 'about', 'is')                ('project', 'about', 'is', 'it')              ('about', 'is', 'it', 'important')                 ('is', 'it', 'important', 'to')           ('it', 'important', 'to', 'actually')     ('important', 'to', 'actually', 'separate')        ('to', 'actually', 'separate', 'things')       ('actually', 'separate', 'things', 'out')           ('separate', 'things', 'out', 'into')             ('things', 'out', 'into', 'living') \n",
            "                                              2                                               2                                               2                                               2                                               1                                               1                                               1                                               1                                               1                                               1                                               1                                               1                                               1                                               1                                               1                                               1                                               1                                               1                                               1                                               1                                               1                                               1                                               1                                               1                                               1 \n"
          ]
        }
      ],
      "source": [
        "\n",
        "from nltk.util import ngrams\n",
        "\n",
        "n_value = 4  # Change this for different n values\n",
        "fourgrams = ngrams(uncertainty_wordTextObjects, n_value)\n",
        "\n",
        "# Tabulate the top n-grams\n",
        "fdist = nltk.FreqDist(fourgrams)\n",
        "fdist.tabulate(25)  # Top 10 fourgrams\n",
        "\n",
        "\n",
        "# Change the value for n and identify any other n-grams that might signal uncertainty"
      ]
    },
    {
      "cell_type": "markdown",
      "source": [
        "# Finding words that appear 'close' to each other.\n",
        "The provided code snippet demonstrates how to search for instances of two specific words (e.g., \"I\" and \"think\") appearing within a certain distance from each other in a given text corpus. The code utilizes regular expressions and the NLTK library to tokenize the text, compile the regular expression pattern, and then search for matching sentences containing the specified word pair. It also includes a step to download the NLTK punkt tokenizer data if not already available, ensuring successful sentence tokenization.\n",
        "\n",
        "* You should hopefully notice here that NLTK is able to use both word and sentence tokens interactively with each other."
      ],
      "metadata": {
        "id": "uNYRSTzf2bEf"
      }
    },
    {
      "cell_type": "code",
      "source": [
        "import nltk\n",
        "# Download the NLTK punkt tokenizer data\n",
        "nltk.download('punkt')\n",
        "#from nltk.sent_tokenize import sent_tokenize\n",
        "from nltk.text import Text\n",
        "import re\n"
      ],
      "metadata": {
        "id": "mhCgx_AB3auS",
        "colab": {
          "base_uri": "https://localhost:8080/"
        },
        "outputId": "ade1c081-cce3-4be7-e5c2-e2992462dc78"
      },
      "execution_count": null,
      "outputs": [
        {
          "output_type": "stream",
          "name": "stderr",
          "text": [
            "[nltk_data] Downloading package punkt to /root/nltk_data...\n",
            "[nltk_data]   Package punkt is already up-to-date!\n"
          ]
        }
      ]
    },
    {
      "cell_type": "markdown",
      "source": [
        "You can change the words in line 9 and 10 to investigate different word combinations. Line 13 allows you to chage the maximum distance between the words."
      ],
      "metadata": {
        "id": "vo1cg3itAF4g"
      }
    },
    {
      "cell_type": "code",
      "source": [
        "\n",
        "# Tokenize the text into words\n",
        "corpus_words = nltk.word_tokenize(raw_uncertaintyText)\n",
        "\n",
        "# Create a Text object from the tokenized words\n",
        "corpus_text = Text(corpus_words)\n",
        "\n",
        "# Define the two words to search for\n",
        "word1 = \"I\"\n",
        "word2 = \"think\"\n",
        "\n",
        "# Define the maximum distance between the two words\n",
        "max_distance = 2  # Adjust this value as needed\n",
        "\n",
        "# Create a pattern for searching\n",
        "pattern = r\"\\b\" + word1 + r\"\\W+(?:\\w+\\W+){\" + f\"0,{max_distance}\" + r\"}\" + word2 + r\"\\b\"\n",
        "\n",
        "# Extract plain text from the corpus_text object\n",
        "plain_text = ' '.join(corpus_text.tokens)\n",
        "\n",
        "# Compile the regular expression\n",
        "search_regex = re.compile(pattern, re.IGNORECASE)\n",
        "\n",
        "# Find sentences where the pattern appears\n",
        "sentences = nltk.sent_tokenize(plain_text)\n",
        "\n",
        "# Search for sentences where the two words appear within the specified distance\n",
        "matching_sentences = []\n",
        "for sentence in sentences:\n",
        "    if search_regex.search(sentence):\n",
        "        matching_sentences.append(sentence)\n",
        "\n",
        "# Print the matching sentences\n",
        "for sentence in matching_sentences:\n",
        "    print(sentence)\n"
      ],
      "metadata": {
        "id": "GZem2Xwx4k9c",
        "colab": {
          "base_uri": "https://localhost:8080/"
        },
        "outputId": "1c5fb708-de4e-4dcb-c6ad-4d8c77c003a4"
      },
      "execution_count": null,
      "outputs": [
        {
          "output_type": "stream",
          "name": "stdout",
          "text": [
            "But I do think it kind of defines the purview of biology to some extent .\n",
            "You know�I mean� , I think acknowledging ( slowly ) ...\n"
          ]
        }
      ]
    },
    {
      "cell_type": "markdown",
      "source": [
        "# Finding n-grams attached to a specific word"
      ],
      "metadata": {
        "id": "3J0ugAkl3zJK"
      }
    },
    {
      "cell_type": "code",
      "source": [
        "import nltk\n",
        "from nltk import ngrams\n",
        "from collections import defaultdict\n",
        "\n",
        "# Assuming you've already tokenized your text\n",
        "corpus_words = nltk.word_tokenize(raw_uncertaintyText)\n",
        "\n",
        "# Function to get n-grams with the word of interest\n",
        "def get_ngrams_with_word(word, tokens, min_n=2, max_n=6):\n",
        "    \"\"\"\n",
        "    Extract ngrams from tokens that contain the word of interest.\n",
        "\n",
        "    Parameters:\n",
        "    - word (str): word of interest\n",
        "    - tokens (list): tokenized text\n",
        "    - min_n (int): minimum n-gram size\n",
        "    - max_n (int): maximum n-gram size\n",
        "\n",
        "    Returns:\n",
        "    - defaultdict(int): n-grams with their frequencies\n",
        "    \"\"\"\n",
        "    relevant_ngrams = defaultdict(int)\n",
        "    for n in range(min_n, max_n+1):\n",
        "        for ngram in ngrams(tokens, n):\n",
        "            if word in ngram:\n",
        "                relevant_ngrams[ngram] += 1\n",
        "    return relevant_ngrams\n",
        "\n",
        "word_of_interest = \"but\"  # Or any other word you're interested in\n",
        "ngram_frequencies = get_ngrams_with_word(word_of_interest, corpus_words)\n",
        "\n",
        "# Printing the ngrams and their frequencies\n",
        "for ngram, freq in ngram_frequencies.items():\n",
        "    print(' '.join(ngram), \":\", freq)\n"
      ],
      "metadata": {
        "id": "PvBFYSv137wL",
        "colab": {
          "base_uri": "https://localhost:8080/"
        },
        "outputId": "b05d0138-ba9d-48f3-b807-8c4342a2b720"
      },
      "execution_count": null,
      "outputs": [
        {
          "output_type": "stream",
          "name": "stdout",
          "text": [
            "] but : 1\n",
            "but if : 1\n",
            ", but : 2\n",
            "but .. : 1\n",
            "but , : 1\n",
            "Right ] but : 1\n",
            "] but if : 1\n",
            "but if you : 1\n",
            ".. , but : 1\n",
            ", but .. : 1\n",
            "but .. the : 1\n",
            "unit , but : 1\n",
            ", but , : 1\n",
            "but , you : 1\n",
            ": Right ] but : 1\n",
            "Right ] but if : 1\n",
            "] but if you : 1\n",
            "but if you are : 1\n",
            "like .. , but : 1\n",
            ".. , but .. : 1\n",
            ", but .. the : 1\n",
            "but .. the .. : 1\n",
            "OpenSciED unit , but : 1\n",
            "unit , but , : 1\n",
            ", but , you : 1\n",
            "but , you know : 1\n",
            "T : Right ] but : 1\n",
            ": Right ] but if : 1\n",
            "Right ] but if you : 1\n",
            "] but if you are : 1\n",
            "but if you are doing : 1\n",
            "knowledge like .. , but : 1\n",
            "like .. , but .. : 1\n",
            ".. , but .. the : 1\n",
            ", but .. the .. : 1\n",
            "but .. the .. way� : 1\n",
            "the OpenSciED unit , but : 1\n",
            "OpenSciED unit , but , : 1\n",
            "unit , but , you : 1\n",
            ", but , you know : 1\n",
            "but , you know .. : 1\n",
            "[ T : Right ] but : 1\n",
            "T : Right ] but if : 1\n",
            ": Right ] but if you : 1\n",
            "Right ] but if you are : 1\n",
            "] but if you are doing : 1\n",
            "but if you are doing that : 1\n",
            "ecological knowledge like .. , but : 1\n",
            "knowledge like .. , but .. : 1\n",
            "like .. , but .. the : 1\n",
            ".. , but .. the .. : 1\n",
            ", but .. the .. way� : 1\n",
            "but .. the .. way� that : 1\n",
            "start the OpenSciED unit , but : 1\n",
            "the OpenSciED unit , but , : 1\n",
            "OpenSciED unit , but , you : 1\n",
            "unit , but , you know : 1\n",
            ", but , you know .. : 1\n",
            "but , you know .. it : 1\n"
          ]
        }
      ]
    },
    {
      "cell_type": "code",
      "source": [
        "import nltk\n",
        "from nltk import ngrams\n",
        "from collections import defaultdict\n",
        "\n",
        "# Assuming you've already tokenized your text\n",
        "corpus_words = nltk.word_tokenize(raw_uncertaintyText)\n",
        "\n",
        "# Function to get n-grams with the word of interest\n",
        "def get_ngrams_with_word(word, tokens, min_n=1, max_n=6):\n",
        "    \"\"\"\n",
        "    Extract ngrams from tokens that contain the word of interest.\n",
        "\n",
        "    Parameters:\n",
        "    - word (str): word of interest\n",
        "    - tokens (list): tokenized text\n",
        "    - min_n (int): minimum n-gram size\n",
        "    - max_n (int): maximum n-gram size\n",
        "\n",
        "    Returns:\n",
        "    - defaultdict(int): n-grams with their frequencies\n",
        "    \"\"\"\n",
        "    relevant_ngrams = defaultdict(int)\n",
        "    for n in range(min_n, max_n+1):\n",
        "        for ngram in ngrams(tokens, n):\n",
        "            if word in ngram:\n",
        "                relevant_ngrams[ngram] += 1\n",
        "    return relevant_ngrams\n",
        "\n",
        "word_of_interest = \"but\"  # Or any other word you're interested in\n",
        "ngram_frequencies = get_ngrams_with_word(word_of_interest, corpus_words)\n",
        "\n",
        "# Frequency threshold\n",
        "threshold = 1  # adjust this value as needed\n",
        "\n",
        "# Printing the ngrams and their frequencies if above threshold\n",
        "for ngram, freq in ngram_frequencies.items():\n",
        "    if freq > threshold:\n",
        "        print(' '.join(ngram), \":\", freq)\n"
      ],
      "metadata": {
        "colab": {
          "base_uri": "https://localhost:8080/"
        },
        "id": "OOVn4i4w4xxq",
        "outputId": "9b25b262-d8fc-4076-ad91-08fd85cc022f"
      },
      "execution_count": null,
      "outputs": [
        {
          "output_type": "stream",
          "name": "stdout",
          "text": [
            "but : 3\n",
            ", but : 2\n"
          ]
        }
      ]
    },
    {
      "cell_type": "markdown",
      "metadata": {
        "id": "XAN46LK6q-qZ"
      },
      "source": [
        "#4.3  Sentiment Analysis of Uncertainty Words in Classroom Transcripts\n",
        "This code performs sentence-level sentiment analysis on our uncertainty transcript with a focus on words that indicate uncertainty. You can add or subtract words from the \"uncertainty_words\" dictionary in line 6. NLTK will keep track of frequency counts of each word and then analyze the sentiment intensities of the SENTENCE where the word is found. Giving the overall average sentiment for the sentences. The idea is to understand not just how often these words occur, but also the general emotional tone of the sentences in which they appear."
      ]
    },
    {
      "cell_type": "code",
      "source": [
        "nltk.download('vader_lexicon')\n",
        "from nltk.tokenize import sent_tokenize\n",
        "from textblob import TextBlob\n",
        "from nltk.sentiment.vader import SentimentIntensityAnalyzer\n",
        "\n",
        "\n",
        "# Create a list of words representing uncertainty\n",
        "uncertainty_words = [\"agency\", \"empower\", \"students\", \"teacher\"]\n",
        "\n",
        "# text from the high school math class transcript\n",
        "\n",
        "# Sentence Tokenization\n",
        "cleaned_sentences = sent_tokenize(raw_uncertaintyText)\n",
        "\n",
        "# Initialize VADER sentiment intensity analyzer\n",
        "sia = SentimentIntensityAnalyzer()\n",
        "\n",
        "# Create a dictionary to hold frequency count and sentiment scores for each uncertainty word\n",
        "uncertainty_dict = {}\n",
        "\n",
        "# Loop through each sentence in the cleaned transcript to find instances of uncertainty\n",
        "for sentence in cleaned_sentences:\n",
        "    tb = TextBlob(sentence)\n",
        "    for word in uncertainty_words:\n",
        "        if word.lower() in sentence.lower():\n",
        "            if word not in uncertainty_dict:\n",
        "                uncertainty_dict[word] = {'count': 0, 'sentiment': []}\n",
        "            uncertainty_dict[word]['count'] += 1\n",
        "            uncertainty_dict[word]['sentiment'].append(sia.polarity_scores(sentence)['compound'])\n",
        "\n",
        "# Calculate average sentiment for each word of uncertainty\n",
        "for word, data in uncertainty_dict.items():\n",
        "    avg_sentiment = sum(data['sentiment']) / len(data['sentiment']) if data['sentiment'] else 0\n",
        "    print(f\"Word: {word}, Frequency: {data['count']}, Average Sentiment: {avg_sentiment}\")\n"
      ],
      "metadata": {
        "colab": {
          "base_uri": "https://localhost:8080/"
        },
        "id": "0TMh6iYGowjD",
        "outputId": "5710d916-9a7f-4d7d-8a2c-4091eb13f842"
      },
      "execution_count": null,
      "outputs": [
        {
          "output_type": "stream",
          "name": "stderr",
          "text": [
            "[nltk_data] Downloading package vader_lexicon to /root/nltk_data...\n"
          ]
        },
        {
          "output_type": "stream",
          "name": "stdout",
          "text": [
            "Word: students, Frequency: 189, Average Sentiment: 0.32062962962962954\n",
            "Word: teacher, Frequency: 141, Average Sentiment: 0.21587163120567376\n",
            "Word: agency, Frequency: 9, Average Sentiment: 0.2943\n",
            "Word: empower, Frequency: 3, Average Sentiment: 0.27476666666666666\n"
          ]
        }
      ]
    },
    {
      "cell_type": "markdown",
      "source": [
        "# 4.4 Contextual Analysis of Sentences Sentiment Surrounding Uncertainty Words:\n",
        "\n",
        "In this code snippet, the focus is on examining the sentences that appear immediately before and after a sentence containing the word \"maybe,\" which serves as an example of an \"uncertainty word.\"\n",
        "In this case, when \"maybe\" is found in a sentence, the code adds the sentence immediately preceding it to before_uncertain bucket and the one immediately following it to after_uncertain bucket. Finally, the sentences stored in before_uncertain and after_uncertain are printed for researcher analysis. These can also be saved to text or csv files if needed for later usage.\n",
        "\n",
        "This approach could be valuable for understanding the context in which uncertainty is expressed. By looking at the sentences before and after, we can gain insights into what typically precedes or follows an expression of uncertainty, and how that might inform our understanding of the emotional or instructional dynamics of the classroom."
      ],
      "metadata": {
        "id": "jmHyWx9ICMhj"
      }
    },
    {
      "cell_type": "code",
      "source": [
        "before_uncertain = []\n",
        "after_uncertain = []\n",
        "for i, sentence in enumerate(cleaned_sentences):\n",
        "    if \"agency\" in sentence:  # Replace with any uncertainty word\n",
        "        if i > 0:\n",
        "            before_uncertain.append(cleaned_sentences[i-1])\n",
        "        if i < len(cleaned_sentences) - 1:\n",
        "            after_uncertain.append(cleaned_sentences[i+1])\n",
        "\n",
        "# Now analyze sentiment for these sentences.\n",
        "print(before_uncertain)\n",
        "print(after_uncertain)"
      ],
      "metadata": {
        "colab": {
          "base_uri": "https://localhost:8080/"
        },
        "id": "u5CU3KC1pDZJ",
        "outputId": "d864c183-efd2-4adc-f3b7-f49b233136f2"
      },
      "execution_count": null,
      "outputs": [
        {
          "output_type": "stream",
          "name": "stdout",
          "text": [
            "['What are your needs?', 'Okay.', \"I don't have mine over here.\", 'But overall, students got really into it.', \"You don't have\\nto make this\\na journal\\nprompt yet\\nbecause it\\nshould just be\\nbrainstorming notes\\nbut I think\\nthis is helpful.\", 'They are good materials, but I think as all good materials,\\nthere are issues.', \"So then what is the implications if it's a teacher pivot?\", 'You know what I mean?', 'Or focus of this project.']\n",
            "['Also, concretely, what does that mean in your materials?', \"So partly this comes out of we wanted to have some kind\\nof, like, anchoring phenomenon ourselves\\nthat could kind of ground, like, what is it\\nthat we're working on pedagogically?\", 'What does it mean?', 'Questions?', \"And we'll\\nif we have time\\nwe'll come together\\nand try and craft\\nkind of a synthesis\\nof that.\", 'It depends on your interpretation in the sense that\\nthese anchoring phenomenons that open the unit are very carefully selected.', \"I think that a teacher is always going\\nto introduce what the unit's about in a realistic setting.\", \"Yeah, like all the time, like-\\nThere's a point of honesty where-\\nBased on what you guys were saying yesterday,\\nI went and happened to find this park in Africa.\", 'Or the engagement.']\n"
          ]
        }
      ]
    },
    {
      "cell_type": "markdown",
      "source": [
        "# 4.5 Plotting Sentence-Level Sentiment Scores Over Time\n",
        "This code snippet visualizes the sentiment scores of a list of sentences over time. It uses the TextBlob library to compute the sentiment polarity of each sentence in the list. Then, using Matplotlib, a line plot is generated to visualize these sentiment scores. The x-axis of the plot represents the sequence number of each sentence, while the y-axis represents the corresponding sentiment score.\n",
        "\n",
        "The resulting plot provides a way to analyze the variation of sentiment in the whole text over time."
      ],
      "metadata": {
        "id": "KkONbKYHpAi1"
      }
    },
    {
      "cell_type": "code",
      "source": [
        "# First, install necessary packages\n",
        "\n",
        "\n",
        "# Import libraries\n",
        "import nltk\n",
        "from textblob import TextBlob\n",
        "import matplotlib.pyplot as plt\n",
        "\n",
        "# Let's assume cleaned_sentences is your list of sentences\n",
        "# cleaned_sentences = [\"I am happy.\", \"I feel sad.\", \"Maybe I will feel better tomorrow.\", ...]\n",
        "\n",
        "# Initialize empty list to hold sentiment scores\n",
        "sentiment_scores = []\n",
        "\n",
        "# Loop over sentences and calculate sentiment\n",
        "for sentence in cleaned_sentences:\n",
        "    blob = TextBlob(sentence)\n",
        "    sentiment_scores.append(blob.sentiment.polarity)\n",
        "\n",
        "# Plot sentiment scores over time\n",
        "plt.figure(figsize=(10, 5))\n",
        "plt.plot(sentiment_scores)\n",
        "plt.xlabel('Sentence Number')\n",
        "plt.ylabel('Sentiment Score')\n",
        "plt.title('Sentiment Over Time')\n",
        "plt.show()\n"
      ],
      "metadata": {
        "colab": {
          "base_uri": "https://localhost:8080/",
          "height": 487
        },
        "id": "CBuAuQQmpH0y",
        "outputId": "54ea75f7-b797-492b-e500-d41b33d737cc"
      },
      "execution_count": null,
      "outputs": [
        {
          "output_type": "display_data",
          "data": {
            "text/plain": [
              "<Figure size 1000x500 with 1 Axes>"
            ],
            "image/png": "[encoded data removed]"
          },
          "metadata": {}
        }
      ]
    },
    {
      "cell_type": "markdown",
      "source": [
        "#4.6 Find Sentence by Index Number from Tokenized Text\n",
        "You can use this function to quickly retrieve specific sentences from the pre-tokenized text corpus, especially when you want to look up sentences for context or additional analysis."
      ],
      "metadata": {
        "id": "gORxt09go9CI"
      }
    },
    {
      "cell_type": "code",
      "source": [
        "def search_sentence_by_index(index, cleaned_sentences):\n",
        "    if 0 <= index < len(cleaned_sentences):\n",
        "        return cleaned_sentences[index]\n",
        "    else:\n",
        "        return \"Index out of range.\"\n",
        "\n",
        "# Test the function\n",
        "print(search_sentence_by_index(0, cleaned_sentences))\n",
        "# '0' will show the first sentence. Replace '0'' with the index you want to look up from the previous outputs\n"
      ],
      "metadata": {
        "colab": {
          "base_uri": "https://localhost:8080/"
        },
        "id": "mPU3pDNppOkO",
        "outputId": "6cf1878f-2ce6-4f05-caf5-113ffe536d27"
      },
      "execution_count": null,
      "outputs": [
        {
          "output_type": "stream",
          "name": "stdout",
          "text": [
            "I'm serious.\n"
          ]
        }
      ]
    },
    {
      "cell_type": "markdown",
      "source": [
        "#4.8 Filtering and Ranking Sentences with Uncertainty Words by Sentiment Score\n",
        "\n",
        "This code snippet first defines a list of words indicating uncertainty, such as \"maybe,\" \"probably,\" \"might,\" etc. Then, it filters sentences from the cleaned_sentences list to include only those that contain at least one word from the uncertainty_words list. Along with each filtered sentence, its corresponding sentiment score is also retained.\n",
        "\n",
        "The filtered sentences are sorted based on their sentiment scores. The code then extracts the top 10 and bottom 10 sentences based on these scores. You can change this number if needed.\n",
        "\n",
        "Finally, it displays the top 10 sentences with the highest sentiment scores and the bottom 10 sentences with the lowest sentiment scores, all containing at least one word that indicates uncertainty.\n",
        "\n",
        "This could be useful for analyzing how uncertainty is framed in positive or negative contexts within a data corpus."
      ],
      "metadata": {
        "id": "yyyAcsOmpPIG"
      }
    },
    {
      "cell_type": "code",
      "source": [
        "#Feel free to change the words found in the dictionary\n",
        "uncertainty_words = [\"student\", \"they\"]\n",
        "\n",
        "# Filter the sentences that contain at least one uncertainty word\n",
        "filtered_sentiment_sentence_pairs = [(score, sentence) for score, sentence in zip(sentiment_scores, cleaned_sentences) if any(word in sentence for word in uncertainty_words)]\n",
        "\n",
        "# Sort the list of tuples by the sentiment score\n",
        "sorted_pairs = sorted(filtered_sentiment_sentence_pairs, key=lambda x: x[0])\n",
        "\n",
        "# Extract the top 10 and bottom 10 sentences\n",
        "# These numbers can be changed to a longer list\n",
        "top_10_sentences = sorted_pairs[-10:]\n",
        "bottom_10_sentences = sorted_pairs[:10]\n",
        "\n",
        "# Display the top 10 sentences with highest sentiment scores\n",
        "print(\"Top 10 sentences with highest sentiment scores containing uncertainty words:\")\n",
        "for score, sentence in reversed(top_10_sentences):\n",
        "    print(f\"Score: {score}, Sentence: {sentence}\")\n",
        "\n",
        "# Display the bottom 10 sentences with lowest sentiment scores\n",
        "print(\"\\nBottom 10 sentences with lowest sentiment scores containing uncertainty words:\")\n",
        "for score, sentence in bottom_10_sentences:\n",
        "    print(f\"Score: {score}, Sentence: {sentence}\")"
      ],
      "metadata": {
        "colab": {
          "base_uri": "https://localhost:8080/"
        },
        "id": "EQ65J5MWpPaB",
        "outputId": "42f52052-daf0-4287-d201-14bdb2596137"
      },
      "execution_count": null,
      "outputs": [
        {
          "output_type": "stream",
          "name": "stdout",
          "text": [
            "Top 10 sentences with highest sentiment scores containing uncertainty words:\n",
            "Score: 1.0, Sentence: And students,\n",
            "I think this is the one\n",
            "that students felt\n",
            "was the best project\n",
            "in their eyes.\n",
            "Score: 0.8, Sentence: And when students get sort of on that, it's a great experience.\n",
            "Score: 0.8, Sentence: And they're nastier than the Great Lakes.\n",
            "Score: 0.8, Sentence: So they have lots of great whites\n",
            "and things of that sort.\n",
            "Score: 0.8, Sentence: It was like they were great at it to start with, because I think that was\n",
            "the math unit they were in to start with.\n",
            "Score: 0.8, Sentence: So they switched on the fly, which I saw,\n",
            "and I'm like, I like that.\n",
            "Score: 0.8, Sentence: So this afternoon, basically the rest of the time today,\n",
            "what we want to do is start with the lessons\n",
            "that you have done that you are proud of\n",
            "and that you think exemplify student agency ownership,\n",
            "et cetera.\n",
            "Score: 0.7, Sentence: Yeah, they're good.\n",
            "Score: 0.7, Sentence: Are they good?\n",
            "Score: 0.7, Sentence: So, no,\n",
            "they've been really good with trying to get, like,\n",
            "all my stuff scheduled\n",
            "so I don't have to take off work.\n",
            "\n",
            "Bottom 10 sentences with lowest sentiment scores containing uncertainty words:\n",
            "Score: -0.8, Sentence: I hate that they do this.\n",
            "Score: -0.6999999999999998, Sentence: In some ways, it's reinforcing\n",
            "the bad habits that I try to\n",
            "get students out of.\n",
            "Score: -0.6, Sentence: But it was artificially keeping temperatures\n",
            "in the northern Atlantic lower than what they\n",
            "would have been without that.\n",
            "Score: -0.6, Sentence: And then apes I have, again, they're crazy.\n",
            "Score: -0.55625, Sentence: Yeah, I mean, yeah, they...\n",
            "Oh, they hadn't told rank yet?\n",
            "Score: -0.5, Sentence: And then Alexi said\n",
            "this is like a fake\n",
            "farm or a pretend\n",
            "farm but like they\n",
            "took soil from\n",
            "their yard\n",
            "and put it on\n",
            "the ground\n",
            "and then they\n",
            "built a house\n",
            "and then they\n",
            "built a house\n",
            "and then they\n",
            "built a house\n",
            "and then they\n",
            "took soil\n",
            "from their yard.\n",
            "Score: -0.5, Sentence: Observation\n",
            "they're in the wrong spot for hurricanes\n",
            "It seems like they got hit\n",
            "by one like every like two to three\n",
            "years.\n",
            "Score: -0.5, Sentence: It's weird because they have...\n",
            "Score: -0.5, Sentence: Did they fail your class?\n",
            "Score: -0.5, Sentence: I've read horror stories of people who have won and chose, like, the wrong people,\n",
            "and they've screwed them out of the money, and stuff like that.\n"
          ]
        }
      ]
    },
    {
      "cell_type": "markdown",
      "source": [
        "# 4.9 Visualizing Sentiment Score Trends for Sentences with Uncertainty Words\n",
        "\n",
        "This code snippet visualizes the sentiment scores of sentences that contain words indicating uncertainty. The list is filtered to include only sentences that have uncertainty words. Using Matplotlib, the code then plots these sentiment scores against the sentence indices. The x-axis represents the index of each sentence in the filtered list, and the y-axis represents the sentiment score of each sentence.\n",
        "\n",
        "This visualization could help in understanding how sentiment varies over time in sentences that contain words of uncertainty."
      ],
      "metadata": {
        "id": "y_0rte1CpPi2"
      }
    },
    {
      "cell_type": "code",
      "source": [
        "import matplotlib.pyplot as plt\n",
        "\n",
        "# Assuming `filtered_sentiment_sentence_pairs` contains tuples of (sentiment_score, sentence)\n",
        "# and you have already filtered this list to include only sentences containing uncertainty words\n",
        "\n",
        "# Extract just the sentiment scores\n",
        "filtered_sentiment_scores = [score for score, _ in filtered_sentiment_sentence_pairs]\n",
        "\n",
        "# Generate sentence indices for x-axis\n",
        "sentence_indices = list(range(1, len(filtered_sentiment_scores) + 1))\n",
        "\n",
        "# Create the plot\n",
        "plt.figure(figsize=(10, 6))\n",
        "plt.plot(sentence_indices, filtered_sentiment_scores, marker='o', linestyle='-')\n",
        "plt.xlabel('Sentence Index')\n",
        "plt.ylabel('Sentiment Score')\n",
        "plt.title('Sentiment Score Over Time for Sentences Containing Uncertainty Words')\n",
        "plt.show()\n"
      ],
      "metadata": {
        "colab": {
          "base_uri": "https://localhost:8080/",
          "height": 564
        },
        "id": "QKwa-7rPpfie",
        "outputId": "4c36f160-8695-4b4f-b12f-4c87f49befdb"
      },
      "execution_count": null,
      "outputs": [
        {
          "output_type": "display_data",
          "data": {
            "text/plain": [
              "<Figure size 1000x600 with 1 Axes>"
            ],
            "image/png": "[encoded data removed]"
          },
          "metadata": {}
        }
      ]
    },
    {
      "cell_type": "markdown",
      "source": [
        "# Topic Modeling Test"
      ],
      "metadata": {
        "id": "DZW18RKqWwpR"
      }
    },
    {
      "cell_type": "code",
      "source": [
        "import nltk\n",
        "nltk.download('stopwords')\n",
        "import gensim\n",
        "from gensim import corpora\n",
        "from nltk.corpus import stopwords\n",
        "from nltk.tokenize import word_tokenize\n",
        "\n",
        "# Preprocess text data\n",
        "def preprocess(text):\n",
        "    stop_words = set(stopwords.words('english'))\n",
        "    tokens = word_tokenize(text)\n",
        "    tokens = [word for word in tokens if word not in stop_words and word.isalnum()]\n",
        "    return tokens\n",
        "\n",
        "tokens = preprocess(raw_uncertaintyText)\n",
        "\n",
        "# Create dictionary and corpus for LDA\n",
        "dictionary = corpora.Dictionary([tokens])\n",
        "corpus = [dictionary.doc2bow(tokens)]\n",
        "\n",
        "# Build LDA model\n",
        "lda_model = gensim.models.ldamodel.LdaModel(corpus, num_topics=3, id2word=dictionary, passes=15)\n",
        "topics = lda_model.print_topics(num_words=5)\n",
        "\n",
        "for topic in topics:\n",
        "    print(topic)\n"
      ],
      "metadata": {
        "colab": {
          "base_uri": "https://localhost:8080/"
        },
        "id": "cHLZT9ToWy5J",
        "outputId": "1a78cfeb-11be-4f0e-ab33-95de84c565c2"
      },
      "execution_count": null,
      "outputs": [
        {
          "output_type": "stream",
          "name": "stderr",
          "text": [
            "[nltk_data] Downloading package stopwords to /root/nltk_data...\n",
            "[nltk_data]   Unzipping corpora/stopwords.zip.\n"
          ]
        },
        {
          "output_type": "stream",
          "name": "stdout",
          "text": [
            "(0, '0.003*\"I\" + 0.001*\"like\" + 0.001*\"going\" + 0.001*\"And\" + 0.001*\"know\"')\n",
            "(1, '0.094*\"I\" + 0.035*\"like\" + 0.017*\"going\" + 0.016*\"know\" + 0.016*\"And\"')\n",
            "(2, '0.001*\"I\" + 0.000*\"like\" + 0.000*\"And\" + 0.000*\"going\" + 0.000*\"know\"')\n"
          ]
        }
      ]
    },
    {
      "cell_type": "markdown",
      "source": [
        "# Sentiment Tset"
      ],
      "metadata": {
        "id": "x4TRzSuiW1Fs"
      }
    },
    {
      "cell_type": "code",
      "source": [
        "from textblob import TextBlob\n",
        "\n",
        "def sentiment_analysis(text):\n",
        "    blob = TextBlob(text)\n",
        "    return blob.sentiment  # returns a tuple (polarity, subjectivity)\n",
        "\n",
        "raw_text = raw_uncertaintyText\n",
        "polarity, subjectivity = sentiment_analysis(raw_text)\n",
        "print(f\"Polarity: {polarity}, Subjectivity: {subjectivity}\")\n"
      ],
      "metadata": {
        "colab": {
          "base_uri": "https://localhost:8080/"
        },
        "id": "B6Pj2SLfW3bk",
        "outputId": "8eb5d078-13a0-441b-e925-d75b2b495063"
      },
      "execution_count": null,
      "outputs": [
        {
          "output_type": "stream",
          "name": "stdout",
          "text": [
            "Polarity: 0.12839231456588876, Subjectivity: 0.5100101273663177\n"
          ]
        }
      ]
    },
    {
      "cell_type": "markdown",
      "source": [
        "# Named Entity Recognition (NER)"
      ],
      "metadata": {
        "id": "oD_44X8NW6oc"
      }
    },
    {
      "cell_type": "code",
      "source": [
        "import nltk\n",
        "from nltk.tokenize import word_tokenize\n",
        "from nltk.tag import pos_tag\n",
        "from nltk.chunk import ne_chunk\n",
        "nltk.download('averaged_perceptron_tagger')\n",
        "\n",
        "nltk.download('maxent_ne_chunker')\n",
        "nltk.download('words')\n",
        "\n",
        "def named_entity_recognition(raw_uncertaintyText):\n",
        "    words = word_tokenize(raw_uncertaintyText)\n",
        "    pos_tags = pos_tag(words)\n",
        "    chunked = ne_chunk(pos_tags)\n",
        "    named_entities = []\n",
        "    for tree in chunked:\n",
        "        if isinstance(tree, nltk.Tree):\n",
        "            named_entity = \" \".join([word for word, tag in tree.leaves()])\n",
        "            named_entities.append(named_entity)\n",
        "    return named_entities\n",
        "\n",
        "entities = named_entity_recognition(raw_text)\n",
        "print(entities)\n"
      ],
      "metadata": {
        "colab": {
          "base_uri": "https://localhost:8080/"
        },
        "id": "CtT9DVnAW_Tu",
        "outputId": "20a05b33-ab1a-4245-c9f8-9bbeef71465c"
      },
      "execution_count": null,
      "outputs": [
        {
          "output_type": "stream",
          "name": "stderr",
          "text": [
            "[nltk_data] Downloading package averaged_perceptron_tagger to\n",
            "[nltk_data]     /root/nltk_data...\n",
            "[nltk_data]   Unzipping taggers/averaged_perceptron_tagger.zip.\n",
            "[nltk_data] Downloading package maxent_ne_chunker to\n",
            "[nltk_data]     /root/nltk_data...\n",
            "[nltk_data]   Package maxent_ne_chunker is already up-to-date!\n",
            "[nltk_data] Downloading package words to /root/nltk_data...\n",
            "[nltk_data]   Package words is already up-to-date!\n"
          ]
        },
        {
          "output_type": "stream",
          "name": "stdout",
          "text": [
            "['Zach', 'Zach', 'Okay', 'Barbara', 'Which', 'Serengeti', 'Serengeti', 'Tasha', 'Okay', 'Okay', 'Plan', 'Lunch', 'Okay', 'Empower', 'Okay', 'Sorry', 'Okay', 'Alright', 'Barbie', 'Barbie', 'Barbie', 'Barbie', 'Barbie', 'Again', 'Chem Phys', 'DVD', 'Oppenheimer', 'Dennis', 'Dennis', 'Sorry', 'Alex', 'Netflix', 'AP', 'AP', 'AP', 'PTSD', 'Bill Nye', 'YouTube', 'YouTube', 'NBA', 'AP', 'DNA', 'Zach', 'AP', 'Nature Center', 'Urbana', 'Dutton', 'AP', 'COVID', 'Wednesdays', 'Carl Park', 'SEL', 'Snoop', 'Urbana', 'IHSA', 'Ashton', 'Barbara', 'CU Farm', 'School', 'Dennis', 'SEL', 'SEL', 'Zach', 'Cicero Illinois', 'NGSS', 'Urbana', 'Barbara', 'Sistina', 'Liz', 'Ashton', 'Ashton', 'Liz', 'Ashton', 'Dennis', 'Alex', 'Zach', 'Dennis', 'Panera', 'North Carolina', 'Mike', 'Mike', 'Liz', 'Liz', 'AP', 'AP', 'Urbana', 'Kennedy', 'English', 'English', 'AP English', 'Urbana', 'UHS', 'Mr. Riley', 'Eric', 'Mexico', 'UMS', 'UHS', 'COVID', 'STM', 'Chicago', 'Silicon', 'California', 'Zach', 'Nick', 'Susie', 'Nick', 'Nick', 'Urbana', 'COVID', 'Nick', 'Nick', 'Pempis', 'Nick Ball', 'Susie', 'Susie Wright', 'Nick', 'Nick', 'Nick', 'Susie', 'Haldity', 'Hammond', 'Dennis', 'Miss Purple', 'Fields', 'Miss Purple', 'Purple', 'Right', 'Okay', 'Okay', 'UIC', 'Sorry', 'Okay', 'Okay', 'Okay', 'Roses', 'Thorns', 'Barbara', 'Okay', 'Sharpie', 'Okay', 'Okay', 'Okay', 'Okay', 'Okay', 'Okay', 'Okay', 'Okay', 'Okay', 'Okay', 'Okay', 'Okay', 'MEs', 'Okay', 'Okay', 'Okay', 'Liz', 'Liz', 'Pinky', 'Alex', 'Al', 'Fair', 'Dennis', \"Allison O'Dwyer\", 'Liz', 'Zach', 'AAPS', 'AAPS', 'Joe', 'AmeriCorps', 'Anyway', 'New Mexico', 'Chicago', 'NDSM', 'Catholic', 'Alice', 'Sorry', 'McKenna', 'Ashton', 'Dennis', 'Right', 'OK', 'Snaps', 'Snaps', 'Hard', 'Inheritance Project', 'AP', 'Easy Google', 'AP', 'AP', 'Jeff', 'Okay', 'AP', 'Indian', 'Asian', 'Inheritance Project', 'Okay', 'AP', 'Okay', 'AP', 'Food', 'Barb', 'AP', 'Liz', 'Avid Elementary', 'Alex', 'AP', 'NASA', 'SpaceX', 'Mars', 'Carly', 'Growth', 'Dennis', 'Trouble', 'Start', 'NASA', 'NASA', 'AP Environmental', 'AP', 'AP', 'Africa', 'Anyway', 'Thorns', 'Again', 'AP', 'AP', 'Which', 'Definitely', 'Island', 'AP', 'Whole Foods', 'Lucas Foundation', 'AP Environmental Science', 'PBL', 'AP', 'AP', 'AP', 'AP', 'Don DeCoste', 'AP', 'Hopefully', 'AP', 'Dennis', 'Google', 'TNT', 'Dry', 'Alex', 'NGSX', 'Pepsi', 'Alex', 'Liz', 'Wait', 'Okay', 'Alexi', 'Chem Phys', 'Urbana High School', 'Google', 'Google', 'GIS', 'Google', 'Google', 'Google', 'Tomorrow', 'Liz', 'Alex', 'Barbara', 'C2 AST', 'Chromebooks', 'English', 'Chromebooks', 'Ashton', 'Which', 'English', 'Rantoul', 'Monopoly', 'Alex', 'Liz', 'Actually', 'Ashley', 'Violet', 'Arizona', 'Daria', 'Tina', 'Tomorrow', 'C2AST', 'Very', 'Danny', 'Bye', 'Danny', 'Zotero', 'Hello', 'Lizzie', 'Okay', 'Okay', 'Google Doc', 'Okay', 'Kevin', 'Okay', 'Okay', 'Okay', 'Okay', 'Which', 'Okay', 'Okay', 'Which', 'PLC', 'Whiteness', 'Daniel Morales Doyle', 'AP', 'Chicago', 'University', 'Illinois', 'Chicago', 'Illinois', 'Chicago', 'EPA', 'AP', 'AP', 'EPA', 'Urbana', 'Environmental', 'Which', 'Okay', 'Issues', 'COVID', 'Plexiglas', 'Plexiglas', 'Ann Arbor', 'DCI', 'Okay', 'AP Chem', 'AP Chem', 'DCIs', 'NGSS', 'Danny', 'GEMS Summer', 'Kevin', 'APES', 'Alex', 'AP Chem', 'AP Chem', 'Dennis', 'AP', 'AP Chem', 'AP Bio', 'ACES', 'David', 'AP Chem', 'AP Chem', 'AP Chem', 'AP', 'AP Chem', 'AP Chem', 'AP', 'AP Chem', 'Don', 'AP', 'AP', 'AP Chem', 'AP', 'AP', 'AP', 'AP Chem', 'Don', 'Don', 'Don', 'IChem', 'MCAT', 'Marble', 'Anyway', 'AP', 'AP', 'AP', 'Don', 'Gretchen Adams', 'Alex', 'Danny', 'CAST', 'CAST', 'Okay', 'Hidden Curriculum', 'African', 'American', 'Indian', 'Google', 'Barbara', 'Kevin', 'Ashley', 'Right', 'Nick', 'Sina', 'How', 'Colorado', 'Gladwell', 'Zach', 'Dennis', 'Alex', 'Kevin', 'Zach', 'AP', 'Okay', 'Tempouse', 'Okay', 'Chipotle', 'Chipotle', 'Chip', 'Okay', 'Chipotle', 'Moe', 'Chipotle', 'Chipotle', 'Okay', 'Are', 'Burrito', 'Burrito', 'Okay', 'Paper', 'Okay', 'Alien', 'Zach', 'Labor', 'Hawaii', 'Sonoma', 'Hawaii', 'Boulder', 'Coke', 'Sorry', 'Okay', 'Perfect', 'Heck', 'Barbra', 'Okay', 'Again', 'Holly', 'Starbucks', 'Dunkin', 'Reddit', 'Barbara', 'Sorry', 'Okay', 'Which', 'AU', 'AU', 'Us', 'Right', 'Urbana', 'PD', 'Urbana', 'Urbana', 'Mine', 'OpenSciEd', 'Tina', 'OpenSciEd', 'Okay', 'Again', 'Brian', 'Michigan', 'Alex', 'Oki Lee', 'Oki Lee', 'Grand Canyon', 'Grand Canyon', 'Grand Canyon', 'Alex', 'Dennis', 'Tina', 'Brian Reiser', 'Northwestern', 'Danny Edelson', 'BSCS', 'OpenSciEd', 'Equip', 'NextGenScience', 'EdReports', 'OpenSciEd', 'Amelia', 'Michigan', 'Bill Penuel', 'iHub', 'Boulder', 'Alex', 'OpenSciEd', 'Zach', 'Jeff', 'Zach', 'Jeff', 'Twitter', 'Bill', 'OpenSciEd', 'Louisiana', 'Massachusetts', 'Iowa', 'Arizona', 'Nebraska', 'Arizona', 'Washington', 'Washington', 'OpenSciEd', 'Having', 'Issue', 'OpenSciEd', 'Alex', 'COVID', 'Jody', 'Shanda', 'Liz', 'COVID', 'Steno', 'Zach', 'Jake Slaney', 'Jake Slaney', 'Zach', 'Zach', 'Kevin', 'Nick', 'Steno', 'Michigan State', 'Kevin', 'Jody', 'Chicago', 'Net Logos', 'Net Logo', 'Sage Model', 'Adrian', 'Sage Model', 'NetLogo', 'SageModeler', 'Jody', 'Dennis', 'Robert', 'DoorDash', 'Chipotle', 'Peter', 'Chromebook Commander', 'NHD', 'NGSS', 'Okay', 'Playa Del Carmen', 'Mexico', 'Which', 'Mexico', 'South', 'Cancun', 'Okay', 'Cool', 'Culturally', 'English', 'Bradenton', 'Florida', 'West', 'Florida', 'South Carolina', 'Florida', 'Cool', 'Massachusetts', 'Island', 'Maine', 'Maine', 'Jaws', 'New York', 'Okay', 'Uruguay', 'Rio', 'Plata', 'Jamaica', 'Cuba', 'Florida', 'Jamaica', 'Cuba', 'Panama', 'Caribbean', 'Panama Canal', 'Pacific', 'Pacific Ocean', 'Atlantic', 'Caribbean', 'Pacific', 'Pacific', 'Panama', 'Caribbean', 'Jamaica', 'Barbados', 'Barbados', 'Caribbean', 'Chicago', 'North', 'Great Lakes', 'Ohio River', 'Great Lakes', 'Great Lakes', 'Korea', 'San', 'Los', 'Cool', 'Barbara', 'Hurricanes', 'Fort Lauderdale', 'Great Salt Lake', 'Utah', 'Lake Mead', 'Barbara', 'Salt Lake', 'Salt Lake', 'Great Salt Lake', 'Salt Lake City', 'Lake Mead', 'LA', 'Hoover Dam', 'Vegas', 'Vegas', 'Tucson', 'Phoenix', 'Phoenix', 'Tucson', 'Phoenix', 'Tucson', 'Maricopa County', 'Jamaica', 'Caribbean', 'Water', 'Africa', 'Miami', 'Fort Lauderdale', 'Miami', 'Barbados', 'Barbados', 'New Orleans', 'Wait', 'Florida', 'Right', 'California', 'Florida', 'Nevada', 'Lackawanna', 'Jamaica', 'Louisiana', 'Mexico', 'Florida', 'New York', 'Africa', 'Africa', 'Africa', 'Rwanda', 'Northern', 'Illinois University', 'Okay', 'Biloxi', 'Louisiana', 'New Orleans', 'Biloxi', 'New Orleans', 'Heard', 'Louisiana', 'Kevin', 'Sierra Leone', 'Notice', 'Wonder', 'OPP', 'New Orleans', 'Louisiana Gulf Coast', 'Mexico', 'Lily', 'Isidore', 'Katrina', 'Rita', 'Gustav', 'Ike', 'Lily', 'Isidore', 'Katrina', 'Rita', 'Gustav', 'Ike', 'Hurricane Lee', 'Isle', 'Chartres Bantu Biloxi Chitimacha Chautau', 'Delft Guardian Award', 'Yeah Just', 'Atlanta', 'Lost', 'Atlanta', 'Zach', 'Kevin', 'Kevin Are', 'Yeah So', 'Cool', 'Cool', 'Senegal', 'YouTube If', 'YouTube Okay', 'Julie Blixen My', 'Okay So', 'Sierra Leone Okay Okay Okay', 'Okay Okay Okay Okay Okay Okay Okay Okay Okay Okay Okay Okay Okay Okay Okay Okay Okay Okay Okay Okay Okay Okay Okay Okay Okay Okay Okay Okay', 'Bull', 'Okay', 'Moscow', 'Portuguese', 'Whoa', 'Plot', 'Sierra Leone', 'Due', 'Freetown', 'Writer', 'How Resilient', 'Stuff', 'Steve', 'Weather', 'Barbara', 'Yeah', 'Well', 'Yeah', 'Yeah', 'Coastal', 'Kevin', 'Less', 'Road', 'Sorry', 'Sierra Leone', 'China', 'India', 'Europe', 'Louisiana', 'Sierra Leone', 'Sierra Leone', 'U.S.', 'U.S.', 'U.S.', 'Corps of Engineers', 'Okay', 'Well', 'Which', 'Barbara', 'Let', 'OpenSciEd Start', 'Okay', 'Okay', 'Second', 'Yeah', 'Science', 'PowerPoint', 'CER', 'Champagne', 'Combo', 'Central America', 'Mexico', 'Central America', 'Which', 'Right', 'Watching', 'World', 'Relocate', 'US', 'Responsibility', 'Louisiana', 'Kind', 'Particularly', 'Kind', 'Lake Michigan', 'Us', 'Silly', 'Boneyard', 'Boneyard', 'Might', 'Yeah Sorry', 'How', 'Water', 'Kind', 'Boston', 'Again', 'Maybe', 'How', 'Downtown Boston', 'Reality', 'CO2', 'CO2', 'CO2', 'CO2', 'Where', 'United States', 'United States', 'Which', 'Florida', 'Florida', 'Sorry', 'Which Which', 'Sorry Do', 'United States', 'Clearer', 'Let', 'New York', 'Broader Down Netherlands', 'Currently', 'Okay Okay', 'Yeah Which', 'New York', 'New York', 'Pacific Island Nation', 'Pretty', 'Relocate', 'Fiji', 'Fiji', 'Fiji', 'Fiji', 'Which', 'Right Probably', 'Yeah', 'Okay New York', 'Might', 'Shanghai', 'New York', 'Miami', 'India', 'Concrete', 'Florida', 'Alex', 'Are', 'Energy', 'Rises How', 'Are', 'India', 'Finally', 'Billions', 'India', 'United States', 'U.S.', 'Per Area', 'New York City', 'India India', 'Ash', 'Resettles', 'Maldives', 'Whose Whose', 'Who', 'Florida', 'Florida', 'Florida', 'Support', 'Let', 'Freaking', 'Let', 'US', 'Right', 'Tricky', 'Throughout', 'US', 'Florida', 'Illinois', 'Less', 'Human', 'Water', 'Let', 'Atoms Maybe', 'Solids', 'Cups', 'Okay That', 'Color', 'Okay', 'Zoom', 'Particles', 'Energy', 'Glacier', 'Solid Liquid', 'Between Russia', 'United States', 'Human', 'Greenhouse', 'Stronger', 'Okay', 'Pull', 'Okay Okay Okay Okay Okay Okay Okay Part', 'Yeah Okay Oh', 'Sorry Wait', 'CO2', 'Greenhouse', 'Yeah', 'Mine', 'Ocean', 'Greenland', 'Greenland', 'Antarctica And', 'Which', 'Which', 'Sunlight', 'Which', 'Iceberg', 'Consensus', 'Which', 'Phenomenon', 'Plus', 'Important', 'Lives', 'Rain', 'Yeah', 'Savoy', 'Urbana High School', 'Savoy', 'Savoy', 'Urbana High School', 'Louis', 'Chicago', 'Chicago', 'Did Zach', 'Yeah Okay', 'John Harper', 'Park', 'Was Covenant', 'Covenant Oh', 'Okay Oh', 'Okay Just Okay Okay Okay Okay Okay Okay Okay Okay Okay Okay Okay Okay Okay Okay Okay Okay Okay Okay Okay Okay Okay Okay Okay Okay Okay Okay Okay Okay Okay Okay Okay Okay', 'Okay', 'US', 'Serengeti', 'African', 'Serengeti', 'US', 'Serengeti', 'Serengeti', 'DCIs', 'Serengeti', 'US', 'US', 'Serengeti', 'Africa', 'Serengeti Nature', 'National Park', 'NP', 'SNP', 'National Park', 'Serengeti', 'Alex', 'Africa', 'BS', 'US', 'Africa', 'Serengeti National Park', 'Rwanda', 'Into', 'Biology Made Real', 'England', 'Biology Teacher Made Real', 'Biology Made Real', 'Biology Made Real', 'Again', 'UC Woods', 'Krupa Park', 'US', 'Africa', 'Darn', 'Anyway', 'USA', 'USA', 'Steph', 'Stina', 'Delete', 'Sorry', 'Darius', 'Darius', 'Darius', 'Darius', 'Which', 'NGSF', 'Great', 'OpenSciEd', 'Kevin', 'DCIs', 'DCIs', 'Which', 'Darian', 'Darian', 'Darian', 'Darian', 'Stevenson High School', 'APES', 'Tommy', 'Tommy Wolfe', 'Tommy', 'Stevenson', 'AP Environmental Science', 'Okay', 'Sorry', 'DCIs', 'Alex', 'PEs', 'DCIs', 'Great', 'AP Environmental Science', 'Doc', 'AP Environmental Science', 'DCIs', 'SEPs', 'SEPs', 'Okay', 'NGSS', 'DCIs', 'SEPs', 'DCIs', 'Honestly', 'ChemPhys', 'Which', 'Which', 'PBL', 'AP Environmental Science', 'AP Environmental Science', 'Okay', 'Slide', 'John', 'PQs', 'PowerPoint', 'Canvas', 'Elizabeth Moji', 'PowerPoint for', 'Right', 'PowerPoint', 'Barbara', 'Which', 'TEK', 'Damn', 'Western', 'Western', 'OpenSciEd', 'Western', 'Carl Park', 'Noticings', 'Wonderings', 'Robin Wall Kimmer', 'Western', 'GEMS', 'Kimmerer', 'GEMS', 'Yeah', 'Stina', 'Trick', 'Carl Woese', 'AMTA', 'Especially', 'Okay', 'Which', 'OpenSciEd', 'PEs', 'PEs', 'Biology', 'PhDs', 'PhD', 'Carl Woese', 'Tony Anerol', 'Sina', 'Darwin', 'Stick', 'Okay', 'Models', 'Darwin', 'CTE', 'Career', 'Sorry', 'Jamaica', 'Jamaicans', 'Alex', 'Sorry', 'Stephen', 'Okay', 'Stephen', 'Zach', 'Zach', 'Which', 'Mike', 'Mike', 'Dennis', 'Okay', 'Mike', 'Okay', 'Mike', 'Wow', 'Sweet', 'Sorry', 'U.S.', 'Serengeti', 'Illinois', 'Allerton', 'Okay', 'Senegal', 'Senegal', 'Senegal', 'Louisiana', 'Massachusetts', 'Okay', 'Sorry', 'Okay', 'Right', 'Barbara', 'Liz', 'Quick', 'Phenomenon', 'Phenomenon', 'Okay', 'Dennis', 'Dennis', 'Sorry', 'Google Classroom', 'Chromebook', 'Okay', 'OpenSciEd', 'Okay', 'Earth', 'Barbara', 'Mike', 'Mike', 'Stephen', 'Mystery Bob', 'Mystery Science', 'Doug', 'Doug', 'Doug', 'Doug', 'Mystery Science', 'Mystery Science', 'YouTube', 'YouTube', 'French', 'Right', 'Liz', 'Anyway', 'AP Environmental Science', 'Sorry', 'Versus', 'Dennis', 'Classroom', 'Right', 'Kevin', 'Dennis', 'Kevin', 'Laura', 'PT3', 'Tomorrow', 'UHS', 'UMS', 'STM', 'GSS', 'Kevin', 'Kevin', 'Holly', 'Might', 'Okay', 'Mr. Doug', 'Okay', 'Noodles', 'Shawarma', 'SH', 'Chipotle', 'Order', 'Okay', 'Alex', 'Noodles', 'Okay', 'Korean', 'Rose', 'Gochujang', 'Gochujang', 'Okay', 'Cool', 'Japanese', 'Asian', 'Asian', 'Japanese', 'Japanese', 'Okay', 'Google', 'Asian', 'Wisconsin', 'Asian', 'Pad Thai', 'Siam Terrace', 'Asian', 'Peking House', 'Korean', 'Basil Thai', 'Green Onion', 'Okay', 'Sundubu', 'Sun', 'Cool', 'Liz', 'Japanese', 'Japanese', 'Okay', 'Okay', 'Japanese', 'Did Zach', 'Dennis', 'Alright', 'Okay', 'Okay', 'Japanese', 'Asian', 'Asian', 'Asian', 'Japanese', 'Okay', 'Alright', 'Salad', 'Great', 'Next', 'Alright', 'Okay', 'OpenSciEd', 'OpenSciEd', 'Violet', 'World Famous Max', 'Okay', 'Coke Zero', 'Coke Zero', 'Coke Zero', 'Coke Zero', 'Diet Coke', 'Coke Zero', 'Diet Coke', 'Aspartame', 'Aspartame', 'Ashton', 'Ashton', 'Caesar', 'Okay', 'Christina', 'Okay', 'Stuffed', 'Stuffed', 'Okay', 'Okay', 'UEA', 'UEA', 'Okay', 'Mexico', 'Score', 'Rick Wormelli', 'Darn', 'UMS', 'UMS', 'Schwarmer Joint', 'Stan', 'Okay', 'Wait', 'Right', 'Jess', 'Alex', 'Zach', 'Holly', 'Jeff', 'Holly', 'Zach', 'Water', 'Earth', 'Okay', 'Which', 'Okay', 'Okay', 'Okay', 'Okay', 'Earth', 'Which', 'NGSS', 'PEs', 'DCIs', 'DCIs', 'PEs', 'Tomorrow', 'DVD', 'Alex', 'Northern', 'Okay', 'Google Drive', 'Googling', 'Google Timeline', 'Bear', 'Google Timeline', 'Mark', 'Atlantic', 'Atlantic', 'Temperature', 'Hank Green', 'Hank Green', 'ABCD', 'August', 'NGSS', 'COVID', 'COVID', 'Jeff', 'Holly', 'Zach', 'Holly', 'Which', 'English', 'Alrighty', 'Skyward', 'Skyward', 'Cause', 'AP', 'Okay', 'Shanda', 'AP', 'AP', 'AP', 'AP', 'Nope', 'AP Bio', 'Louie', 'Okay', 'Louie', 'Which', 'Liz', 'AP', 'Rink', 'Okay', 'AP', 'AP', 'AP', 'Google Earth', 'Jeff', 'Holly', 'AP', 'Okay', 'Okay', 'Perfect', 'Dennis', 'AP', 'AP', 'AP', 'Okay', 'COVID', 'SGO', 'COVID', 'Michael', 'COVID', 'Nance', 'Vegas', 'OpenSciEd', 'Okay', 'Cause', 'Cause', 'Chicago', 'Woo', 'Derek', 'Same', 'Russell', 'Russell', 'Oh', 'Okay', 'Mexico', 'Okay', 'Oppenheimer', 'Asian', 'Okay', 'Mexican', 'West Point', 'Midway Airport', 'Illinois', 'Impossible Nuggets', 'Yup', 'Parmesan', 'Parmesan', 'Parmesan', 'Mike', 'Rink', 'Maybrights', 'Zach', 'Wait', 'Wait', 'Bio', 'Chemistry', 'Zach', 'Zach', 'Does', 'Jeff', 'Wait', 'Jeff', 'JST', 'Zach', 'Zach', 'Annie', 'Angie Franklin', 'Annie', 'Annie', 'Rink', 'Central', 'Mike', 'Rink', 'Rink', 'Fridays', 'Right', 'Appleman', 'STEM', 'Hillary Allen', 'Multilingual Coordinator Coach', 'Andrew', 'Multilingual', 'Slash', 'Instructional Coach', 'Melissa', 'Daria', 'Daria', 'Daria', 'Multilingual Coordinator', 'Maria', 'Andrew', 'Maria', 'ML', 'Andrew', 'Champaign', 'Central', 'Champaign', 'Champaign', 'Central', 'Urbana', 'Travis', 'Luckily', 'Shan', 'Travis', 'Alex', 'Urbana', 'Champaign', 'Centennial', 'Central', 'Urbana', 'Rentul', 'Urbana', 'Nobel Prize', 'Wow', 'Rentul', 'Okay', 'Annie', 'Annie', 'Annie', 'Annie', 'Whoa', 'Annie', 'PhD', 'Okay', 'Annie', 'Annie', 'Annie', 'Annie', 'HR', 'English', 'English', \"Matthew O'Brien\", 'Rosalie Esperaza', 'Najah Taylor', 'Riley Wills', 'Shane Dykstra', 'Shane', 'Shane', 'Urbana', 'Shane', 'Shane Dykstra', 'Facebook', 'Okay', 'Okay', 'Rinky', 'Millburg Ehrlich', 'Ehrlich', 'Millburg', 'Ehrlich School', 'Matt Pope', 'Urbana', 'Urbana', 'EIU', 'EIU', 'SPED', 'Barbara', 'Mike', 'Plainfield', 'Jacob', 'Lincoln Way', 'Plainfield', 'Eastern', 'Urbana', 'Urbana', 'Champaign', 'Urbana', 'Urbana', 'Zoom', 'Mike', 'Fridays', 'Okay', 'Rink', 'Rink', 'COVID', 'COVID', 'Bechtel', 'Bechtel', 'COVID', 'Facebook', 'Sorry', 'Louie', 'Dennis', 'STM', 'Pendo', 'Africa', 'Pendo', 'STM', 'PhDs', 'Okay', 'Kevin', 'Right', 'James', 'LOL', 'Nick', 'Nick', 'OMG', 'OMG', 'Batman Returns', 'Accelerated Reader', 'AR', 'Nobody', 'Batman Returns', 'Nobody', 'Power Ranger', 'Christmas', 'YouTube', 'Huh', 'Italian', 'Downtown Champaign', 'Watson', 'Knights', 'Wait', 'Wait', 'Look', 'Sorry', 'Alan', 'Kevin', 'Boneyard Creek', 'Stina', 'Stina', 'Again', 'Sorry', 'Okay', 'Okay', 'Okay', 'Okay', 'Okay', 'Okay', 'Okay', 'Okay', 'Okay', 'Okay', 'Okay', 'Okay', 'Okay', 'Okay', 'Okay', 'Okay', 'Okay', 'OpenSciEd', 'Okay', 'OpenSciEd', 'OpenSciEd', 'Arkansas', 'Middlebury', 'Okay', 'Zach', 'Okay', 'Dennis', 'Ashton', 'Sorry', 'APES', 'AP', 'pH', 'David', 'Ameren', 'Ameren', 'Foam', 'Micro', 'Disney', 'Which', 'Mickey Mouse', 'Versus', 'Explore', 'Far', 'Campus', 'True', 'Megan', 'Sue Gasper', 'Cook County Extension', 'Cool', 'Megan', 'Alex', 'Middle', 'Ashton', 'CER', 'CER', 'Which', 'Which', 'Christina', 'Carefully', 'Point', 'Always', 'Barbara', 'Tina', 'Does', 'Stina', 'PB', 'NRT', 'Rather', 'Hello', 'Okay', 'Stick', 'Water', 'Okay', 'Yeah Yeah Yeah Yeah Yeah Okay Okay', 'AP', 'AP', 'AP', 'AP', 'Google Drive', 'Liz', 'Mine', 'Mine', 'Google', 'Sorry', 'Again', 'AP', 'Okay', 'Daria', 'Bloomington', 'Stop', 'Dennis', 'Florida', 'Florida', 'California', 'Powerball', 'California', 'Powerball', 'Mega Millions', 'Mega Millions', 'Mega Millions', 'Florida', 'Right', 'Florida', 'July', 'Florida', 'Georgia', 'Tennessee', 'Georgia', 'Illinois', 'Okay', 'Nick', 'Urbana School District', 'Okay', 'PrintShop', 'Urbana High School', 'Canva', 'Melissa Kearns', 'Canva', 'Alex Riley', 'Urbana High School', 'Again', 'Urbana High School', 'Canva', 'Canva', 'Riley Wills', 'Riley Wills', 'Urbana High School', 'Liz', 'Say', 'Canva', 'Urbana High School', 'Wait', 'Okay', 'Urbana High School', 'Urbana', 'Arilene', 'Okay', 'Canva', 'Alex Riley', 'Okay', 'Liz', 'Canva', 'Canva', 'PDF', 'Adobe', 'Google Sheet', 'PDF', 'TikTok', 'Canva', 'Canva', 'Teachers', 'Canva', 'Shanda', 'Google Sheets', 'Jacob', 'Frankenstein', 'Kim Fizby', 'Louisiana', 'Kiwi', 'Jacob', 'Google Classroom', 'Sounds', 'PDH', 'Alex', 'GEMS', 'GEMS', 'GEMS', 'GEMS', 'Okay', 'PDH', 'PDH', 'Nick', 'Okay', 'PDH', 'COPE', 'Okay', 'Alex', 'Vonda', 'Okay', 'Okay', 'Submit', 'Okay', 'Okay', 'Okay', 'Okay', 'Okay', 'Okay', 'Submit', 'Okay', 'Totally', 'Okay', 'Okay', 'Okay', 'CSPD', 'James', 'Amanda Perez', 'Caroline Layton', 'Right', 'Okay', 'Canvas', 'Canvas', 'Alex', 'Daniel', 'Okay', 'Okay', 'Lesson', 'Louisiana', 'Bob Rauber', 'Ryan', 'COVID', 'Zoom', 'Switch', 'AP Chem', 'AP Chem', 'Kevin', 'Stina', 'Okay', 'Ashton', 'Louisiana', 'Steena', 'NGSS', 'Cause', 'Hey', 'NGSS', 'Alex', 'Zach', 'Alex', 'Zach', 'Alex', 'Zach', 'Alex', 'Alex', 'AP', 'AP', 'Liz', 'Which', 'Okay', 'COVID', 'Urbana', 'Okay', 'Dennis', 'Okay', 'Perfect', 'ISBE', 'PEHs', 'Suzanne', 'Leslie', 'PEH', 'IEIN', 'PEH', 'Adam', 'Okay', 'Adam', 'Okay', 'Liz', 'National Science Foundation', 'James', 'James', 'AP', 'COVID', 'SHIELD', 'Burke', 'Right', 'Marty', 'James', 'Dave']\n"
          ]
        }
      ]
    }
  ],
  "metadata": {
    "colab": {
      "provenance": [],
      "include_colab_link": true
    },
    "kernelspec": {
      "display_name": "Python 3",
      "name": "python3"
    },
    "language_info": {
      "name": "python"
    }
  },
  "nbformat": 4,
  "nbformat_minor": 0
}