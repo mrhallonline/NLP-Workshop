{
  "cells": [
    {
      "cell_type": "markdown",
      "metadata": {
        "id": "view-in-github",
        "colab_type": "text"
      },
      "source": [
        "<a href=\"https://colab.research.google.com/github/mrhallonline/NLP-Workshop/blob/main/Module_3_Basic_analysis_and_Analysis_Workshop_Natural_Language_Toolkit_(NLTK)_V3.ipynb\" target=\"_parent\"><img src=\"https://colab.research.google.com/assets/colab-badge.svg\" alt=\"Open In Colab\"/></a>"
      ]
    },
    {
      "cell_type": "markdown",
      "metadata": {
        "id": "XI8uUvrQMkxD"
      },
      "source": [
        "## 3.0 Basic analysis  (?? minutes)\n",
        "1. Words\n",
        "  *   Counting/Sorting\n",
        "  *   Concordance\n",
        "  * n-grams/colocations\n",
        "3. Data Visualization\n",
        "  *   plot distribution\n",
        "3. POS Tagging\n",
        "4. Parsing"
      ]
    },
    {
      "cell_type": "markdown",
      "source": [
        "# 3.1 We will need to remount Google Drive and create word tokens similar to last module since we are starting on a new Colab notebook."
      ],
      "metadata": {
        "id": "IznhbRQnzQlw"
      }
    },
    {
      "cell_type": "code",
      "source": [
        "from google.colab import drive\n",
        "drive.mount('/content/drive')"
      ],
      "metadata": {
        "colab": {
          "base_uri": "https://localhost:8080/"
        },
        "id": "4zpU53T5wRhe",
        "outputId": "55c06aa6-4fe5-4fce-8786-5dd7abe96596"
      },
      "execution_count": 3,
      "outputs": [
        {
          "output_type": "stream",
          "name": "stdout",
          "text": [
            "Mounted at /content/drive\n"
          ]
        }
      ]
    },
    {
      "cell_type": "code",
      "source": [
        "import nltk\n",
        "from nltk.tokenize import word_tokenize\n",
        "nltk.download('punkt')\n",
        "\n",
        "# load data from existing text file\n",
        "filename = '/content/drive/MyDrive/raw_uncertaintyText.txt'\n",
        "uncertaintyText = open(filename, 'rt', encoding='utf-8', errors='replace')\n",
        "\n",
        "raw_uncertaintyText = uncertaintyText.read()\n",
        "uncertaintyText.close()\n",
        "\n",
        "# Word Tokenization\n",
        "#uncertainty_wordTokens = nltk.word_tokenize(raw_uncertaintyText)\n",
        "\n",
        "# Regular expression tokenizing Gaps =False\n",
        "pattern = r'\\s+'\n",
        "uncertainty_wordTokens = nltk.regexp_tokenize(raw_uncertaintyText, pattern, gaps=True)\n",
        "\n",
        "# Creating a Text object from the tokens\n",
        "uncertainty_wordTextObjects = nltk.Text(uncertainty_wordTokens)\n",
        "\n",
        "print(\"raw_uncertaintyText is a: \",type(raw_uncertaintyText))\n",
        "print(\"uncertainty_wordTokens is a: \",type(uncertainty_wordTokens))\n",
        "print(\"uncertainty_wordTextObjects is a: \",type(uncertainty_wordTextObjects))"
      ],
      "metadata": {
        "colab": {
          "base_uri": "https://localhost:8080/"
        },
        "id": "5GJpXbUdwLg3",
        "outputId": "5b6965d2-27a4-4c96-f9ad-45d20091fe64"
      },
      "execution_count": 42,
      "outputs": [
        {
          "output_type": "stream",
          "name": "stdout",
          "text": [
            "raw_uncertaintyText is a:  <class 'str'>\n",
            "uncertainty_wordTokens is a:  <class 'list'>\n",
            "uncertainty_wordTextObjects is a:  <class 'nltk.text.Text'>\n"
          ]
        },
        {
          "output_type": "stream",
          "name": "stderr",
          "text": [
            "[nltk_data] Downloading package punkt to /root/nltk_data...\n",
            "[nltk_data]   Package punkt is already up-to-date!\n"
          ]
        }
      ]
    },
    {
      "cell_type": "markdown",
      "metadata": {
        "id": "W7_V0iG6kwxK"
      },
      "source": [
        "# 3.2 We can look for some simple frequencies and word counts using the word tokens variable:\n",
        "uncertainty_wordTokens"
      ]
    },
    {
      "cell_type": "code",
      "source": [
        "# word count\n",
        "len(uncertainty_wordTokens)"
      ],
      "metadata": {
        "colab": {
          "base_uri": "https://localhost:8080/"
        },
        "id": "jb7XRPlY1Xt5",
        "outputId": "dd5f48e8-a36b-4822-a702-083c836d6c17"
      },
      "execution_count": 43,
      "outputs": [
        {
          "output_type": "execute_result",
          "data": {
            "text/plain": [
              "13120"
            ]
          },
          "metadata": {},
          "execution_count": 43
        }
      ]
    },
    {
      "cell_type": "markdown",
      "source": [
        "The sorted set lists and alphabetizes all words that appear at least once throughout the document."
      ],
      "metadata": {
        "id": "mKbtnKtJ2TzF"
      }
    },
    {
      "cell_type": "code",
      "source": [
        "sorted(set(uncertainty_wordTokens[0:25]))"
      ],
      "metadata": {
        "colab": {
          "base_uri": "https://localhost:8080/"
        },
        "id": "UdAhW-jo1-2q",
        "outputId": "9550bc8b-4912-4391-fea5-0c657eb3588c"
      },
      "execution_count": 55,
      "outputs": [
        {
          "output_type": "execute_result",
          "data": {
            "text/plain": [
              "['6,',\n",
              " 'Always',\n",
              " 'Eric.',\n",
              " 'I',\n",
              " \"I've\",\n",
              " \"It's\",\n",
              " 'Unless',\n",
              " 'Yes.',\n",
              " 'about',\n",
              " 'assumptions.',\n",
              " 'basic',\n",
              " 'been',\n",
              " 'case,',\n",
              " \"don't.\",\n",
              " 'go',\n",
              " 'in',\n",
              " \"it's\",\n",
              " 'right?',\n",
              " 'sitting',\n",
              " 'so.',\n",
              " 'someone',\n",
              " 'table',\n",
              " 'that',\n",
              " 'think',\n",
              " 'with']"
            ]
          },
          "metadata": {},
          "execution_count": 55
        }
      ]
    },
    {
      "cell_type": "code",
      "execution_count": 45,
      "metadata": {
        "colab": {
          "base_uri": "https://localhost:8080/"
        },
        "id": "05P5hdg7mwn3",
        "outputId": "1e71ae45-476a-4f62-a6c0-b86ab7c38611"
      },
      "outputs": [
        {
          "output_type": "execute_result",
          "data": {
            "text/plain": [
              "[('I', 524),\n",
              " ('to', 402),\n",
              " ('the', 374),\n",
              " ('you', 341),\n",
              " ('a', 212),\n",
              " ('that', 185),\n",
              " ('is', 172),\n",
              " ('it', 154),\n",
              " ('do', 141),\n",
              " ('of', 136),\n",
              " ('this', 119),\n",
              " ('and', 118),\n",
              " ('just', 117),\n",
              " (\"don't\", 110),\n",
              " ('So', 105),\n",
              " (\"It's\", 101),\n",
              " ('have', 100),\n",
              " (\"I'm\", 99),\n",
              " ('like', 95),\n",
              " ('know', 93),\n",
              " ('going', 88),\n",
              " ('be', 81),\n",
              " ('And', 81),\n",
              " (\"it's\", 76),\n",
              " ('in', 75)]"
            ]
          },
          "metadata": {},
          "execution_count": 45
        }
      ],
      "source": [
        "#Top 25 most common words\n",
        "fd = nltk.FreqDist(uncertainty_wordTokens)\n",
        "fd.most_common(25)\n"
      ]
    },
    {
      "cell_type": "code",
      "execution_count": 46,
      "metadata": {
        "colab": {
          "base_uri": "https://localhost:8080/"
        },
        "id": "BTWrxZ7we4iF",
        "outputId": "75007c61-f794-4823-dcdf-02705692993a"
      },
      "outputs": [
        {
          "output_type": "stream",
          "name": "stdout",
          "text": [
            "    I    to   the   you     a  that    is    it    do    of  this   and  just don't    So  It's  have   I'm  like  know going    be   And  it's    in \n",
            "  524   402   374   341   212   185   172   154   141   136   119   118   117   110   105   101   100    99    95    93    88    81    81    76    75 \n"
          ]
        }
      ],
      "source": [
        "#Top 25 most common words easier to read from page\n",
        "fd.tabulate(25)"
      ]
    },
    {
      "cell_type": "code",
      "execution_count": 47,
      "metadata": {
        "id": "Ci4n3j7I29Yq",
        "colab": {
          "base_uri": "https://localhost:8080/",
          "height": 492
        },
        "outputId": "e002abe7-0c15-4885-de49-c701a652bbd6"
      },
      "outputs": [
        {
          "output_type": "display_data",
          "data": {
            "text/plain": [
              "<Figure size 640x480 with 1 Axes>"
            ],
            "image/png": "[encoded data removed]"
          },
          "metadata": {}
        },
        {
          "output_type": "execute_result",
          "data": {
            "text/plain": [
              "<Axes: xlabel='Samples', ylabel='Cumulative Counts'>"
            ]
          },
          "metadata": {},
          "execution_count": 47
        }
      ],
      "source": [
        "# Cumulative plot of top 25 words\n",
        "fd.plot(25, cumulative=True)"
      ]
    },
    {
      "cell_type": "code",
      "execution_count": 48,
      "metadata": {
        "id": "v8w2BywIbudW",
        "colab": {
          "base_uri": "https://localhost:8080/",
          "height": 430
        },
        "outputId": "2a918543-efba-44ab-adb8-acdac97135e2"
      },
      "outputs": [
        {
          "output_type": "display_data",
          "data": {
            "text/plain": [
              "<Figure size 640x480 with 1 Axes>"
            ],
            "image/png": "[encoded data removed]"
          },
          "metadata": {}
        }
      ],
      "source": [
        "from matplotlib import pyplot as plt\n",
        "# Create a frequency distribution\n",
        "#fd = nltk.FreqDist(tokens_nltk_text)\n",
        "\n",
        "# Get the 10 most common words and their counts\n",
        "common = fd.most_common(10)\n",
        "\n",
        "# Unzip the words and counts into two separate lists\n",
        "words, counts = zip(*common)\n",
        "\n",
        "# Create a bar graph\n",
        "plt.bar(words, counts)\n",
        "plt.show()"
      ]
    },
    {
      "cell_type": "markdown",
      "metadata": {
        "id": "cyO0jHoDNwTs"
      },
      "source": [
        "# 3.3 More quick analysis options\n",
        "1. concordance\n",
        "2. similar words\n",
        "3. dispersion plots\n"
      ]
    },
    {
      "cell_type": "code",
      "execution_count": 49,
      "metadata": {
        "id": "yitbvU7wI870",
        "colab": {
          "base_uri": "https://localhost:8080/"
        },
        "outputId": "f2d24a00-a9b3-498a-a24b-d3c0b2f3a1e7"
      },
      "outputs": [
        {
          "output_type": "stream",
          "name": "stdout",
          "text": [
            "Displaying 15 of 19 matches:\n",
            "ning. Ever? This week. I don't know, maybe you have to clean some other day. No\n",
            " did I tell you? I told you. I said, maybe I don't know how graphs work. And I \n",
            "onding y value is negative 15. Yeah. Maybe you should mark that on there like y\n",
            "here like you were about to, because maybe that will help you to think about, o\n",
            " how to use it on the test. Okay, so maybe on the next one you will. You can do\n",
            "r signs. Okay. I think, though, that maybe you guys are still a little confused\n",
            "minus 4.6 would be minus 6. Yeah. So maybe if I do this- I know it's not really\n",
            "dea. 1.48. I have no idea. Actually, maybe 1.38? 1.39. 3.9. According to hers. \n",
            " questions. Are there any questions? Maybe you should ask if anyone did it diff\n",
            "en to us talk about jobs. It's okay. Maybe they can find us a job. I need a job\n",
            " a lot of journals, so I don't know. Maybe I can get a freshman to do it for me\n",
            "first question? Just 2.5 points. Oh. Maybe there's a project involved. Wow. And\n",
            "trying to figure out how to convert. Maybe we should use an example like, what \n",
            "'s find out. If you want to try one, maybe try with 30 degrees. Pretend like yo\n",
            "o do right now is pass out this. And maybe you should just do a couple of these\n"
          ]
        }
      ],
      "source": [
        "uncertainty_wordTextObjects.concordance('maybe', lines = 15)"
      ]
    },
    {
      "cell_type": "code",
      "execution_count": 51,
      "metadata": {
        "id": "sEgky9YxcczQ",
        "colab": {
          "base_uri": "https://localhost:8080/"
        },
        "outputId": "78f2f6ab-3769-438a-975d-9f5bd0e45728"
      },
      "outputs": [
        {
          "output_type": "stream",
          "name": "stdout",
          "text": [
            "so if do get i think did told what love want got then like it because\n",
            "you can took have\n"
          ]
        }
      ],
      "source": [
        "uncertainty_wordTextObjects.similar(\"maybe\")"
      ]
    },
    {
      "cell_type": "code",
      "execution_count": 53,
      "metadata": {
        "id": "aEe6jT7pklF5",
        "colab": {
          "base_uri": "https://localhost:8080/",
          "height": 472
        },
        "outputId": "0ce21ebb-eddd-4643-87be-e9e18344c42f"
      },
      "outputs": [
        {
          "output_type": "display_data",
          "data": {
            "text/plain": [
              "<Figure size 640x480 with 1 Axes>"
            ],
            "image/png": "[encoded data removed]"
          },
          "metadata": {}
        }
      ],
      "source": [
        "uncertainty_wordTextObjects.dispersion_plot([\"eric\",\"felix\", \"math\"])"
      ]
    },
    {
      "cell_type": "markdown",
      "metadata": {
        "id": "EyqhrJ7IOD-O"
      },
      "source": [
        "# 3.4 n-grams and colocations\n",
        "1. bigrams\n",
        "2. trigrams\n"
      ]
    },
    {
      "cell_type": "code",
      "execution_count": null,
      "metadata": {
        "id": "toam7i9Gkvhu"
      },
      "outputs": [],
      "source": [
        "Educative_bigrams = list(nltk.bigrams(uncertainty_wordTextObjects))\n",
        "Educative_bigrams"
      ]
    },
    {
      "cell_type": "code",
      "execution_count": null,
      "metadata": {
        "id": "3jUbcASUZwQT"
      },
      "outputs": [],
      "source": [
        "Educative_trigrams = list(nltk.trigrams(uncertainty_wordTextObjects))\n",
        "Educative_trigrams"
      ]
    },
    {
      "cell_type": "code",
      "execution_count": 27,
      "metadata": {
        "colab": {
          "base_uri": "https://localhost:8080/"
        },
        "id": "R2zRzp6Zhd2v",
        "outputId": "10dece00-ab05-4044-9cbe-b24bf834e437"
      },
      "outputs": [
        {
          "output_type": "stream",
          "name": "stdout",
          "text": [
            "     ('.', 'I')   ('do', \"n't\")     ('.', 'It')    ('It', \"'s\")     ('.', 'So')     ('I', \"'m\")     ('I', 'do') ('going', 'to')    ('it', \"'s\")      (',', 'I')    ('.', 'And')      ('?', 'I')    ('.', 'You')   ('.', 'Yeah')     ('.', 'Oh')     ('Oh', ',') (\"n't\", 'know')     ('it', '.')   ('.', 'What')   ('Yeah', '.')    (',', 'but')   ('like', ',')    ('to', 'do')    (',', 'you')   ('.', 'That') \n",
            "            280             113             108             102             101              99              86              81              77              77              76              75              64              64              63              60              55              54              54              53              52              51              49              49              48 \n"
          ]
        }
      ],
      "source": [
        "finder = nltk.collocations.BigramCollocationFinder.from_words(uncertainty_wordTextObjects)\n",
        "finder.ngram_fd.tabulate(25)"
      ]
    },
    {
      "cell_type": "code",
      "execution_count": 28,
      "metadata": {
        "colab": {
          "base_uri": "https://localhost:8080/"
        },
        "id": "wEPNcD6W9K2o",
        "outputId": "35e3088b-ec67-44f7-c31a-ee7ceed2123e"
      },
      "outputs": [
        {
          "output_type": "stream",
          "name": "stdout",
          "text": [
            "    ('I', 'do', \"n't\")      ('.', 'It', \"'s\")       ('.', 'I', \"'m\")  ('do', \"n't\", 'know')       ('.', 'Oh', ',')       ('.', 'I', 'do')    ('.', 'That', \"'s\")     ('.', 'Yeah', ',')     ('.', 'Yeah', '.')   ('I', \"'m\", 'going')  (\"'m\", 'going', 'to')     ('.', 'Okay', '.')       ('?', 'I', 'do')    ('.', 'I', 'think')     ('?', 'Yeah', '.')   (\"n't\", 'know', '.')     ('.', 'Okay', ',')   ('.', 'And', 'then')      (',', 'it', \"'s\") (\"'re\", 'going', 'to')  ('know', 'how', 'to')     ('.', 'I', 'know')  ('going', 'to', 'be')      ('?', 'It', \"'s\")       ('.', 'No', ',') \n",
            "                    81                     79                     45                     45                     45                     37                     37                     33                     31                     25                     25                     23                     23                     22                     22                     21                     20                     20                     19                     18                     18                     17                     17                     17                     17 \n"
          ]
        }
      ],
      "source": [
        "finder = nltk.collocations.TrigramCollocationFinder.from_words(uncertainty_wordTextObjects)\n",
        "finder.ngram_fd.tabulate(25)"
      ]
    },
    {
      "cell_type": "code",
      "execution_count": 29,
      "metadata": {
        "colab": {
          "base_uri": "https://localhost:8080/"
        },
        "id": "EdyWCRp99YYT",
        "outputId": "c530717f-c0e1-487b-efb6-0f0c5a649e30"
      },
      "outputs": [
        {
          "output_type": "stream",
          "name": "stdout",
          "text": [
            "      ('I', 'do', \"n't\", 'know')          ('.', 'I', 'do', \"n't\")       ('I', \"'m\", 'going', 'to')          ('?', 'I', 'do', \"n't\")       ('do', \"n't\", 'know', '.')          ('to', 'do', 'it', '.')        ('.', 'It', \"'s\", 'like') ('this', 'plus', 'this', 'plus') ('plus', 'this', 'plus', 'this')       ('I', 'do', \"n't\", 'want')      ('do', \"n't\", 'want', 'to')          ('.', 'Yeah', ',', 'I')     ('do', \"n't\", 'know', 'how')     (\"n't\", 'know', 'how', 'to')      ('know', 'how', 'to', 'do')         ('.', 'I', 'did', \"n't\")        ('.', 'How', 'do', 'you')        ('.', 'I', \"'m\", 'going')    ('do', \"n't\", 'know', 'what')          ('.', 'Oh', ',', 'you')     ('you', \"'re\", 'right', '.')           (',', 'no', ',', 'no')          ('.', 'I', 'ca', \"n't\")          ('.', 'It', \"'s\", 'so')          (',', 'I', 'do', \"n't\") \n",
            "                              43                               37                               25                               23                               21                               10                               10                               10                               10                                9                                9                                9                                9                                9                                9                                9                                9                                9                                8                                8                                8                                8                                8                                7                                7 \n"
          ]
        }
      ],
      "source": [
        "from nltk.util import ngrams\n",
        "\n",
        "n_value = 4  # Change this for different n values\n",
        "fourgrams = ngrams(uncertainty_wordTextObjects, n_value)\n",
        "\n",
        "# Tabulate the top n-grams\n",
        "fdist = nltk.FreqDist(fourgrams)\n",
        "fdist.tabulate(25)  # Top 10 fourgrams\n"
      ]
    },
    {
      "cell_type": "code",
      "execution_count": 32,
      "metadata": {
        "colab": {
          "base_uri": "https://localhost:8080/"
        },
        "id": "vLncKxDWXWiE",
        "outputId": "cb01b0f1-6146-4a4a-cae7-3c185d65b778"
      },
      "outputs": [
        {
          "output_type": "stream",
          "name": "stdout",
          "text": [
            "oh_i oh_yeah like_i class_we it_it excellent_they project_okay\n",
            "amplitude_period work_i right_what calculator_i days_i school_and\n",
            "that_they okay_you day_that solutions_there added_you here_it here_and\n"
          ]
        }
      ],
      "source": [
        "uncertainty_wordTextObjects.common_contexts([\"yeah\", \"yeah\"])"
      ]
    },
    {
      "cell_type": "markdown",
      "source": [
        "# 4.0 Activity\n",
        "* Provide participants with a sample transcribed text from the middle school math class.\n",
        "* They will identify:\n",
        "** Common themes or topics discussed.\n",
        "** Questions posed by students indicating uncertainty (using the words we discussed earlier like \"maybe\", \"think\" etc.).\n",
        "** Any specific theories, tools, or names that are frequently mentioned.\n",
        "* Discuss the findings as a group."
      ],
      "metadata": {
        "id": "Q1j0y1_qsOdW"
      }
    },
    {
      "cell_type": "markdown",
      "metadata": {
        "id": "XAN46LK6q-qZ"
      },
      "source": [
        "# Further Usage\n",
        "\n",
        "Load Uncertainty Words:Load your list of words that denote uncertainty. This list can be stored as a simple Python list.\n",
        "Load Text Files: Load the content of your three text files."
      ]
    },
    {
      "cell_type": "markdown",
      "metadata": {
        "id": "aeYA3nB8TwPO"
      },
      "source": [
        "Install it using pip install matplotlib. In this code, we use the matplotlib library to create bar plots for each text file, showing the frequency of each uncertainty word. The bar plots are saved as PNG image files with filenames like file_1_word_frequencies.png, file_2_word_frequencies.png, etc. Each plot shows the frequency distribution of uncertainty words in a specific text file.\n",
        "\n",
        "\"maybe\",\"perhaps\",\"unsure\",\"possibly\",\"guess\",\"think\",\"believe\",\"kinda\",\"seem\",\"supposedly\",\"likely\",\"presumably\",\"unclear\",\"doubt\""
      ]
    },
    {
      "cell_type": "code",
      "execution_count": null,
      "metadata": {
        "id": "QyzqNJO7q9Ce"
      },
      "outputs": [],
      "source": [
        "uncertainty_words = [\"help\", \"doubt\", \"difficult\", \"hard\", \"equal\"]\n",
        "\n",
        "text_filed = []\n",
        "text_files_path = ['/content/drive/MyDrive/transcripts/merged/teacher101_merged.txt', '/content/drive/MyDrive/transcripts/merged/teacher102_merged.txt', '/content/drive/MyDrive/transcripts/merged/teacher103_merged.txt']\n",
        "\n",
        "for file_path in text_files_path:\n",
        "    with open(file_path, 'r', encoding='utf-8') as file:\n",
        "        text_filed.append(file.read())\n",
        "text_filed"
      ]
    },
    {
      "cell_type": "markdown",
      "metadata": {
        "id": "KQvzqUXVTCkO"
      },
      "source": [
        "Search for Uncertainty Words:\n",
        "Iterate through the text files and search for the uncertainty words. Count how often each word appears in each file."
      ]
    },
    {
      "cell_type": "code",
      "execution_count": null,
      "metadata": {
        "id": "7cvwWoKCTRfz"
      },
      "outputs": [],
      "source": [
        "word_frequency_per_file = []\n",
        "\n",
        "for text in text_filed:\n",
        "    word_frequency = {}\n",
        "    for word in uncertainty_words:\n",
        "        word_frequency[word] = text.lower().count(word.lower())\n",
        "    word_frequency_per_file.append(word_frequency)\n"
      ]
    }
  ],
  "metadata": {
    "colab": {
      "provenance": [],
      "include_colab_link": true
    },
    "kernelspec": {
      "display_name": "Python 3",
      "name": "python3"
    },
    "language_info": {
      "name": "python"
    }
  },
  "nbformat": 4,
  "nbformat_minor": 0
}