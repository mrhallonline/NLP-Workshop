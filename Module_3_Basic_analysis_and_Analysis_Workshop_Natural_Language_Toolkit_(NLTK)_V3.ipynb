{
  "cells": [
    {
      "cell_type": "markdown",
      "metadata": {
        "id": "view-in-github",
        "colab_type": "text"
      },
      "source": [
        "<a href=\"https://colab.research.google.com/github/mrhallonline/NLP-Workshop/blob/main/Module_3_Basic_analysis_and_Analysis_Workshop_Natural_Language_Toolkit_(NLTK)_V3.ipynb\" target=\"_parent\"><img src=\"https://colab.research.google.com/assets/colab-badge.svg\" alt=\"Open In Colab\"/></a>"
      ]
    },
    {
      "cell_type": "markdown",
      "metadata": {
        "id": "XI8uUvrQMkxD"
      },
      "source": [
        "## 3.0 Basic analysis  (?? minutes)\n",
        "1. Words\n",
        "  *   Counting/Sorting\n",
        "  *   Concordance\n",
        "  * n-grams/colocations\n",
        "3. Data Visualization\n",
        "  *   plot distribution\n",
        "3. POS Tagging\n",
        "4. Parsing"
      ]
    },
    {
      "cell_type": "markdown",
      "source": [
        "# 3.1 We will need to remount Google Drive and create word tokens similar to last module since we are starting on a new Colab notebook."
      ],
      "metadata": {
        "id": "IznhbRQnzQlw"
      }
    },
    {
      "cell_type": "code",
      "source": [
        "from google.colab import drive\n",
        "drive.mount('/content/drive')"
      ],
      "metadata": {
        "id": "4zpU53T5wRhe"
      },
      "execution_count": null,
      "outputs": []
    },
    {
      "cell_type": "code",
      "source": [
        "import nltk\n",
        "from nltk.tokenize import word_tokenize\n",
        "nltk.download('punkt')\n",
        "\n",
        "# load data from existing text file\n",
        "filename = '/content/drive/MyDrive/raw_uncertaintyText.txt'\n",
        "uncertaintyText = open(filename, 'rt', encoding='utf-8', errors='replace')\n",
        "\n",
        "raw_uncertaintyText = uncertaintyText.read()\n",
        "uncertaintyText.close()\n",
        "\n",
        "# Word Tokenization\n",
        "#uncertainty_wordTokens = nltk.word_tokenize(raw_uncertaintyText)\n",
        "\n",
        "# Regular expression tokenizing Gaps =False\n",
        "pattern = r'\\s+'\n",
        "uncertainty_wordTokens = nltk.regexp_tokenize(raw_uncertaintyText, pattern, gaps=True)\n",
        "\n",
        "# Creating a Text object from the tokens\n",
        "uncertainty_wordTextObjects = nltk.Text(uncertainty_wordTokens)\n",
        "\n",
        "print(\"raw_uncertaintyText is a: \",type(raw_uncertaintyText))\n",
        "print(\"uncertainty_wordTokens is a: \",type(uncertainty_wordTokens))\n",
        "print(\"uncertainty_wordTextObjects is a: \",type(uncertainty_wordTextObjects))"
      ],
      "metadata": {
        "id": "5GJpXbUdwLg3"
      },
      "execution_count": null,
      "outputs": []
    },
    {
      "cell_type": "markdown",
      "metadata": {
        "id": "W7_V0iG6kwxK"
      },
      "source": [
        "# 3.2 We can look for some simple frequencies and word counts using the word tokens variable:\n",
        "uncertainty_wordTokens"
      ]
    },
    {
      "cell_type": "code",
      "source": [
        "# word count\n",
        "len(uncertainty_wordTokens)"
      ],
      "metadata": {
        "id": "jb7XRPlY1Xt5"
      },
      "execution_count": null,
      "outputs": []
    },
    {
      "cell_type": "markdown",
      "source": [
        "The sorted set lists and alphabetizes all words that appear at least once throughout the document."
      ],
      "metadata": {
        "id": "mKbtnKtJ2TzF"
      }
    },
    {
      "cell_type": "code",
      "source": [
        "sorted(set(uncertainty_wordTokens[0:25]))"
      ],
      "metadata": {
        "id": "UdAhW-jo1-2q"
      },
      "execution_count": null,
      "outputs": []
    },
    {
      "cell_type": "code",
      "execution_count": null,
      "metadata": {
        "id": "05P5hdg7mwn3"
      },
      "outputs": [],
      "source": [
        "#Top 25 most common words\n",
        "fd = nltk.FreqDist(uncertainty_wordTokens)\n",
        "fd.most_common(25)\n"
      ]
    },
    {
      "cell_type": "code",
      "execution_count": null,
      "metadata": {
        "id": "BTWrxZ7we4iF"
      },
      "outputs": [],
      "source": [
        "#Top 25 most common words easier to read from page\n",
        "fd.tabulate(25)"
      ]
    },
    {
      "cell_type": "code",
      "execution_count": null,
      "metadata": {
        "id": "Ci4n3j7I29Yq"
      },
      "outputs": [],
      "source": [
        "# Cumulative plot of top 25 words\n",
        "fd.plot(25, cumulative=True)"
      ]
    },
    {
      "cell_type": "code",
      "execution_count": null,
      "metadata": {
        "id": "v8w2BywIbudW",
        "colab": {
          "base_uri": "https://localhost:8080/",
          "height": 430
        },
        "outputId": "2a918543-efba-44ab-adb8-acdac97135e2"
      },
      "outputs": [
        {
          "output_type": "display_data",
          "data": {
            "text/plain": [
              "<Figure size 640x480 with 1 Axes>"
            ],
            "image/png": "[encoded data removed]"
          },
          "metadata": {}
        }
      ],
      "source": [
        "from matplotlib import pyplot as plt\n",
        "# Create a frequency distribution\n",
        "#fd = nltk.FreqDist(tokens_nltk_text)\n",
        "\n",
        "# Get the 10 most common words and their counts\n",
        "common = fd.most_common(10)\n",
        "\n",
        "# Unzip the words and counts into two separate lists\n",
        "words, counts = zip(*common)\n",
        "\n",
        "# Create a bar graph\n",
        "plt.bar(words, counts)\n",
        "plt.show()"
      ]
    },
    {
      "cell_type": "markdown",
      "metadata": {
        "id": "cyO0jHoDNwTs"
      },
      "source": [
        "# 3.3 More quick analysis options\n",
        "1. concordance\n",
        "2. similar words\n",
        "3. dispersion plots\n"
      ]
    },
    {
      "cell_type": "code",
      "execution_count": null,
      "metadata": {
        "id": "yitbvU7wI870"
      },
      "outputs": [],
      "source": [
        "uncertainty_wordTextObjects.concordance('maybe', lines = 15)"
      ]
    },
    {
      "cell_type": "code",
      "execution_count": null,
      "metadata": {
        "id": "sEgky9YxcczQ"
      },
      "outputs": [],
      "source": [
        "uncertainty_wordTextObjects.similar(\"maybe\")"
      ]
    },
    {
      "cell_type": "code",
      "execution_count": null,
      "metadata": {
        "id": "aEe6jT7pklF5",
        "colab": {
          "base_uri": "https://localhost:8080/",
          "height": 472
        },
        "outputId": "0ce21ebb-eddd-4643-87be-e9e18344c42f"
      },
      "outputs": [
        {
          "output_type": "display_data",
          "data": {
            "text/plain": [
              "<Figure size 640x480 with 1 Axes>"
            ],
            "image/png": "[encoded data removed]"
          },
          "metadata": {}
        }
      ],
      "source": [
        "uncertainty_wordTextObjects.dispersion_plot([\"eric\",\"felix\", \"math\"])"
      ]
    },
    {
      "cell_type": "markdown",
      "metadata": {
        "id": "EyqhrJ7IOD-O"
      },
      "source": [
        "# 3.4 n-grams and colocations\n",
        "1. bigrams\n",
        "2. trigrams\n"
      ]
    },
    {
      "cell_type": "code",
      "execution_count": null,
      "metadata": {
        "id": "toam7i9Gkvhu"
      },
      "outputs": [],
      "source": [
        "Educative_bigrams = list(nltk.bigrams(uncertainty_wordTextObjects))\n",
        "Educative_bigrams"
      ]
    },
    {
      "cell_type": "code",
      "execution_count": null,
      "metadata": {
        "id": "3jUbcASUZwQT"
      },
      "outputs": [],
      "source": [
        "Educative_trigrams = list(nltk.trigrams(uncertainty_wordTextObjects))\n",
        "Educative_trigrams"
      ]
    },
    {
      "cell_type": "code",
      "execution_count": null,
      "metadata": {
        "colab": {
          "base_uri": "https://localhost:8080/"
        },
        "id": "R2zRzp6Zhd2v",
        "outputId": "10dece00-ab05-4044-9cbe-b24bf834e437"
      },
      "outputs": [
        {
          "output_type": "stream",
          "name": "stdout",
          "text": [
            "     ('.', 'I')   ('do', \"n't\")     ('.', 'It')    ('It', \"'s\")     ('.', 'So')     ('I', \"'m\")     ('I', 'do') ('going', 'to')    ('it', \"'s\")      (',', 'I')    ('.', 'And')      ('?', 'I')    ('.', 'You')   ('.', 'Yeah')     ('.', 'Oh')     ('Oh', ',') (\"n't\", 'know')     ('it', '.')   ('.', 'What')   ('Yeah', '.')    (',', 'but')   ('like', ',')    ('to', 'do')    (',', 'you')   ('.', 'That') \n",
            "            280             113             108             102             101              99              86              81              77              77              76              75              64              64              63              60              55              54              54              53              52              51              49              49              48 \n"
          ]
        }
      ],
      "source": [
        "finder = nltk.collocations.BigramCollocationFinder.from_words(uncertainty_wordTextObjects)\n",
        "finder.ngram_fd.tabulate(25)"
      ]
    },
    {
      "cell_type": "code",
      "execution_count": null,
      "metadata": {
        "colab": {
          "base_uri": "https://localhost:8080/"
        },
        "id": "wEPNcD6W9K2o",
        "outputId": "35e3088b-ec67-44f7-c31a-ee7ceed2123e"
      },
      "outputs": [
        {
          "output_type": "stream",
          "name": "stdout",
          "text": [
            "    ('I', 'do', \"n't\")      ('.', 'It', \"'s\")       ('.', 'I', \"'m\")  ('do', \"n't\", 'know')       ('.', 'Oh', ',')       ('.', 'I', 'do')    ('.', 'That', \"'s\")     ('.', 'Yeah', ',')     ('.', 'Yeah', '.')   ('I', \"'m\", 'going')  (\"'m\", 'going', 'to')     ('.', 'Okay', '.')       ('?', 'I', 'do')    ('.', 'I', 'think')     ('?', 'Yeah', '.')   (\"n't\", 'know', '.')     ('.', 'Okay', ',')   ('.', 'And', 'then')      (',', 'it', \"'s\") (\"'re\", 'going', 'to')  ('know', 'how', 'to')     ('.', 'I', 'know')  ('going', 'to', 'be')      ('?', 'It', \"'s\")       ('.', 'No', ',') \n",
            "                    81                     79                     45                     45                     45                     37                     37                     33                     31                     25                     25                     23                     23                     22                     22                     21                     20                     20                     19                     18                     18                     17                     17                     17                     17 \n"
          ]
        }
      ],
      "source": [
        "finder = nltk.collocations.TrigramCollocationFinder.from_words(uncertainty_wordTextObjects)\n",
        "finder.ngram_fd.tabulate(25)"
      ]
    },
    {
      "cell_type": "code",
      "execution_count": null,
      "metadata": {
        "colab": {
          "base_uri": "https://localhost:8080/"
        },
        "id": "EdyWCRp99YYT",
        "outputId": "c530717f-c0e1-487b-efb6-0f0c5a649e30"
      },
      "outputs": [
        {
          "output_type": "stream",
          "name": "stdout",
          "text": [
            "      ('I', 'do', \"n't\", 'know')          ('.', 'I', 'do', \"n't\")       ('I', \"'m\", 'going', 'to')          ('?', 'I', 'do', \"n't\")       ('do', \"n't\", 'know', '.')          ('to', 'do', 'it', '.')        ('.', 'It', \"'s\", 'like') ('this', 'plus', 'this', 'plus') ('plus', 'this', 'plus', 'this')       ('I', 'do', \"n't\", 'want')      ('do', \"n't\", 'want', 'to')          ('.', 'Yeah', ',', 'I')     ('do', \"n't\", 'know', 'how')     (\"n't\", 'know', 'how', 'to')      ('know', 'how', 'to', 'do')         ('.', 'I', 'did', \"n't\")        ('.', 'How', 'do', 'you')        ('.', 'I', \"'m\", 'going')    ('do', \"n't\", 'know', 'what')          ('.', 'Oh', ',', 'you')     ('you', \"'re\", 'right', '.')           (',', 'no', ',', 'no')          ('.', 'I', 'ca', \"n't\")          ('.', 'It', \"'s\", 'so')          (',', 'I', 'do', \"n't\") \n",
            "                              43                               37                               25                               23                               21                               10                               10                               10                               10                                9                                9                                9                                9                                9                                9                                9                                9                                9                                8                                8                                8                                8                                8                                7                                7 \n"
          ]
        }
      ],
      "source": [
        "from nltk.util import ngrams\n",
        "\n",
        "n_value = 4  # Change this for different n values\n",
        "fourgrams = ngrams(uncertainty_wordTextObjects, n_value)\n",
        "\n",
        "# Tabulate the top n-grams\n",
        "fdist = nltk.FreqDist(fourgrams)\n",
        "fdist.tabulate(25)  # Top 10 fourgrams\n"
      ]
    },
    {
      "cell_type": "code",
      "execution_count": null,
      "metadata": {
        "colab": {
          "base_uri": "https://localhost:8080/"
        },
        "id": "vLncKxDWXWiE",
        "outputId": "cb01b0f1-6146-4a4a-cae7-3c185d65b778"
      },
      "outputs": [
        {
          "output_type": "stream",
          "name": "stdout",
          "text": [
            "oh_i oh_yeah like_i class_we it_it excellent_they project_okay\n",
            "amplitude_period work_i right_what calculator_i days_i school_and\n",
            "that_they okay_you day_that solutions_there added_you here_it here_and\n"
          ]
        }
      ],
      "source": [
        "uncertainty_wordTextObjects.common_contexts([\"yeah\", \"yeah\"])"
      ]
    },
    {
      "cell_type": "markdown",
      "source": [
        "# 4.0 Activity\n",
        "* Provide participants with a sample transcribed text from the middle school math class.\n",
        "* They will identify:\n",
        "** Common themes or topics discussed.\n",
        "** Questions posed by students indicating uncertainty (using the words we discussed earlier like \"maybe\", \"think\" etc.).\n",
        "** Any specific theories, tools, or names that are frequently mentioned.\n",
        "* Discuss the findings as a group."
      ],
      "metadata": {
        "id": "Q1j0y1_qsOdW"
      }
    },
    {
      "cell_type": "markdown",
      "source": [],
      "metadata": {
        "id": "bsZyzAsKAy97"
      }
    },
    {
      "cell_type": "code",
      "source": [
        "import nltk\n",
        "from nltk import ngrams\n",
        "from nltk.tokenize import sent_tokenize, word_tokenize\n",
        "from collections import Counter\n",
        "import matplotlib.pyplot as plt\n",
        "\n",
        "# Sample Text Corpus (replace this with your own)\n",
        "text_corpus = \"\"\"\n",
        "Maybe I am wrong about this. I think this could be the solution.\n",
        "I'm not sure, maybe we should ask the teacher.\n",
        "Maybe the formula needs to be revised.\n",
        "I think it's a quadratic equation, maybe we should plot it.\n",
        "\"\"\"\n",
        "\n",
        "# Download required datasets\n",
        "nltk.download('punkt')\n",
        "\n",
        "# Function to get n-grams\n",
        "def get_ngrams(text, n):\n",
        "    words = word_tokenize(text.lower())\n",
        "    generated_ngrams = ngrams(words, n)\n",
        "    return generated_ngrams\n",
        "\n",
        "# Function to interactively explore n-grams\n",
        "def interactive_ngram_explorer():\n",
        "    uncertainty_word = input(\"Enter the word of uncertainty you're interested in (e.g., maybe, think, etc.): \").lower()\n",
        "    n_value = int(input(\"Enter the n-gram length (e.g., 2 for bigrams, 3 for trigrams, etc.): \"))\n",
        "\n",
        "    n_grams = list(get_ngrams(text_corpus, n_value))\n",
        "    filtered_ngrams = [gram for gram in n_grams if uncertainty_word in gram]\n",
        "    ngram_frequencies = Counter(filtered_ngrams)\n",
        "\n",
        "    print(f\"\\nHere are the most common {n_value}-grams containing the word '{uncertainty_word}':\")\n",
        "    for gram, freq in ngram_frequencies.items():\n",
        "        print(f\"{gram}: {freq}\")\n",
        "\n",
        "    # Optional: plot the results\n",
        "    items = ngram_frequencies.items()\n",
        "    labels = [str(i[0]) for i in items]\n",
        "    values = [i[1] for i in items]\n",
        "\n",
        "    plt.figure(figsize=(10,5))\n",
        "    plt.barh(labels, values)\n",
        "    plt.xlabel('Frequency')\n",
        "    plt.title(f\"Most common {n_value}-grams containing the word '{uncertainty_word}'\")\n",
        "    plt.show()\n",
        "\n",
        "# Run the interactive explorer\n",
        "interactive_ngram_explorer()\n"
      ],
      "metadata": {
        "id": "oNU0rysMA03g"
      },
      "execution_count": null,
      "outputs": []
    },
    {
      "cell_type": "markdown",
      "metadata": {
        "id": "XAN46LK6q-qZ"
      },
      "source": [
        "# Further Usage\n",
        "\n",
        "Load Uncertainty Words:Load your list of words that denote uncertainty. This list can be stored as a simple Python list.\n",
        "Load Text Files: Load the content of your three text files."
      ]
    },
    {
      "cell_type": "markdown",
      "metadata": {
        "id": "aeYA3nB8TwPO"
      },
      "source": [
        "Install it using pip install matplotlib. In this code, we use the matplotlib library to create bar plots for each text file, showing the frequency of each uncertainty word. The bar plots are saved as PNG image files with filenames like file_1_word_frequencies.png, file_2_word_frequencies.png, etc. Each plot shows the frequency distribution of uncertainty words in a specific text file.\n",
        "\n",
        "\"maybe\",\"perhaps\",\"unsure\",\"possibly\",\"guess\",\"think\",\"believe\",\"kinda\",\"seem\",\"supposedly\",\"likely\",\"presumably\",\"unclear\",\"doubt\""
      ]
    },
    {
      "cell_type": "code",
      "execution_count": null,
      "metadata": {
        "id": "QyzqNJO7q9Ce"
      },
      "outputs": [],
      "source": [
        "uncertainty_words = [\"help\", \"doubt\", \"difficult\", \"hard\", \"equal\"]\n",
        "\n",
        "text_filed = []\n",
        "text_files_path = ['/content/drive/MyDrive/transcripts/merged/teacher101_merged.txt', '/content/drive/MyDrive/transcripts/merged/teacher102_merged.txt', '/content/drive/MyDrive/transcripts/merged/teacher103_merged.txt']\n",
        "\n",
        "for file_path in text_files_path:\n",
        "    with open(file_path, 'r', encoding='utf-8') as file:\n",
        "        text_filed.append(file.read())\n",
        "text_filed"
      ]
    },
    {
      "cell_type": "markdown",
      "metadata": {
        "id": "KQvzqUXVTCkO"
      },
      "source": [
        "Search for Uncertainty Words:\n",
        "Iterate through the text files and search for the uncertainty words. Count how often each word appears in each file."
      ]
    },
    {
      "cell_type": "code",
      "execution_count": null,
      "metadata": {
        "id": "7cvwWoKCTRfz"
      },
      "outputs": [],
      "source": [
        "word_frequency_per_file = []\n",
        "\n",
        "for text in text_filed:\n",
        "    word_frequency = {}\n",
        "    for word in uncertainty_words:\n",
        "        word_frequency[word] = text.lower().count(word.lower())\n",
        "    word_frequency_per_file.append(word_frequency)\n"
      ]
    }
  ],
  "metadata": {
    "colab": {
      "provenance": [],
      "include_colab_link": true
    },
    "kernelspec": {
      "display_name": "Python 3",
      "name": "python3"
    },
    "language_info": {
      "name": "python"
    }
  },
  "nbformat": 4,
  "nbformat_minor": 0
}